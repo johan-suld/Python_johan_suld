{
 "cells": [
  {
   "cell_type": "code",
   "execution_count": 71,
   "metadata": {},
   "outputs": [],
   "source": [
    "import math\n",
    "\n",
    "class GeometricShape:\n",
    "    def __init__(self, x, y):\n",
    "        self.x = x\n",
    "        self.y = y\n",
    "\n",
    "    def translate(self, x, y):\n",
    "        self.x = x\n",
    "        self.y = y\n",
    "\n",
    "class Circle(GeometricShape):\n",
    "    def __init__(self, x, y, radius):\n",
    "        super().__init__(x, y)\n",
    "        self.radius = radius\n",
    "        self.area = math.pi * radius ** 2\n",
    "        #self._area = self.area(radius)\n",
    "\n",
    "    @property\n",
    "    def area(self):\n",
    "        return self.area\n",
    "\n",
    "    #@area.setter\n",
    "    #def area(self, radius):\n",
    "        #self._area = math.pi * radius ** 2 # kolla om rätt\n",
    "    #    self._area = 2\n"
   ]
  },
  {
   "cell_type": "code",
   "execution_count": 72,
   "metadata": {},
   "outputs": [
    {
     "ename": "AttributeError",
     "evalue": "property 'area' of 'Circle' object has no setter",
     "output_type": "error",
     "traceback": [
      "\u001b[1;31m---------------------------------------------------------------------------\u001b[0m",
      "\u001b[1;31mAttributeError\u001b[0m                            Traceback (most recent call last)",
      "\u001b[1;32mc:\\Users\\Johan\\Documents\\GitHub\\Python_johan_suld\\Labs\\Labb3.ipynb Cell 2\u001b[0m line \u001b[0;36m2\n\u001b[0;32m      <a href='vscode-notebook-cell:/c%3A/Users/Johan/Documents/GitHub/Python_johan_suld/Labs/Labb3.ipynb#W1sZmlsZQ%3D%3D?line=0'>1</a>\u001b[0m \u001b[39m#shape1 = GeometricShape(1, 1)\u001b[39;00m\n\u001b[1;32m----> <a href='vscode-notebook-cell:/c%3A/Users/Johan/Documents/GitHub/Python_johan_suld/Labs/Labb3.ipynb#W1sZmlsZQ%3D%3D?line=1'>2</a>\u001b[0m circle1 \u001b[39m=\u001b[39m Circle(\u001b[39m1\u001b[39;49m, \u001b[39m1\u001b[39;49m, \u001b[39m2\u001b[39;49m)\n\u001b[0;32m      <a href='vscode-notebook-cell:/c%3A/Users/Johan/Documents/GitHub/Python_johan_suld/Labs/Labb3.ipynb#W1sZmlsZQ%3D%3D?line=3'>4</a>\u001b[0m \u001b[39m#print(shape1.y)\u001b[39;00m\n\u001b[0;32m      <a href='vscode-notebook-cell:/c%3A/Users/Johan/Documents/GitHub/Python_johan_suld/Labs/Labb3.ipynb#W1sZmlsZQ%3D%3D?line=4'>5</a>\u001b[0m \n\u001b[0;32m      <a href='vscode-notebook-cell:/c%3A/Users/Johan/Documents/GitHub/Python_johan_suld/Labs/Labb3.ipynb#W1sZmlsZQ%3D%3D?line=5'>6</a>\u001b[0m \u001b[39m#print(circle1.area)\u001b[39;00m\n",
      "\u001b[1;32mc:\\Users\\Johan\\Documents\\GitHub\\Python_johan_suld\\Labs\\Labb3.ipynb Cell 2\u001b[0m line \u001b[0;36m1\n\u001b[0;32m     <a href='vscode-notebook-cell:/c%3A/Users/Johan/Documents/GitHub/Python_johan_suld/Labs/Labb3.ipynb#W1sZmlsZQ%3D%3D?line=13'>14</a>\u001b[0m \u001b[39msuper\u001b[39m()\u001b[39m.\u001b[39m\u001b[39m__init__\u001b[39m(x, y)\n\u001b[0;32m     <a href='vscode-notebook-cell:/c%3A/Users/Johan/Documents/GitHub/Python_johan_suld/Labs/Labb3.ipynb#W1sZmlsZQ%3D%3D?line=14'>15</a>\u001b[0m \u001b[39mself\u001b[39m\u001b[39m.\u001b[39mradius \u001b[39m=\u001b[39m radius\n\u001b[1;32m---> <a href='vscode-notebook-cell:/c%3A/Users/Johan/Documents/GitHub/Python_johan_suld/Labs/Labb3.ipynb#W1sZmlsZQ%3D%3D?line=15'>16</a>\u001b[0m \u001b[39mself\u001b[39;49m\u001b[39m.\u001b[39;49marea \u001b[39m=\u001b[39m math\u001b[39m.\u001b[39mpi \u001b[39m*\u001b[39m radius \u001b[39m*\u001b[39m\u001b[39m*\u001b[39m \u001b[39m2\u001b[39m\n",
      "\u001b[1;31mAttributeError\u001b[0m: property 'area' of 'Circle' object has no setter"
     ]
    }
   ],
   "source": [
    "#shape1 = GeometricShape(1, 1)\n",
    "circle1 = Circle(1, 1, 2)\n",
    "\n",
    "#print(shape1.y)\n",
    "\n",
    "#print(circle1.area)"
   ]
  },
  {
   "cell_type": "code",
   "execution_count": 68,
   "metadata": {},
   "outputs": [
    {
     "data": {
      "text/plain": [
       "5.0"
      ]
     },
     "execution_count": 68,
     "metadata": {},
     "output_type": "execute_result"
    }
   ],
   "source": [
    "class Testing:\n",
    "    def __init__(self, a):\n",
    "        self.b = 3\n",
    "        self.area = a\n",
    "\n",
    "    @property\n",
    "    def area(self):\n",
    "        return self._area\n",
    "    \n",
    "    @area.setter\n",
    "    def area(self, a):\n",
    "        self._area = a / 2\n",
    "\n",
    "testing1 = Testing(10)\n",
    "\n",
    "testing1._area"
   ]
  }
 ],
 "metadata": {
  "kernelspec": {
   "display_name": "Python_johan_suld-dVL6H7-r",
   "language": "python",
   "name": "python3"
  },
  "language_info": {
   "codemirror_mode": {
    "name": "ipython",
    "version": 3
   },
   "file_extension": ".py",
   "mimetype": "text/x-python",
   "name": "python",
   "nbconvert_exporter": "python",
   "pygments_lexer": "ipython3",
   "version": "3.11.5"
  },
  "orig_nbformat": 4
 },
 "nbformat": 4,
 "nbformat_minor": 2
}
