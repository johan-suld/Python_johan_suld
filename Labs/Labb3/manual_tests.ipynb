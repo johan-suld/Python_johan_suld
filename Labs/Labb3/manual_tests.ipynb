{
 "cells": [
  {
   "cell_type": "code",
   "execution_count": 18,
   "metadata": {},
   "outputs": [
    {
     "ename": "AttributeError",
     "evalue": "module 'CircleShape' has no attribute 'Circle'",
     "output_type": "error",
     "traceback": [
      "\u001b[1;31m---------------------------------------------------------------------------\u001b[0m",
      "\u001b[1;31mAttributeError\u001b[0m                            Traceback (most recent call last)",
      "\u001b[1;32md:\\GitHub\\Python_johan_suld\\Labs\\Labb3\\manual_tests.ipynb Cell 1\u001b[0m line \u001b[0;36m5\n\u001b[0;32m      <a href='vscode-notebook-cell:/d%3A/GitHub/Python_johan_suld/Labs/Labb3/manual_tests.ipynb#W0sZmlsZQ%3D%3D?line=1'>2</a>\u001b[0m \u001b[39mimport\u001b[39;00m \u001b[39mCircleShape\u001b[39;00m\n\u001b[0;32m      <a href='vscode-notebook-cell:/d%3A/GitHub/Python_johan_suld/Labs/Labb3/manual_tests.ipynb#W0sZmlsZQ%3D%3D?line=3'>4</a>\u001b[0m s \u001b[39m=\u001b[39m GeometricShape\u001b[39m.\u001b[39mGeometricShape(\u001b[39m1\u001b[39m, \u001b[39m1\u001b[39m)\n\u001b[1;32m----> <a href='vscode-notebook-cell:/d%3A/GitHub/Python_johan_suld/Labs/Labb3/manual_tests.ipynb#W0sZmlsZQ%3D%3D?line=4'>5</a>\u001b[0m c \u001b[39m=\u001b[39m CircleShape\u001b[39m.\u001b[39;49mCircle(\u001b[39m1\u001b[39m, \u001b[39m1\u001b[39m, \u001b[39m1\u001b[39m)\n\u001b[0;32m      <a href='vscode-notebook-cell:/d%3A/GitHub/Python_johan_suld/Labs/Labb3/manual_tests.ipynb#W0sZmlsZQ%3D%3D?line=7'>8</a>\u001b[0m \u001b[39mprint\u001b[39m(s\u001b[39m.\u001b[39mx)\n",
      "\u001b[1;31mAttributeError\u001b[0m: module 'CircleShape' has no attribute 'Circle'"
     ]
    }
   ],
   "source": [
    "import GeometricShape\n",
    "import CircleShape\n",
    "\n",
    "s = GeometricShape.GeometricShape(1, 1)\n",
    "c = CircleShape.Circle(1, 1, 1)\n",
    "\n",
    "\n",
    "print(s.x)"
   ]
  }
 ],
 "metadata": {
  "kernelspec": {
   "display_name": "Python 3",
   "language": "python",
   "name": "python3"
  },
  "language_info": {
   "codemirror_mode": {
    "name": "ipython",
    "version": 3
   },
   "file_extension": ".py",
   "mimetype": "text/x-python",
   "name": "python",
   "nbconvert_exporter": "python",
   "pygments_lexer": "ipython3",
   "version": "3.9.5"
  },
  "orig_nbformat": 4
 },
 "nbformat": 4,
 "nbformat_minor": 2
}
