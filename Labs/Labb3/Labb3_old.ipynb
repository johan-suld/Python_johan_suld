{
 "cells": [
  {
   "cell_type": "code",
   "execution_count": 13,
   "metadata": {},
   "outputs": [],
   "source": [
    "import math\n",
    "import matplotlib.pyplot as plt\n",
    "\n",
    "def area_comparison(self, other, operator):\n",
    "    if hasattr(self, 'area') and hasattr(other, 'area'): \n",
    "        return 1 if eval(f'self.area {operator} other.area') else 0\n",
    "    else:\n",
    "        raise AttributeError('Superclass GeometricShape has no attribute \"area\", only its subclasses')\n",
    "\n",
    "\n",
    "\n",
    "class GeometricShape:\n",
    "    def __init__(self, x, y):\n",
    "        self.x = x\n",
    "        self.y = y\n",
    "\n",
    "    def translate(self, x, y):\n",
    "        try:\n",
    "            self.draw()\n",
    "            translate_axis = [min(x, self.x) - self.dist_from_center - 5, \n",
    "                            max(x, self.x) + self.dist_from_center + 5, \n",
    "                            min(y, self.y) - self.dist_from_center - 2.5, \n",
    "                            max(y, self.y) + self.dist_from_center + 2.5]\n",
    "            self.x = x\n",
    "            self.y = y\n",
    "            self.draw(translate_axis)\n",
    "        except ValueError:\n",
    "            ('x and y must be numeric')\n",
    "\n",
    "    def __str__(self):\n",
    "        return f'GeometricShape centered at x: {self.x}, y: {self.y}'\n",
    "    \n",
    "    def __repr__(self):\n",
    "        return f'GeometricShape({self.x}, {self.y})'\n",
    "    \n",
    "    def __eq__(self, other):\n",
    "        return area_comparison(self, other, '==')\n",
    "\n",
    "    def __lt__(self, other):\n",
    "        return area_comparison(self, other, '<')\n",
    "\n",
    "    def __gt__(self, other):\n",
    "        return area_comparison(self, other, '>')\n",
    "\n",
    "    def __le__(self, other):\n",
    "        return area_comparison(self, other, '<=')\n",
    "\n",
    "    def __ge__(self, other):\n",
    "        return area_comparison(self, other, '>=')\n",
    "    \n",
    "    def set_axis_for_plot(self, axis):\n",
    "        plt.axis(axis) if axis else plt.axis([self.x - self.dist_from_center - 5, \n",
    "                                              self.x + self.dist_from_center + 5, \n",
    "                                              self.y - self.dist_from_center - 2.5, \n",
    "                                              self.y + self.dist_from_center + 2.5])\n",
    "\n",
    "\n",
    "\n",
    "class Circle(GeometricShape):\n",
    "    def __init__(self, x, y, radius):\n",
    "        super().__init__(x, y)\n",
    "        self.radius = radius\n",
    "        self.area = math.pi * radius ** 2\n",
    "        self.circumference = 2 * math.pi * radius\n",
    "        self.dist_from_center = radius\n",
    "\n",
    "    def __str__(self):\n",
    "        return f'Circle centered at x: {self.x}, y: {self.y} and radius: {self.radius}'\n",
    "    \n",
    "    def __repr__(self):\n",
    "        return f'Circle({self.x}, {self.y}, {self.radius})'\n",
    "\n",
    "    def is_unit_circle(self):\n",
    "        return True if self.radius == 1 and self.x == 0 and self.y == 0 else False\n",
    "\n",
    "    def draw(self, axis=[]):\n",
    "        self.set_axis_for_plot(axis)\n",
    "\n",
    "        circle = plt.Circle((self.x, self.y), self.radius, fill=False)\n",
    "        \n",
    "        plt.gca().add_patch(circle)\n",
    "\n",
    "    def is_inside(self, point):\n",
    "        euclidean_dist = math.sqrt((point[0] - self.x) ** 2 + (point[1] - self.y) ** 2)\n",
    "        return True if euclidean_dist <= self.radius else False\n",
    "\n",
    "\n",
    "class Rectangle(GeometricShape):\n",
    "    def __init__(self, x, y, side1, side2):\n",
    "        super().__init__(x, y)\n",
    "        self.side1 = side1\n",
    "        self.side2 = side2\n",
    "        self.area = side1 * side2\n",
    "        self.circumference = 2 * side1 + 2 * side2\n",
    "        self.dist_from_center = math.sqrt(self.side1 ** 2 + self.side2 ** 2)\n",
    "\n",
    "    def __str__(self):\n",
    "        return f'Rectangle centered at x: {self.x}, y: {self.y} and side1: {self.side1}, side2: {self.side2}'\n",
    "    \n",
    "    def __repr__(self):\n",
    "        return f'Rectangle({self.x}, {self.y}, {self.side1}, {self.side2})'\n",
    "\n",
    "    def is_square(self):\n",
    "        return True if self.side1 == self.side2 else False\n",
    "    \n",
    "    def draw(self, axis=[]):\n",
    "        self.set_axis_for_plot(axis)\n",
    "\n",
    "        rectangle = plt.Rectangle((self.x - self.side1 / 2, self.y - self.side2 / 2), self.side1, self.side2, fill=False)\n",
    "        \n",
    "        plt.gca().add_patch(rectangle)\n",
    "\n",
    "    def is_inside(self, point):\n",
    "        return True if self.x - self.side1 / 2 <= point[0] <= self.x + self.side1 / 2 and self.y - self.side2 / 2 <= point[1] <= self.y + self.side2 / 2 else False\n"
   ]
  },
  {
   "cell_type": "code",
   "execution_count": 14,
   "metadata": {},
   "outputs": [
    {
     "data": {
      "text/plain": [
       "True"
      ]
     },
     "execution_count": 14,
     "metadata": {},
     "output_type": "execute_result"
    },
    {
     "data": {
      "image/png": "[encoded data removed]",
      "text/plain": [
       "<Figure size 640x480 with 1 Axes>"
      ]
     },
     "metadata": {},
     "output_type": "display_data"
    }
   ],
   "source": [
    "rect1 = Rectangle(0, 0, 5, 5)\n",
    "\n",
    "rect1.draw()\n",
    "\n",
    "rect1.is_inside((-2, 2))\n",
    "\n"
   ]
  },
  {
   "cell_type": "code",
   "execution_count": 15,
   "metadata": {},
   "outputs": [
    {
     "data": {
      "image/png": "[encoded data removed]",
      "text/plain": [
       "<Figure size 640x480 with 1 Axes>"
      ]
     },
     "metadata": {},
     "output_type": "display_data"
    }
   ],
   "source": [
    "c1 = Circle(0, 0, 2)\n",
    "c1.draw()\n",
    "c1.translate(10, 10)\n"
   ]
  },
  {
   "cell_type": "code",
   "execution_count": 16,
   "metadata": {},
   "outputs": [
    {
     "name": "stdout",
     "output_type": "stream",
     "text": [
      "Circle centered at x: 3, y: 4 and radius: 2\n",
      "Rectangle centered at x: 5, y: 6 and side1: 3, side2: 1\n",
      "GeometricShape centered at x: 1, y: 2\n"
     ]
    },
    {
     "data": {
      "text/plain": [
       "GeometricShape(1, 2)"
      ]
     },
     "execution_count": 16,
     "metadata": {},
     "output_type": "execute_result"
    }
   ],
   "source": [
    "\n",
    "\n",
    "c1 = Circle(3, 4, 2)\n",
    "print(c1)\n",
    "c1\n",
    "\n",
    "r1 = Rectangle(5, 6, 3, 1)\n",
    "print(r1)\n",
    "r1\n",
    "\n",
    "fig1 = GeometricShape(1, 2)\n",
    "print(fig1)\n",
    "fig1"
   ]
  },
  {
   "cell_type": "code",
   "execution_count": 17,
   "metadata": {},
   "outputs": [
    {
     "ename": "TypeError",
     "evalue": "'<' not supported between instances of 'int' and 'str'",
     "output_type": "error",
     "traceback": [
      "\u001b[1;31m---------------------------------------------------------------------------\u001b[0m",
      "\u001b[1;31mTypeError\u001b[0m                                 Traceback (most recent call last)",
      "\u001b[1;32md:\\GitHub\\Python_johan_suld\\Labs\\Labb3\\Labb3.ipynb Cell 6\u001b[0m line \u001b[0;36m1\n\u001b[1;32m----> <a href='vscode-notebook-cell:/d%3A/GitHub/Python_johan_suld/Labs/Labb3/Labb3.ipynb#W5sZmlsZQ%3D%3D?line=0'>1</a>\u001b[0m r1\u001b[39m.\u001b[39;49mtranslate(\u001b[39m\"\u001b[39;49m\u001b[39mTRE\u001b[39;49m\u001b[39m\"\u001b[39;49m, \u001b[39m5\u001b[39;49m)\n",
      "\u001b[1;32md:\\GitHub\\Python_johan_suld\\Labs\\Labb3\\Labb3.ipynb Cell 6\u001b[0m line \u001b[0;36m2\n\u001b[0;32m     <a href='vscode-notebook-cell:/d%3A/GitHub/Python_johan_suld/Labs/Labb3/Labb3.ipynb#W5sZmlsZQ%3D%3D?line=17'>18</a>\u001b[0m \u001b[39mtry\u001b[39;00m:\n\u001b[0;32m     <a href='vscode-notebook-cell:/d%3A/GitHub/Python_johan_suld/Labs/Labb3/Labb3.ipynb#W5sZmlsZQ%3D%3D?line=18'>19</a>\u001b[0m     \u001b[39mself\u001b[39m\u001b[39m.\u001b[39mdraw()\n\u001b[1;32m---> <a href='vscode-notebook-cell:/d%3A/GitHub/Python_johan_suld/Labs/Labb3/Labb3.ipynb#W5sZmlsZQ%3D%3D?line=19'>20</a>\u001b[0m     translate_axis \u001b[39m=\u001b[39m [\u001b[39mmin\u001b[39;49m(x, \u001b[39mself\u001b[39;49m\u001b[39m.\u001b[39;49mx) \u001b[39m-\u001b[39m \u001b[39mself\u001b[39m\u001b[39m.\u001b[39mdist_from_center \u001b[39m-\u001b[39m \u001b[39m5\u001b[39m, \n\u001b[0;32m     <a href='vscode-notebook-cell:/d%3A/GitHub/Python_johan_suld/Labs/Labb3/Labb3.ipynb#W5sZmlsZQ%3D%3D?line=20'>21</a>\u001b[0m                     \u001b[39mmax\u001b[39m(x, \u001b[39mself\u001b[39m\u001b[39m.\u001b[39mx) \u001b[39m+\u001b[39m \u001b[39mself\u001b[39m\u001b[39m.\u001b[39mdist_from_center \u001b[39m+\u001b[39m \u001b[39m5\u001b[39m, \n\u001b[0;32m     <a href='vscode-notebook-cell:/d%3A/GitHub/Python_johan_suld/Labs/Labb3/Labb3.ipynb#W5sZmlsZQ%3D%3D?line=21'>22</a>\u001b[0m                     \u001b[39mmin\u001b[39m(y, \u001b[39mself\u001b[39m\u001b[39m.\u001b[39my) \u001b[39m-\u001b[39m \u001b[39mself\u001b[39m\u001b[39m.\u001b[39mdist_from_center \u001b[39m-\u001b[39m \u001b[39m2.5\u001b[39m, \n\u001b[0;32m     <a href='vscode-notebook-cell:/d%3A/GitHub/Python_johan_suld/Labs/Labb3/Labb3.ipynb#W5sZmlsZQ%3D%3D?line=22'>23</a>\u001b[0m                     \u001b[39mmax\u001b[39m(y, \u001b[39mself\u001b[39m\u001b[39m.\u001b[39my) \u001b[39m+\u001b[39m \u001b[39mself\u001b[39m\u001b[39m.\u001b[39mdist_from_center \u001b[39m+\u001b[39m \u001b[39m2.5\u001b[39m]\n\u001b[0;32m     <a href='vscode-notebook-cell:/d%3A/GitHub/Python_johan_suld/Labs/Labb3/Labb3.ipynb#W5sZmlsZQ%3D%3D?line=23'>24</a>\u001b[0m     \u001b[39mself\u001b[39m\u001b[39m.\u001b[39mx \u001b[39m=\u001b[39m x\n\u001b[0;32m     <a href='vscode-notebook-cell:/d%3A/GitHub/Python_johan_suld/Labs/Labb3/Labb3.ipynb#W5sZmlsZQ%3D%3D?line=24'>25</a>\u001b[0m     \u001b[39mself\u001b[39m\u001b[39m.\u001b[39my \u001b[39m=\u001b[39m y\n",
      "\u001b[1;31mTypeError\u001b[0m: '<' not supported between instances of 'int' and 'str'"
     ]
    },
    {
     "data": {
      "image/png": "[encoded data removed]",
      "text/plain": [
       "<Figure size 640x480 with 1 Axes>"
      ]
     },
     "metadata": {},
     "output_type": "display_data"
    }
   ],
   "source": [
    "r1.translate(\"TRE\", 5)"
   ]
  }
 ],
 "metadata": {
  "kernelspec": {
   "display_name": "Python_johan_suld-dVL6H7-r",
   "language": "python",
   "name": "python3"
  },
  "language_info": {
   "codemirror_mode": {
    "name": "ipython",
    "version": 3
   },
   "file_extension": ".py",
   "mimetype": "text/x-python",
   "name": "python",
   "nbconvert_exporter": "python",
   "pygments_lexer": "ipython3",
   "version": "3.9.5"
  },
  "orig_nbformat": 4
 },
 "nbformat": 4,
 "nbformat_minor": 2
}
