{
 "cells": [
  {
   "cell_type": "code",
   "execution_count": null,
   "metadata": {},
   "outputs": [],
   "source": []
  },
  {
   "cell_type": "markdown",
   "metadata": {},
   "source": [
    "# Dictionary"
   ]
  },
  {
   "cell_type": "code",
   "execution_count": 4,
   "metadata": {},
   "outputs": [
    {
     "name": "stdout",
     "output_type": "stream",
     "text": [
      "{'firstname': 'Fredrik', 'age': 42, 'languages': ['SE', 'EN']}\n",
      "{'firstname': 'Fredrik', 'age': 42, 'languages': ['SE', 'EN'], 'length': 1.8}\n"
     ]
    }
   ],
   "source": [
    "teacher = {\"firstname\": \"Fredrik\", \n",
    "           \"age\": 42,\n",
    "           \"languages\": ['SE', 'EN']\n",
    "           }\n",
    "\n",
    "print(teacher)\n",
    "\n",
    "teacher[\"length\"] = 1.8\n",
    "\n",
    "print(teacher)"
   ]
  },
  {
   "cell_type": "markdown",
   "metadata": {},
   "source": [
    "Key-value pairs\n",
    "Keys must be unique\n",
    "Keys must be only immutable values (string, int etc.)"
   ]
  },
  {
   "cell_type": "code",
   "execution_count": 13,
   "metadata": {},
   "outputs": [
    {
     "name": "stdout",
     "output_type": "stream",
     "text": [
      "len(teacher[\"languages\"]) = 2\n",
      "error\n",
      "firstname\n",
      "age\n",
      "languages\n",
      "length\n",
      "Fredrik\n",
      "42\n",
      "['SE', 'EN']\n",
      "1.8\n",
      "firstname = Fredrik\n",
      "age = 42\n",
      "languages = ['SE', 'EN']\n",
      "length = 1.8\n"
     ]
    }
   ],
   "source": [
    "print(f'{len(teacher[\"languages\"]) = }') # frågar efter värdet\n",
    "\n",
    "key = 'age_'\n",
    "print(teacher.get(key, 'error'))\n",
    "\n",
    "for nyckel in teacher.keys(): #samma effekt som for nyckel in teacher:\n",
    "    print(nyckel)\n",
    "\n",
    "for value in teacher.values():\n",
    "    print(value)\n",
    "\n",
    "for key_ in teacher:\n",
    "    print(f'{key_} = {teacher[key_]}')"
   ]
  }
 ],
 "metadata": {
  "kernelspec": {
   "display_name": "Python 3",
   "language": "python",
   "name": "python3"
  },
  "language_info": {
   "codemirror_mode": {
    "name": "ipython",
    "version": 3
   },
   "file_extension": ".py",
   "mimetype": "text/x-python",
   "name": "python",
   "nbconvert_exporter": "python",
   "pygments_lexer": "ipython3",
   "version": "3.11.5"
  },
  "orig_nbformat": 4
 },
 "nbformat": 4,
 "nbformat_minor": 2
}
