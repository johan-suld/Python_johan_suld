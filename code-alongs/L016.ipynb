{
 "cells": [
  {
   "cell_type": "markdown",
   "metadata": {},
   "source": [
    "Numpy\n",
    "Hanterar bl.a. arrayer:\n",
    "Statically typed, mycket snabbare\n",
    "Arrayer kan endast vara av en datatyp\n",
    "Cant append or remove elements\n",
    "supports vector operations"
   ]
  },
  {
   "cell_type": "code",
   "execution_count": 2,
   "metadata": {},
   "outputs": [
    {
     "name": "stdout",
     "output_type": "stream",
     "text": [
      "a.dtype = dtype('int32')\n"
     ]
    }
   ],
   "source": [
    "import numpy as np\n",
    "\n",
    "a = np.array([5, 3, 4, 1, 1])\n",
    "print(f'{a.dtype = }')\n",
    "b = np.array([5, 3, 4, 1, 1], dtype=float)"
   ]
  },
  {
   "cell_type": "code",
   "execution_count": 7,
   "metadata": {},
   "outputs": [
    {
     "name": "stdout",
     "output_type": "stream",
     "text": [
      "[0.74933312 0.34587232 0.34530492 0.66454662 0.36991568]\n",
      "[11 18 14]\n",
      "[0. 0. 0. 0. 0. 0. 0. 0. 0. 0.]\n",
      "[1. 1. 1. 1. 1. 1. 1. 1. 1. 1.]\n"
     ]
    }
   ],
   "source": [
    "c = np.random.random(5) # 0-1\n",
    "print(c)\n",
    "d = np.random.randint(10, 20, 3)\n",
    "print(d)\n",
    "e = np.zeros(10)\n",
    "print(e)\n",
    "f = np.ones(10)\n",
    "print(f)"
   ]
  },
  {
   "cell_type": "code",
   "execution_count": 9,
   "metadata": {},
   "outputs": [
    {
     "data": {
      "text/plain": [
       "array([1. , 1.1, 1.2, 1.3, 1.4, 1.5, 1.6, 1.7, 1.8, 1.9, 2. , 2.1, 2.2,\n",
       "       2.3, 2.4, 2.5, 2.6, 2.7, 2.8, 2.9, 3. , 3.1, 3.2, 3.3, 3.4, 3.5,\n",
       "       3.6, 3.7, 3.8, 3.9, 4. , 4.1, 4.2, 4.3, 4.4, 4.5, 4.6, 4.7, 4.8,\n",
       "       4.9, 5. , 5.1, 5.2, 5.3, 5.4, 5.5, 5.6, 5.7, 5.8, 5.9, 6. , 6.1,\n",
       "       6.2, 6.3, 6.4, 6.5, 6.6, 6.7, 6.8, 6.9, 7. , 7.1, 7.2, 7.3, 7.4,\n",
       "       7.5, 7.6, 7.7, 7.8, 7.9, 8. , 8.1, 8.2, 8.3, 8.4, 8.5, 8.6, 8.7,\n",
       "       8.8, 8.9, 9. , 9.1, 9.2, 9.3, 9.4, 9.5, 9.6, 9.7, 9.8, 9.9])"
      ]
     },
     "execution_count": 9,
     "metadata": {},
     "output_type": "execute_result"
    }
   ],
   "source": [
    "g = np.linspace(0, 10, 100) # evenly spaced\n",
    "g\n",
    "h = np.arange(1, 10, 0.1)\n",
    "h"
   ]
  },
  {
   "cell_type": "code",
   "execution_count": null,
   "metadata": {},
   "outputs": [],
   "source": [
    "# vectorized operations"
   ]
  },
  {
   "cell_type": "code",
   "execution_count": 11,
   "metadata": {},
   "outputs": [
    {
     "name": "stdout",
     "output_type": "stream",
     "text": [
      "[10  6  8  2  2]\n",
      "[0.2        0.33333333 0.25       1.         1.        ]\n"
     ]
    }
   ],
   "source": [
    "a1 = np.array([5, 3, 4, 1, 1])\n",
    "print(a1 * 2)\n",
    "print(1 / a1)"
   ]
  },
  {
   "cell_type": "code",
   "execution_count": 13,
   "metadata": {},
   "outputs": [
    {
     "data": {
      "text/plain": [
       "(3,)"
      ]
     },
     "execution_count": 13,
     "metadata": {},
     "output_type": "execute_result"
    }
   ],
   "source": [
    "a2 = np.array([5, 3, 4])\n",
    "a3 = np.array([1, 1, 6])\n",
    "\n",
    "a2 + a3\n",
    "\n",
    "a2.shape"
   ]
  },
  {
   "cell_type": "code",
   "execution_count": null,
   "metadata": {},
   "outputs": [],
   "source": [
    "# indexing and slicing works just like we are used to from python lists. we can also use a list with indexs\n",
    "# boolean masks/boolean indexing can be use used to filter data in arrays\n",
    "# boolean masks can be created when useing comparison operators on numpy arrays"
   ]
  },
  {
   "cell_type": "code",
   "execution_count": 16,
   "metadata": {},
   "outputs": [
    {
     "data": {
      "text/plain": [
       "array([5, 1, 5, 1])"
      ]
     },
     "execution_count": 16,
     "metadata": {},
     "output_type": "execute_result"
    }
   ],
   "source": [
    "a1 = np.array([5, 3, 4, 1, 1])\n",
    "a1[0]\n",
    "a1[:3]\n",
    "a1[[0, 3, 0, 4]] # lista med indexs"
   ]
  },
  {
   "cell_type": "code",
   "execution_count": 18,
   "metadata": {},
   "outputs": [
    {
     "data": {
      "text/plain": [
       "array([5, 3, 4, 1, 1])"
      ]
     },
     "execution_count": 18,
     "metadata": {},
     "output_type": "execute_result"
    }
   ],
   "source": [
    "a2 = np.array([5, 3, 4, 1, 1])\n",
    "\n",
    "a2[[True, False, False, True, True]] # ska plocka ut alla som är true\n",
    "a2"
   ]
  },
  {
   "cell_type": "code",
   "execution_count": 2,
   "metadata": {},
   "outputs": [
    {
     "data": {
      "text/plain": [
       "array([5, 3, 4, 1, 1])"
      ]
     },
     "execution_count": 2,
     "metadata": {},
     "output_type": "execute_result"
    }
   ],
   "source": [
    "import numpy as np\n",
    "\n",
    "a3 = np.array([5, 3, 4, 1, 1])\n",
    "a3 == 1\n",
    "a3"
   ]
  },
  {
   "cell_type": "code",
   "execution_count": 4,
   "metadata": {},
   "outputs": [
    {
     "data": {
      "text/plain": [
       "array([5, 3, 4, 1, 1])"
      ]
     },
     "execution_count": 4,
     "metadata": {},
     "output_type": "execute_result"
    }
   ],
   "source": [
    "a4 = np.array([5, 3, 4, 1, 1])\n",
    "a4 > 3\n",
    "a4"
   ]
  },
  {
   "cell_type": "markdown",
   "metadata": {},
   "source": [
    "aggregeringsmetoder"
   ]
  },
  {
   "cell_type": "code",
   "execution_count": 11,
   "metadata": {},
   "outputs": [
    {
     "name": "stdout",
     "output_type": "stream",
     "text": [
      "14\n",
      "1\n",
      "5\n",
      "2.8\n"
     ]
    }
   ],
   "source": [
    "a5 = np.array([5, 3, 4, 1, 1])\n",
    "\n",
    "#np.sum(a5)\n",
    "print(a5.sum())\n",
    "print(a5.min())\n",
    "print(a5.max())\n",
    "print(a5.mean())\n"
   ]
  },
  {
   "cell_type": "markdown",
   "metadata": {},
   "source": [
    "multidimensional arrays"
   ]
  },
  {
   "cell_type": "code",
   "execution_count": null,
   "metadata": {},
   "outputs": [],
   "source": [
    "array_1d = np.array([5, 3, 4, 1, 1])\n",
    "array_2d = np.array([5, 3, 4, 1, 1][6, 1, 9, 3, 5])\n"
   ]
  },
  {
   "cell_type": "code",
   "execution_count": 12,
   "metadata": {},
   "outputs": [
    {
     "data": {
      "text/plain": [
       "array([[5, 0, 3, 0],\n",
       "       [4, 5, 3, 4],\n",
       "       [1, 7, 1, 4],\n",
       "       [5, 8, 7, 4],\n",
       "       [6, 1, 2, 1]])"
      ]
     },
     "execution_count": 12,
     "metadata": {},
     "output_type": "execute_result"
    }
   ],
   "source": [
    "random_2d = np.random.randint(0, 10, [5, 4])\n",
    "random_2d"
   ]
  },
  {
   "cell_type": "code",
   "execution_count": 13,
   "metadata": {},
   "outputs": [
    {
     "data": {
      "text/plain": [
       "array([[[9, 9, 4, 7],\n",
       "        [4, 7, 5, 8],\n",
       "        [2, 1, 4, 3],\n",
       "        [4, 9, 0, 2],\n",
       "        [1, 8, 7, 9]],\n",
       "\n",
       "       [[0, 9, 9, 4],\n",
       "        [1, 8, 1, 8],\n",
       "        [7, 6, 8, 1],\n",
       "        [5, 6, 8, 9],\n",
       "        [2, 1, 5, 1]]])"
      ]
     },
     "execution_count": 13,
     "metadata": {},
     "output_type": "execute_result"
    }
   ],
   "source": [
    "random_3d = np.random.randint(0, 10, [2, 5, 4])\n",
    "random_3d"
   ]
  },
  {
   "cell_type": "code",
   "execution_count": 15,
   "metadata": {},
   "outputs": [
    {
     "data": {
      "text/plain": [
       "array([5, 0, 3])"
      ]
     },
     "execution_count": 15,
     "metadata": {},
     "output_type": "execute_result"
    }
   ],
   "source": [
    "random_2d[1, 3] # x, y\n",
    "random_2d[0, :3]"
   ]
  },
  {
   "cell_type": "code",
   "execution_count": null,
   "metadata": {},
   "outputs": [],
   "source": [
    "random_2d[]"
   ]
  }
 ],
 "metadata": {
  "kernelspec": {
   "display_name": "Python_johan_suld-dVL6H7-r",
   "language": "python",
   "name": "python3"
  },
  "language_info": {
   "codemirror_mode": {
    "name": "ipython",
    "version": 3
   },
   "file_extension": ".py",
   "mimetype": "text/x-python",
   "name": "python",
   "nbconvert_exporter": "python",
   "pygments_lexer": "ipython3",
   "version": "3.11.5"
  },
  "orig_nbformat": 4
 },
 "nbformat": 4,
 "nbformat_minor": 2
}
