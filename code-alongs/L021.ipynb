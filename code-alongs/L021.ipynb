{
 "cells": [
  {
   "cell_type": "markdown",
   "metadata": {},
   "source": [
    "Module"
   ]
  },
  {
   "cell_type": "code",
   "execution_count": 4,
   "metadata": {},
   "outputs": [],
   "source": [
    "def main():\n",
    "    for i in range(5):\n",
    "        print(f'{i} => {square(i)}')\n",
    "\n",
    "def square(n):\n",
    "    return n * n"
   ]
  },
  {
   "cell_type": "code",
   "execution_count": 5,
   "metadata": {},
   "outputs": [
    {
     "name": "stdout",
     "output_type": "stream",
     "text": [
      "__main__\n",
      "0 => 0\n",
      "1 => 1\n",
      "2 => 4\n",
      "3 => 9\n",
      "4 => 16\n"
     ]
    }
   ],
   "source": [
    "print(__name__) # Om man kör denna som modul i annat program skrivs L021 ut istället för __main__\n",
    "main()"
   ]
  },
  {
   "cell_type": "code",
   "execution_count": 6,
   "metadata": {},
   "outputs": [
    {
     "name": "stdout",
     "output_type": "stream",
     "text": [
      "detta körs endast om modulen körs i sig, och inte någon annanstans\n"
     ]
    }
   ],
   "source": [
    "if __name__ == '__main__':\n",
    "    print('detta körs endast om modulen körs i sig, och inte någon annanstans')"
   ]
  }
 ],
 "metadata": {
  "kernelspec": {
   "display_name": "Python_johan_suld-dVL6H7-r",
   "language": "python",
   "name": "python3"
  },
  "language_info": {
   "codemirror_mode": {
    "name": "ipython",
    "version": 3
   },
   "file_extension": ".py",
   "mimetype": "text/x-python",
   "name": "python",
   "nbconvert_exporter": "python",
   "pygments_lexer": "ipython3",
   "version": "3.11.5"
  },
  "orig_nbformat": 4
 },
 "nbformat": 4,
 "nbformat_minor": 2
}
