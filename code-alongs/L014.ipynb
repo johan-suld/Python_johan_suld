{
 "cells": [
  {
   "cell_type": "markdown",
   "metadata": {},
   "source": [
    "Break points: Developer has the possibility to step through instructions one at the time at look at the internal states (memory/variables) for each step. It's possible to set up multiple breakpoints.\n",
    "Step over: hoppa till rad\n",
    "Step into: hoppa till rad i en funktion\n",
    "Step out: Kör resten av funktionen"
   ]
  },
  {
   "cell_type": "code",
   "execution_count": null,
   "metadata": {},
   "outputs": [],
   "source": [
    "from colorama import Fore, Back, Style\n",
    "\n"
   ]
  }
 ],
 "metadata": {
  "kernelspec": {
   "display_name": "Python_johan_suld-dVL6H7-r",
   "language": "python",
   "name": "python3"
  },
  "language_info": {
   "name": "python",
   "version": "3.11.5"
  },
  "orig_nbformat": 4
 },
 "nbformat": 4,
 "nbformat_minor": 2
}
