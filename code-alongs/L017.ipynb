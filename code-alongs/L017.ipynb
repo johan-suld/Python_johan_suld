{
 "cells": [
  {
   "cell_type": "markdown",
   "metadata": {},
   "source": [
    "Object oriented programming (OOP)\n",
    "- A class is a blueprint that can be used to create objects\n",
    "- An instance is the actual object containing data and methods"
   ]
  },
  {
   "cell_type": "code",
   "execution_count": 7,
   "metadata": {},
   "outputs": [],
   "source": [
    "class Student: # stor bokstav\n",
    "    def __init__(self): # Metod som körs när en instans skapas. self är en referens till instansen man skapar. \n",
    "                        # skickar in objektet man precis skapar\n",
    "        self.grade = 1.1\n",
    "\n",
    "    def set_grade(self, grade):\n",
    "        self.grade = grade"
   ]
  },
  {
   "cell_type": "code",
   "execution_count": 9,
   "metadata": {},
   "outputs": [
    {
     "name": "stdout",
     "output_type": "stream",
     "text": [
      "<class '__main__.Student'>\n",
      "Johan\n",
      "{'grade': 1.1, 'name': 'Johan', 'age': 99}\n",
      "1.2\n"
     ]
    }
   ],
   "source": [
    "student_a = Student()\n",
    "\n",
    "print(type(student_a))\n",
    "\n",
    "student_a.name = 'Johan'\n",
    "student_a.age = 99\n",
    "print(student_a.name)\n",
    "\n",
    "print(student_a.__dict__)\n",
    "\n",
    "student_b = Student()\n",
    "Student.set_grade(student_b, 1.2) # går\n",
    "student_b.set_grade(1.2) # Hellre detta\n",
    "print(student_b.grade)"
   ]
  },
  {
   "cell_type": "code",
   "execution_count": 41,
   "metadata": {},
   "outputs": [
    {
     "name": "stdout",
     "output_type": "stream",
     "text": [
      "My name is Misse, and my best friend is Mjau\n"
     ]
    },
    {
     "ename": "AttributeError",
     "evalue": "'function' object has no attribute 'name'",
     "output_type": "error",
     "traceback": [
      "\u001b[1;31m---------------------------------------------------------------------------\u001b[0m",
      "\u001b[1;31mAttributeError\u001b[0m                            Traceback (most recent call last)",
      "\u001b[1;32mc:\\Users\\Johan\\Documents\\GitHub\\Python_johan_suld\\code-alongs\\L017.ipynb Cell 4\u001b[0m line \u001b[0;36m3\n\u001b[0;32m     <a href='vscode-notebook-cell:/c%3A/Users/Johan/Documents/GitHub/Python_johan_suld/code-alongs/L017.ipynb#W4sZmlsZQ%3D%3D?line=31'>32</a>\u001b[0m my_third_cat\u001b[39m.\u001b[39mbest_friend \u001b[39m=\u001b[39m my_cat\n\u001b[0;32m     <a href='vscode-notebook-cell:/c%3A/Users/Johan/Documents/GitHub/Python_johan_suld/code-alongs/L017.ipynb#W4sZmlsZQ%3D%3D?line=33'>34</a>\u001b[0m \u001b[39mfor\u001b[39;00m cat \u001b[39min\u001b[39;00m cats:\n\u001b[1;32m---> <a href='vscode-notebook-cell:/c%3A/Users/Johan/Documents/GitHub/Python_johan_suld/code-alongs/L017.ipynb#W4sZmlsZQ%3D%3D?line=34'>35</a>\u001b[0m     cat\u001b[39m.\u001b[39;49mprint_best_friend()\n\u001b[0;32m     <a href='vscode-notebook-cell:/c%3A/Users/Johan/Documents/GitHub/Python_johan_suld/code-alongs/L017.ipynb#W4sZmlsZQ%3D%3D?line=36'>37</a>\u001b[0m \u001b[39mprint\u001b[39m(my_cat\u001b[39m.\u001b[39mname)\n\u001b[0;32m     <a href='vscode-notebook-cell:/c%3A/Users/Johan/Documents/GitHub/Python_johan_suld/code-alongs/L017.ipynb#W4sZmlsZQ%3D%3D?line=37'>38</a>\u001b[0m \u001b[39mprint\u001b[39m(my_cat\u001b[39m.\u001b[39mage)\n",
      "\u001b[1;32mc:\\Users\\Johan\\Documents\\GitHub\\Python_johan_suld\\code-alongs\\L017.ipynb Cell 4\u001b[0m line \u001b[0;36m2\n\u001b[0;32m     <a href='vscode-notebook-cell:/c%3A/Users/Johan/Documents/GitHub/Python_johan_suld/code-alongs/L017.ipynb#W4sZmlsZQ%3D%3D?line=18'>19</a>\u001b[0m \u001b[39mif\u001b[39;00m \u001b[39mnot\u001b[39;00m \u001b[39mhasattr\u001b[39m(\u001b[39mself\u001b[39m, \u001b[39m'\u001b[39m\u001b[39mbest_friend\u001b[39m\u001b[39m'\u001b[39m): \u001b[39mreturn\u001b[39;00m\n\u001b[0;32m     <a href='vscode-notebook-cell:/c%3A/Users/Johan/Documents/GitHub/Python_johan_suld/code-alongs/L017.ipynb#W4sZmlsZQ%3D%3D?line=19'>20</a>\u001b[0m \u001b[39mif\u001b[39;00m \u001b[39mself\u001b[39m\u001b[39m.\u001b[39mbest_friend \u001b[39mis\u001b[39;00m \u001b[39mNone\u001b[39;00m: \u001b[39mreturn\u001b[39;00m\n\u001b[1;32m---> <a href='vscode-notebook-cell:/c%3A/Users/Johan/Documents/GitHub/Python_johan_suld/code-alongs/L017.ipynb#W4sZmlsZQ%3D%3D?line=21'>22</a>\u001b[0m \u001b[39mprint\u001b[39m(\u001b[39mf\u001b[39m\u001b[39m\"\u001b[39m\u001b[39mMy name is \u001b[39m\u001b[39m{\u001b[39;00m\u001b[39mself\u001b[39m\u001b[39m.\u001b[39mname\u001b[39m}\u001b[39;00m\u001b[39m, and my best friend is \u001b[39m\u001b[39m{\u001b[39;00m\u001b[39mself\u001b[39;49m\u001b[39m.\u001b[39;49mbest_friend\u001b[39m.\u001b[39;49mname\u001b[39m}\u001b[39;00m\u001b[39m\"\u001b[39m)\n",
      "\u001b[1;31mAttributeError\u001b[0m: 'function' object has no attribute 'name'"
     ]
    }
   ],
   "source": [
    "class Cat:\n",
    "    def __init__(self, name, age):\n",
    "        self.name = name\n",
    "        self.age = age\n",
    "        #self.best_friend = None\n",
    "\n",
    "    def greet(self, other_cat=None):\n",
    "        if other_cat is None:\n",
    "            print(f\"Hello, I'm {self.name}, and I'm {self.age} years old\")\n",
    "        else:\n",
    "            age_diff = other_cat.age - self.age\n",
    "            print(f\"Hello {other_cat.name}, I'm {self.name} and I'm \\\n",
    "                  {abs(age_diff)} year{'s' if abs(age_diff) > 1 else ''} {'older' if age_diff >= 0 else 'younger'} than you\")\n",
    "\n",
    "    def best_friend(self, best_friend):\n",
    "        self.best_friend = best_friend\n",
    "\n",
    "    def print_best_friend(self):\n",
    "        if not hasattr(self, 'best_friend'): return\n",
    "        if self.best_friend is None: return\n",
    "        \n",
    "        print(f\"My name is {self.name}, and my best friend is {self.best_friend.name}\")\n",
    "\n",
    "\n",
    "my_cat = Cat('Misse', 3)\n",
    "my_other_cat = Cat('Kisse', 2)\n",
    "my_third_cat = Cat('Mjau', 5)\n",
    "my_fourth_cat = Cat('Jens', 3)\n",
    "cats = [my_cat, my_other_cat, my_third_cat, my_fourth_cat]\n",
    "\n",
    "my_cat.best_friend = my_third_cat\n",
    "my_third_cat.best_friend = my_cat\n",
    "\n",
    "for cat in cats:\n",
    "    cat.print_best_friend()\n",
    "\n",
    "print(my_cat.name)\n",
    "print(my_cat.age)\n",
    "\n",
    "my_cat.greet()\n",
    "my_other_cat.greet()\n",
    "my_cat.greet(my_other_cat)\n",
    "my_cat.greet(my_third_cat)\n"
   ]
  },
  {
   "cell_type": "code",
   "execution_count": 45,
   "metadata": {},
   "outputs": [
    {
     "name": "stdout",
     "output_type": "stream",
     "text": [
      "Måns\n"
     ]
    }
   ],
   "source": [
    "student = Student()\n",
    "\n",
    "student.pet = Cat('Måns', 6)\n",
    "\n",
    "print(student.pet.name)"
   ]
  }
 ],
 "metadata": {
  "kernelspec": {
   "display_name": "Python_johan_suld-dVL6H7-r",
   "language": "python",
   "name": "python3"
  },
  "language_info": {
   "codemirror_mode": {
    "name": "ipython",
    "version": 3
   },
   "file_extension": ".py",
   "mimetype": "text/x-python",
   "name": "python",
   "nbconvert_exporter": "python",
   "pygments_lexer": "ipython3",
   "version": "3.11.5"
  },
  "orig_nbformat": 4
 },
 "nbformat": 4,
 "nbformat_minor": 2
}
