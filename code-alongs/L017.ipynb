{
 "cells": [
  {
   "cell_type": "markdown",
   "metadata": {},
   "source": [
    "Object oriented programming (OOP)\n",
    "- A class is a blueprint that can be used to create objects\n",
    "- An instance is the actual object containing data and methods"
   ]
  },
  {
   "cell_type": "code",
   "execution_count": 7,
   "metadata": {},
   "outputs": [],
   "source": [
    "class Student: # stor bokstav\n",
    "    def __init__(self): # Metod som körs när en instans skapas. self är en referens till instansen man skapar. \n",
    "                        # skickar in objektet man precis skapar\n",
    "        self.grade = 1.1\n",
    "\n",
    "    def set_grade(self, grade):\n",
    "        self.grade = grade"
   ]
  },
  {
   "cell_type": "code",
   "execution_count": 9,
   "metadata": {},
   "outputs": [
    {
     "name": "stdout",
     "output_type": "stream",
     "text": [
      "<class '__main__.Student'>\n",
      "Johan\n",
      "{'grade': 1.1, 'name': 'Johan', 'age': 99}\n",
      "1.2\n"
     ]
    }
   ],
   "source": [
    "student_a = Student()\n",
    "\n",
    "print(type(student_a))\n",
    "\n",
    "student_a.name = 'Johan'\n",
    "student_a.age = 99\n",
    "print(student_a.name)\n",
    "\n",
    "print(student_a.__dict__)\n",
    "\n",
    "student_b = Student()\n",
    "Student.set_grade(student_b, 1.2) # går\n",
    "student_b.set_grade(1.2) # Hellre detta\n",
    "print(student_b.grade)"
   ]
  },
  {
   "cell_type": "code",
   "execution_count": 33,
   "metadata": {},
   "outputs": [
    {
     "name": "stdout",
     "output_type": "stream",
     "text": [
      "Misse\n",
      "3\n",
      "Hello, I'm Misse, and I'm 3 years old\n",
      "Hello, I'm Kisse, and I'm 2 years old\n",
      "Hello Kisse, I'm Misse and I'm                   1 year younger than you\n",
      "Hello Mjau, I'm Misse and I'm                   2 years older than you\n"
     ]
    }
   ],
   "source": [
    "class Cat:\n",
    "    def __init__(self, name, age):\n",
    "        self.name = name\n",
    "        self.age = age\n",
    "\n",
    "    def greet(self, other_cat=None):\n",
    "        if other_cat is None:\n",
    "            print(f\"Hello, I'm {self.name}, and I'm {self.age} years old\")\n",
    "        else:\n",
    "            age_diff = other_cat.age - self.age\n",
    "            print(f\"Hello {other_cat.name}, I'm {self.name} and I'm \\\n",
    "                  {abs(age_diff)} year{'s' if abs(age_diff) > 1 else ''} {'older' if age_diff >= 0 else 'younger'} than you\")\n",
    "\n",
    "    def best_friend(self):\n",
    "        ...\n",
    "\n",
    "    def print_best_friend(self):\n",
    "        ...\n",
    "\n",
    "my_cat = Cat('Misse', 3)\n",
    "my_other_cat = Cat('Kisse', 2)\n",
    "my_third_cat = Cat('Mjau', 5)\n",
    "my_fourth_cat = Cat('Jens', 3)\n",
    "cats = [my_cat, my_other_cat, my_third_cat, my_fourth_cat]\n",
    "\n",
    "for cat in cats:\n",
    "    cat.print_best_friend()\n",
    "\n",
    "print(my_cat.name)\n",
    "print(my_cat.age)\n",
    "\n",
    "my_cat.greet()\n",
    "my_other_cat.greet()\n",
    "my_cat.greet(my_other_cat)\n",
    "my_cat.greet(my_third_cat)\n",
    "\n"
   ]
  }
 ],
 "metadata": {
  "kernelspec": {
   "display_name": "Python_johan_suld-dVL6H7-r",
   "language": "python",
   "name": "python3"
  },
  "language_info": {
   "codemirror_mode": {
    "name": "ipython",
    "version": 3
   },
   "file_extension": ".py",
   "mimetype": "text/x-python",
   "name": "python",
   "nbconvert_exporter": "python",
   "pygments_lexer": "ipython3",
   "version": "3.11.5"
  },
  "orig_nbformat": 4
 },
 "nbformat": 4,
 "nbformat_minor": 2
}
