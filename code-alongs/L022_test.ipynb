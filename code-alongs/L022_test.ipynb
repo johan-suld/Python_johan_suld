{
 "cells": [
  {
   "cell_type": "code",
   "execution_count": 6,
   "metadata": {},
   "outputs": [
    {
     "ename": "AssertionError",
     "evalue": "square of 2 is not 5",
     "output_type": "error",
     "traceback": [
      "\u001b[1;31m---------------------------------------------------------------------------\u001b[0m",
      "\u001b[1;31mAssertionError\u001b[0m                            Traceback (most recent call last)",
      "\u001b[1;32mc:\\Users\\Johan\\Documents\\GitHub\\Python_johan_suld\\code-alongs\\L022.ipynb Cell 1\u001b[0m line \u001b[0;36m7\n\u001b[0;32m      <a href='vscode-notebook-cell:/c%3A/Users/Johan/Documents/GitHub/Python_johan_suld/code-alongs/L022.ipynb#W0sZmlsZQ%3D%3D?line=3'>4</a>\u001b[0m \u001b[39mdef\u001b[39;00m \u001b[39mtest_square\u001b[39m():\n\u001b[0;32m      <a href='vscode-notebook-cell:/c%3A/Users/Johan/Documents/GitHub/Python_johan_suld/code-alongs/L022.ipynb#W0sZmlsZQ%3D%3D?line=4'>5</a>\u001b[0m     \u001b[39massert\u001b[39;00m math\u001b[39m.\u001b[39msqrt(\u001b[39m2\u001b[39m) \u001b[39m==\u001b[39m \u001b[39m5\u001b[39m, \u001b[39m'\u001b[39m\u001b[39msquare of 2 is not 5\u001b[39m\u001b[39m'\u001b[39m\n\u001b[1;32m----> <a href='vscode-notebook-cell:/c%3A/Users/Johan/Documents/GitHub/Python_johan_suld/code-alongs/L022.ipynb#W0sZmlsZQ%3D%3D?line=6'>7</a>\u001b[0m test_square()\n",
      "\u001b[1;32mc:\\Users\\Johan\\Documents\\GitHub\\Python_johan_suld\\code-alongs\\L022.ipynb Cell 1\u001b[0m line \u001b[0;36m5\n\u001b[0;32m      <a href='vscode-notebook-cell:/c%3A/Users/Johan/Documents/GitHub/Python_johan_suld/code-alongs/L022.ipynb#W0sZmlsZQ%3D%3D?line=3'>4</a>\u001b[0m \u001b[39mdef\u001b[39;00m \u001b[39mtest_square\u001b[39m():\n\u001b[1;32m----> <a href='vscode-notebook-cell:/c%3A/Users/Johan/Documents/GitHub/Python_johan_suld/code-alongs/L022.ipynb#W0sZmlsZQ%3D%3D?line=4'>5</a>\u001b[0m     \u001b[39massert\u001b[39;00m math\u001b[39m.\u001b[39msqrt(\u001b[39m2\u001b[39m) \u001b[39m==\u001b[39m \u001b[39m5\u001b[39m, \u001b[39m'\u001b[39m\u001b[39msquare of 2 is not 5\u001b[39m\u001b[39m'\u001b[39m\n",
      "\u001b[1;31mAssertionError\u001b[0m: square of 2 is not 5"
     ]
    }
   ],
   "source": [
    "import math\n",
    "import pytest\n",
    "\n",
    "def test_square():\n",
    "    assert math.sqrt(2) == 5, 'square of 2 is not 5'\n",
    "\n",
    "test_square()"
   ]
  }
 ],
 "metadata": {
  "kernelspec": {
   "display_name": "Python_johan_suld-dVL6H7-r",
   "language": "python",
   "name": "python3"
  },
  "language_info": {
   "codemirror_mode": {
    "name": "ipython",
    "version": 3
   },
   "file_extension": ".py",
   "mimetype": "text/x-python",
   "name": "python",
   "nbconvert_exporter": "python",
   "pygments_lexer": "ipython3",
   "version": "3.11.5"
  },
  "orig_nbformat": 4
 },
 "nbformat": 4,
 "nbformat_minor": 2
}
