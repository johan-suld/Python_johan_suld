{
 "cells": [
  {
   "cell_type": "markdown",
   "metadata": {},
   "source": [
    "Properties\n",
    "Används ofta för att lägga på en liten bit logik när man läser eller skriver till ett attribut/property"
   ]
  },
  {
   "cell_type": "code",
   "execution_count": 7,
   "metadata": {},
   "outputs": [
    {
     "name": "stdout",
     "output_type": "stream",
     "text": [
      "50000\n"
     ]
    }
   ],
   "source": [
    "class Employee:\n",
    "    def __init__(self, name, salary):\n",
    "        self.name = name\n",
    "        self._salary = salary\n",
    "\n",
    "    # Getter\n",
    "    @property\n",
    "    def salary(self):\n",
    "        return self._salary\n",
    "    \n",
    "    # Setter\n",
    "    @salary.setter\n",
    "    def salary(self, salary):\n",
    "        self._salary = 0 if salary < 0 else salary\n",
    "\n",
    "emp1 = Employee('Johan', -30000)\n",
    "\n",
    "emp1.salary = 50000\n",
    "print(emp1.salary)"
   ]
  },
  {
   "cell_type": "code",
   "execution_count": 13,
   "metadata": {},
   "outputs": [
    {
     "name": "stdout",
     "output_type": "stream",
     "text": [
      "Johan Johansson\n",
      "100\n"
     ]
    }
   ],
   "source": [
    "class Person:\n",
    "    def __init__(self, firstname, lastname, age):\n",
    "        self.firstname = firstname\n",
    "        self.lastname = lastname\n",
    "        self.age = age\n",
    "\n",
    "    @property\n",
    "    def fullname(self):\n",
    "        return f'{self.firstname} {self.lastname}'\n",
    "    \n",
    "    @property\n",
    "    def age(self):\n",
    "        return self._age\n",
    "\n",
    "    @age.setter\n",
    "    def age(self, age):\n",
    "        if age < 0:\n",
    "            self._age = 0\n",
    "        elif age > 100:\n",
    "            self._age = 100\n",
    "        else:\n",
    "            self._age = age\n",
    "\n",
    "person = Person('Johan', 'Johansson', 55)\n",
    "print(person.fullname)\n",
    "\n",
    "person.age = 111\n",
    "print(person.age)"
   ]
  }
 ],
 "metadata": {
  "kernelspec": {
   "display_name": "Python_johan_suld-dVL6H7-r",
   "language": "python",
   "name": "python3"
  },
  "language_info": {
   "codemirror_mode": {
    "name": "ipython",
    "version": 3
   },
   "file_extension": ".py",
   "mimetype": "text/x-python",
   "name": "python",
   "nbconvert_exporter": "python",
   "pygments_lexer": "ipython3",
   "version": "3.11.5"
  },
  "orig_nbformat": 4
 },
 "nbformat": 4,
 "nbformat_minor": 2
}
