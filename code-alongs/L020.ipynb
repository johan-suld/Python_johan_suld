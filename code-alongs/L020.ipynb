{
 "cells": [
  {
   "cell_type": "markdown",
   "metadata": {},
   "source": [
    "Inheritence"
   ]
  },
  {
   "cell_type": "code",
   "execution_count": 17,
   "metadata": {},
   "outputs": [
    {
     "name": "stdout",
     "output_type": "stream",
     "text": [
      "Mjau is running\n",
      "Voff is running\n",
      "Nemo is swimming\n",
      "isinstance(cat1, Cat) = True\n",
      "isinstance(cat1, Animal) = True\n",
      "isinstance(cat1, object) = True\n",
      "issubclass(Cat, Animal) = True\n",
      "hasattr(cat1, \"name\") = True\n",
      "Pelle is barking: VOFF!\n",
      "Kalle is barking: voff!\n"
     ]
    }
   ],
   "source": [
    "class Animal:\n",
    "    def __init__(self, name):\n",
    "        self.name = name\n",
    "\n",
    "    def __repr__(self):\n",
    "        return f'My name is {self.name} and Im a {type(self)}'\n",
    "\n",
    "    def move(self):\n",
    "        print(f'{self.name} is running')\n",
    "\n",
    "class Cat(Animal):\n",
    "    ...\n",
    "\n",
    "class Dog(Animal):\n",
    "    def __init__(self, name, is_loud=False):\n",
    "        super().__init__(name)\n",
    "        self.is_loud = is_loud\n",
    "\n",
    "    def barking(self):\n",
    "        print(f'{self.name} is barking: {\"VOFF\" if self.is_loud==True else \"voff\"}!')\n",
    "\n",
    "class Fish(Animal):\n",
    "    # Method override\n",
    "    def move(self):\n",
    "        print(f'{self.name} is swimming')\n",
    "\n",
    "animals = [\n",
    "    Cat('Mjau'),\n",
    "    Dog('Voff'),\n",
    "    Fish('Nemo')\n",
    "]\n",
    "\n",
    "for animal in animals:\n",
    "    animal.move()\n",
    "\n",
    "cat1 = Cat('Kisse')\n",
    "\n",
    "print(f'{isinstance(cat1, Cat) = }')\n",
    "print(f'{isinstance(cat1, Animal) = }')\n",
    "print(f'{isinstance(cat1, object) = }')\n",
    "\n",
    "print(f'{issubclass(Cat, Animal) = }')\n",
    "\n",
    "print(f'{hasattr(cat1, \"name\") = }')\n",
    "\n",
    "dog1 = Dog('Pelle', is_loud=True)\n",
    "dog2 = Dog('Kalle', is_loud=False)\n",
    "dog1.barking()\n",
    "dog2.barking()"
   ]
  }
 ],
 "metadata": {
  "kernelspec": {
   "display_name": "Python_johan_suld-dVL6H7-r",
   "language": "python",
   "name": "python3"
  },
  "language_info": {
   "codemirror_mode": {
    "name": "ipython",
    "version": 3
   },
   "file_extension": ".py",
   "mimetype": "text/x-python",
   "name": "python",
   "nbconvert_exporter": "python",
   "pygments_lexer": "ipython3",
   "version": "3.11.5"
  },
  "orig_nbformat": 4
 },
 "nbformat": 4,
 "nbformat_minor": 2
}
