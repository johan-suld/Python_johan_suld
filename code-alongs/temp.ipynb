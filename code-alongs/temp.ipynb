{
 "cells": [
  {
   "cell_type": "code",
   "execution_count": 5,
   "metadata": {},
   "outputs": [],
   "source": [
    "class Cat:\n",
    "    def __init__(self, name):\n",
    "        self.name = name\n",
    "        self.surname = ...\n",
    "\n",
    "    @property\n",
    "    def surname(self):\n",
    "        return self._surname\n",
    "    \n",
    "    @surname.setter\n",
    "    def surname(self, name):\n",
    "        self._surname = name + 'son'"
   ]
  },
  {
   "cell_type": "code",
   "execution_count": 7,
   "metadata": {},
   "outputs": [
    {
     "name": "stdout",
     "output_type": "stream",
     "text": [
      "Mjau\n"
     ]
    },
    {
     "ename": "AttributeError",
     "evalue": "'Cat' object has no attribute '_surname'",
     "output_type": "error",
     "traceback": [
      "\u001b[1;31m---------------------------------------------------------------------------\u001b[0m",
      "\u001b[1;31mAttributeError\u001b[0m                            Traceback (most recent call last)",
      "\u001b[1;32md:\\GitHub\\Python_johan_suld\\code-alongs\\temp.ipynb Cell 2\u001b[0m line \u001b[0;36m5\n\u001b[0;32m      <a href='vscode-notebook-cell:/d%3A/GitHub/Python_johan_suld/code-alongs/temp.ipynb#W1sZmlsZQ%3D%3D?line=0'>1</a>\u001b[0m cat1 \u001b[39m=\u001b[39m Cat(\u001b[39m'\u001b[39m\u001b[39mMjau\u001b[39m\u001b[39m'\u001b[39m)\n\u001b[0;32m      <a href='vscode-notebook-cell:/d%3A/GitHub/Python_johan_suld/code-alongs/temp.ipynb#W1sZmlsZQ%3D%3D?line=2'>3</a>\u001b[0m \u001b[39mprint\u001b[39m(cat1\u001b[39m.\u001b[39mname)\n\u001b[1;32m----> <a href='vscode-notebook-cell:/d%3A/GitHub/Python_johan_suld/code-alongs/temp.ipynb#W1sZmlsZQ%3D%3D?line=4'>5</a>\u001b[0m \u001b[39mprint\u001b[39m(cat1\u001b[39m.\u001b[39;49m_surname)\n",
      "\u001b[1;31mAttributeError\u001b[0m: 'Cat' object has no attribute '_surname'"
     ]
    }
   ],
   "source": [
    "cat1 = Cat('Mjau')\n",
    "\n",
    "print(cat1.name)\n",
    "\n",
    "print(cat1._surname)"
   ]
  }
 ],
 "metadata": {
  "kernelspec": {
   "display_name": "Python 3",
   "language": "python",
   "name": "python3"
  },
  "language_info": {
   "codemirror_mode": {
    "name": "ipython",
    "version": 3
   },
   "file_extension": ".py",
   "mimetype": "text/x-python",
   "name": "python",
   "nbconvert_exporter": "python",
   "pygments_lexer": "ipython3",
   "version": "3.9.5"
  },
  "orig_nbformat": 4
 },
 "nbformat": 4,
 "nbformat_minor": 2
}
