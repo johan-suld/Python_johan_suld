{
 "cells": [
  {
   "cell_type": "markdown",
   "metadata": {},
   "source": [
    "Fuktioner: Parametrar är det som anges i definitionen, argument är datat man skickar in.\n",
    "Metoder: Kopplade till objekt av en viss datatyp.\n",
    "\n",
    "Abstraction level/layer: is a way of hiding the working details of a subsystem. when working on a low level we are dealing with the fine details of the code, while working on a high level the low level are hidden for us."
   ]
  },
  {
   "cell_type": "code",
   "execution_count": null,
   "metadata": {},
   "outputs": [],
   "source": [
    "def func(name, number_of_times = 1): # optional argument with default value\n",
    "    pass"
   ]
  }
 ],
 "metadata": {
  "kernelspec": {
   "display_name": "Python 3",
   "language": "python",
   "name": "python3"
  },
  "language_info": {
   "name": "python",
   "version": "3.11.5"
  },
  "orig_nbformat": 4
 },
 "nbformat": 4,
 "nbformat_minor": 2
}
