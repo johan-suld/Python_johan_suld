{
 "cells": [
  {
   "cell_type": "code",
   "execution_count": 3,
   "metadata": {},
   "outputs": [
    {
     "name": "stdout",
     "output_type": "stream",
     "text": [
      "en rad\n",
      "en annan rad\n",
      "en tredje rad\n",
      "text[0] = 'e'\n",
      "text[:5] = 'en ra'\n"
     ]
    }
   ],
   "source": [
    "text = \"\"\"en rad\n",
    "en annan rad\n",
    "en tredje rad\"\"\"\n",
    "\n",
    "print(text)\n",
    "print(f\"{text[0] = }\")\n",
    "print(f\"{text[:5] = }\")"
   ]
  },
  {
   "cell_type": "markdown",
   "metadata": {},
   "source": [
    "Metod är en funktion man kör efter en metod"
   ]
  },
  {
   "cell_type": "code",
   "execution_count": 16,
   "metadata": {},
   "outputs": [
    {
     "name": "stdout",
     "output_type": "stream",
     "text": [
      "BOKSTÄVER\n",
      "Ett Två Tre\n",
      "Ett två tre\n",
      "s.startswith('et') = True\n",
      "s.endswith('tr') = False\n",
      "s2.strip() = 'abc'\n",
      "ett TVÅ tre,   abc    , hejsan\n",
      "['ett', 'TVÅ', 'tre']\n",
      "ett TVÅ fyra\n",
      "s.find('TVÅ') = 4\n"
     ]
    }
   ],
   "source": [
    "print(\"bokstäver\".upper())\n",
    "\n",
    "s = 'ett TVÅ tre'\n",
    "s2 = '  abc    '\n",
    "s3 = 'hejsan'\n",
    "slist = [s, s2, s3]\n",
    "\n",
    "print(s.title())\n",
    "print(s.capitalize())\n",
    "print(f\"{s.startswith('et') = }\")\n",
    "print(f\"{s.endswith('tr') = }\")\n",
    "print(f\"{s2.strip() = }\") # finns också lstrip och rstrip\n",
    "print(', '.join(slist))\n",
    "print(f\"{s.split(' ')}\") # default is any whitespace\n",
    "print(s.replace('tre', 'fyra'))\n",
    "print(f\"{s.find('TVÅ') = }\")"
   ]
  }
 ],
 "metadata": {
  "kernelspec": {
   "display_name": "Python 3",
   "language": "python",
   "name": "python3"
  },
  "language_info": {
   "codemirror_mode": {
    "name": "ipython",
    "version": 3
   },
   "file_extension": ".py",
   "mimetype": "text/x-python",
   "name": "python",
   "nbconvert_exporter": "python",
   "pygments_lexer": "ipython3",
   "version": "3.11.5"
  },
  "orig_nbformat": 4
 },
 "nbformat": 4,
 "nbformat_minor": 2
}
