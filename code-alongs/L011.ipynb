{
 "cells": [
  {
   "cell_type": "markdown",
   "metadata": {},
   "source": [
    "# Sets\n",
    "\n",
    "Sets are unordered, unchangeble and dont allow duplicates\n",
    "Items cant be accessed by indexing or slicing\n",
    "Items can be mixed data types"
   ]
  },
  {
   "cell_type": "code",
   "execution_count": 4,
   "metadata": {},
   "outputs": [
    {
     "name": "stdout",
     "output_type": "stream",
     "text": [
      "{1, 3, 4, 5}\n",
      "{3, 4, 5, 6, 7, 8, 12}\n"
     ]
    }
   ],
   "source": [
    "a = {3, 1, 4, 5, 5}\n",
    "\n",
    "print(a)\n",
    "\n",
    "a.add(12)\n",
    "\n",
    "a.update({6, 8, 7})\n",
    "\n",
    "a.discard(1)\n",
    "\n",
    "print(a)"
   ]
  },
  {
   "cell_type": "code",
   "execution_count": 10,
   "metadata": {},
   "outputs": [
    {
     "name": "stdout",
     "output_type": "stream",
     "text": [
      "a = {3, 4, 5, 6, 7, 8, 12}\n",
      "b = {1, 4, 8, 9, 14}\n",
      "a.union(b) = {1, 3, 4, 5, 6, 7, 8, 9, 12, 14}\n",
      "a.intersection(b) = {8, 4}\n",
      "a.difference(b) = {3, 5, 6, 7, 12}\n",
      "a.symmetric_difference(b) = {1, 3, 5, 6, 7, 9, 12, 14}\n"
     ]
    }
   ],
   "source": [
    "b = {4, 1, 8, 9, 14}\n",
    "\n",
    "print(f'{a = }\\n{b = }')\n",
    "print(f'{a.union(b) = }')\n",
    "print(f'{a.intersection(b) = }')\n",
    "print(f'{a.difference(b) = }')\n",
    "print(f'{a.symmetric_difference(b) = }')"
   ]
  }
 ],
 "metadata": {
  "kernelspec": {
   "display_name": "Python 3",
   "language": "python",
   "name": "python3"
  },
  "language_info": {
   "codemirror_mode": {
    "name": "ipython",
    "version": 3
   },
   "file_extension": ".py",
   "mimetype": "text/x-python",
   "name": "python",
   "nbconvert_exporter": "python",
   "pygments_lexer": "ipython3",
   "version": "3.11.5"
  },
  "orig_nbformat": 4
 },
 "nbformat": 4,
 "nbformat_minor": 2
}
