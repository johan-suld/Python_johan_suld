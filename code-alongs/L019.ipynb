{
 "cells": [
  {
   "cell_type": "markdown",
   "metadata": {},
   "source": [
    "Dunder methods (double underscore __ )\n",
    "\n",
    "\\_\\_init__() - Initializes an object\n",
    "\\_\\_str__() - \n",
    "\\_\\_repr__() - \n",
    "\\_\\_add__() - \n",
    "\\_\\_radd__() - "
   ]
  },
  {
   "cell_type": "code",
   "execution_count": 10,
   "metadata": {},
   "outputs": [
    {
     "name": "stdout",
     "output_type": "stream",
     "text": [
      "This is a cat called Mjau\n",
      "Cat(\"Mjau\")\n",
      "Mjau Kisse\n"
     ]
    }
   ],
   "source": [
    "class Cat:\n",
    "    def __init__(self, name, age):\n",
    "        self.name = name\n",
    "        self.age = age\n",
    "\n",
    "    def __str__(self):\n",
    "        return f'This is a cat called {self.name}'\n",
    "    \n",
    "    def __repr__(self):\n",
    "        return f'Cat(\"{self.name}\")'\n",
    "\n",
    "    def __add__(self, other):\n",
    "        return self.name + ' ' + other.name\n",
    "\n",
    "cat = Cat('Mjau', 5)\n",
    "cat2 = Cat('Kisse', 3)\n",
    "\n",
    "print(cat)\n",
    "print(repr(cat))\n",
    "\n",
    "print(cat + cat2)"
   ]
  },
  {
   "cell_type": "code",
   "execution_count": 7,
   "metadata": {},
   "outputs": [
    {
     "data": {
      "text/plain": [
       "'hello[0]'"
      ]
     },
     "execution_count": 7,
     "metadata": {},
     "output_type": "execute_result"
    }
   ],
   "source": [
    "eval('\"hello[0]\"')"
   ]
  },
  {
   "cell_type": "markdown",
   "metadata": {},
   "source": [
    "Operator overload"
   ]
  }
 ],
 "metadata": {
  "kernelspec": {
   "display_name": "Python_johan_suld-dVL6H7-r",
   "language": "python",
   "name": "python3"
  },
  "language_info": {
   "codemirror_mode": {
    "name": "ipython",
    "version": 3
   },
   "file_extension": ".py",
   "mimetype": "text/x-python",
   "name": "python",
   "nbconvert_exporter": "python",
   "pygments_lexer": "ipython3",
   "version": "3.11.5"
  },
  "orig_nbformat": 4
 },
 "nbformat": 4,
 "nbformat_minor": 2
}
