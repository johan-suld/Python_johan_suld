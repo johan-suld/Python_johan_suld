{
 "cells": [
  {
   "cell_type": "markdown",
   "metadata": {},
   "source": [
    "# Files\n",
    "\n",
    "We can categorise files into two main categorys, text files (text, characters) and binary files (byte data)\n",
    "\n",
    "Paths can be expressed as relative (from the current active folder data\\data.json) or absolute (c:\\users\\johan\\desktop\\file.txt).\n",
    "\n",
    "open skapar en file handler som är en referens till filen\n"
   ]
  },
  {
   "cell_type": "code",
   "execution_count": 4,
   "metadata": {},
   "outputs": [
    {
     "name": "stdout",
     "output_type": "stream",
     "text": [
      "this is a text file\n"
     ]
    }
   ],
   "source": [
    "file = open('..\\Data\\example1.txt') # utan filväg så kommer den leta efter filen i samma mapp som scriptet ligger i\n",
    "\n",
    "content = file.read()\n",
    "\n",
    "print(content)\n",
    "\n",
    "file.close()"
   ]
  },
  {
   "cell_type": "code",
   "execution_count": 7,
   "metadata": {},
   "outputs": [],
   "source": [
    "file = open('..\\Data\\example1.txt', 'a') # w skriver över allt i filen, a appendar i filen\n",
    "\n",
    "new_content = 'this is new content'\n",
    "\n",
    "file.write(new_content)\n",
    "\n",
    "file.close()"
   ]
  },
  {
   "cell_type": "code",
   "execution_count": null,
   "metadata": {},
   "outputs": [],
   "source": [
    "with open('..\\Data\\example1.txt', 'r') as file: # med with behöver man inte stänga filen efter\n",
    "    content = file.read()\n",
    "    print(content)"
   ]
  },
  {
   "cell_type": "markdown",
   "metadata": {},
   "source": [
    "# Miniuppgift"
   ]
  },
  {
   "cell_type": "code",
   "execution_count": 18,
   "metadata": {},
   "outputs": [
    {
     "name": "stdout",
     "output_type": "stream",
     "text": [
      "Namn:\n",
      "johan\n",
      "elias\n",
      "anna\n",
      "berit\n",
      "kalle\n",
      "\n"
     ]
    }
   ],
   "source": [
    "input_name = input(\"Enter one name at a time\")\n",
    "names = []\n",
    "\n",
    "while len(input_name) > 0:\n",
    "    names.append(input_name)\n",
    "    input_name = input(\"Enter one name at a time\")\n",
    "\n",
    "with open('..\\\\Data\\\\miniuppgift_names.txt', 'a') as file_names:\n",
    "    for name in names:\n",
    "        file_names.write(name + '\\n')\n",
    "\n",
    "with open('..\\\\Data\\\\miniuppgift_names.txt') as f:\n",
    "    print(f.read())\n",
    "\n",
    "# if not name: break\n",
    "# f.writelines()\n",
    "# f.readlines()"
   ]
  },
  {
   "cell_type": "markdown",
   "metadata": {},
   "source": [
    "# csv"
   ]
  },
  {
   "cell_type": "code",
   "execution_count": null,
   "metadata": {},
   "outputs": [],
   "source": [
    "import csv\n",
    "\n",
    "students = []\n",
    "\n",
    "with open('.csv') as fil:\n",
    "    reader = csv.DictReader(fil)\n",
    "\n",
    "    for row in reader:\n",
    "        students.append({'name': row['name'], 'class': row['class'], 'email': row['email']})"
   ]
  },
  {
   "cell_type": "markdown",
   "metadata": {},
   "source": [
    "# json\n",
    "\n",
    "must written with double quotes"
   ]
  },
  {
   "cell_type": "code",
   "execution_count": 20,
   "metadata": {},
   "outputs": [
    {
     "name": "stdout",
     "output_type": "stream",
     "text": [
      "{\n",
      "    \"firstname\": \"Fredrik\",\n",
      "    \"lastname\": \"Johansson\",\n",
      "    \"age\": 42,\n",
      "    \"languages\": [\n",
      "        \"Python\",\n",
      "        \"C#\",\n",
      "        \"Javascript\"\n",
      "    ],\n",
      "    \"contactinfo\": {\n",
      "        \"phone\": \"0702345678\",\n",
      "        \"email\": [\n",
      "            \"fredrik@everyloop.com\",\n",
      "            \"fredrik@gmail.com\",\n",
      "            \"fredrik.johansson@hotmail.com\"\n",
      "        ]\n",
      "    }\n",
      "}\n",
      "firstname = Fredrik\n",
      "lastname = Johansson\n",
      "age = 42\n",
      "languages = ['Python', 'C#', 'Javascript']\n",
      "contactinfo = {'phone': '0702345678', 'email': ['fredrik@everyloop.com', 'fredrik@gmail.com', 'fredrik.johansson@hotmail.com']}\n"
     ]
    }
   ],
   "source": [
    "import json\n",
    "\n",
    "teacher = {\n",
    "    \"firstname\": \"Fredrik\", \n",
    "    \"lastname\": \"Johansson\", \n",
    "    \"age\": 42,\n",
    "    \"languages\": [\"Python\", \"C#\", \"Javascript\"],\n",
    "    \"contactinfo\": {\n",
    "        \"phone\": \"0702345678\",\n",
    "        \"email\": [\n",
    "            \"fredrik@everyloop.com\", \n",
    "            \"fredrik@gmail.com\", \n",
    "            \"fredrik.johansson@hotmail.com\",\n",
    "        ]\n",
    "    }\n",
    "}\n",
    "\n",
    "serialized_data = json.dumps(teacher, indent=4) # python obj till json sträng\n",
    "\n",
    "print(serialized_data)\n",
    "\n",
    "# print(json.loads(data)) Gör om data till python obj om den kan tolkas som json\n",
    "\n",
    "for key, value in teacher.items():\n",
    "    print(f'{key} = {value}')"
   ]
  }
 ],
 "metadata": {
  "kernelspec": {
   "display_name": "Python_johan_suld-dVL6H7-r",
   "language": "python",
   "name": "python3"
  },
  "language_info": {
   "codemirror_mode": {
    "name": "ipython",
    "version": 3
   },
   "file_extension": ".py",
   "mimetype": "text/x-python",
   "name": "python",
   "nbconvert_exporter": "python",
   "pygments_lexer": "ipython3",
   "version": "3.11.5"
  },
  "orig_nbformat": 4
 },
 "nbformat": 4,
 "nbformat_minor": 2
}
