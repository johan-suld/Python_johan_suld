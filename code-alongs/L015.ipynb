{
 "cells": [
  {
   "cell_type": "markdown",
   "metadata": {},
   "source": [
    "Tuple items are ordered, unchangeble and allow duplicate values\n",
    "Går inte appenda\n",
    "Används ofta när man vet exakt vilka items som ska ingå, t.ex. points (5, 3)"
   ]
  },
  {
   "cell_type": "code",
   "execution_count": 1,
   "metadata": {},
   "outputs": [
    {
     "name": "stdout",
     "output_type": "stream",
     "text": [
      "multiple_vals[0] = 4\n"
     ]
    }
   ],
   "source": [
    "empty_tuple = ()\n",
    "only_one_val = (1,)\n",
    "multiple_vals = (4, 12, 'a', 6)\n",
    "\n",
    "print(f'{multiple_vals[0] = }')"
   ]
  },
  {
   "cell_type": "markdown",
   "metadata": {},
   "source": [
    "Unpacking\n",
    "when we create a tuple, we normally assign values to it, this is called packing a tuple.\n",
    "we are also allowed to extract the values back into variables, this is called unpcking"
   ]
  },
  {
   "cell_type": "code",
   "execution_count": 4,
   "metadata": {},
   "outputs": [
    {
     "name": "stdout",
     "output_type": "stream",
     "text": [
      "4\n",
      "a\n",
      "\n",
      "4\n",
      "12\n",
      "a\n",
      "6\n"
     ]
    }
   ],
   "source": [
    "varA, varB, varC, varD = multiple_vals\n",
    "print(varA)\n",
    "print(varC)\n",
    "print()\n",
    "for item in multiple_vals:\n",
    "    print(item)"
   ]
  }
 ],
 "metadata": {
  "kernelspec": {
   "display_name": "Python_johan_suld-dVL6H7-r",
   "language": "python",
   "name": "python3"
  },
  "language_info": {
   "codemirror_mode": {
    "name": "ipython",
    "version": 3
   },
   "file_extension": ".py",
   "mimetype": "text/x-python",
   "name": "python",
   "nbconvert_exporter": "python",
   "pygments_lexer": "ipython3",
   "version": "3.11.5"
  },
  "orig_nbformat": 4
 },
 "nbformat": 4,
 "nbformat_minor": 2
}
