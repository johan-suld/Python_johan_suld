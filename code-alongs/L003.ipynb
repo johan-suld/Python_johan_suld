{
 "cells": [
  {
   "cell_type": "markdown",
   "metadata": {},
   "source": [
    "f-strings. Literal starts with f or F."
   ]
  },
  {
   "cell_type": "code",
   "execution_count": 8,
   "metadata": {},
   "outputs": [
    {
     "name": "stdout",
     "output_type": "stream",
     "text": [
      "Hello johan\n",
      "Hello johan     !\n",
      "4.12\n",
      "1,000\n",
      "1+1=2\n",
      "\n"
     ]
    }
   ],
   "source": [
    "name = input(\"enter name: \")\n",
    "fstring = f\"Hello {name}\"\n",
    "with_padding = f\"Hello {name:10}!\" # t.ex. om man ska göra kolumner\n",
    "#  {name:<10} {name:x>20} {name:^15}\n",
    "print(fstring)\n",
    "print(with_padding)\n",
    "print(f'{4.12345:.2f}') # datatypsexempel, f - fixed point notation, e - exponent notation, % - percent\n",
    "print(f\"{1000:,}\") # , som tusendelsavgränsare\n",
    "\n",
    "print(f\"{1+1=}\")\n",
    "\n",
    "print()"
   ]
  },
  {
   "cell_type": "markdown",
   "metadata": {},
   "source": [
    "one line operatiors och ternary operators\n",
    "TrueValue if expression else FalseValue"
   ]
  },
  {
   "cell_type": "code",
   "execution_count": 11,
   "metadata": {},
   "outputs": [
    {
     "name": "stdout",
     "output_type": "stream",
     "text": [
      "yes\n",
      "fred ???\n",
      "Please wait 1 second\n"
     ]
    }
   ],
   "source": [
    "x = 5\n",
    "if x < 10 or name == \"\": print(\"yes\")\n",
    "\n",
    "name = \"fred\"\n",
    "lastname = (\"Johansson\" if name == \"Fredrik\" else \"???\")\n",
    "\n",
    "print(f\"{name} {lastname}\")\n",
    "\n",
    "seconds = 1\n",
    "print(f\"Please wait {seconds} second{'s' if seconds != 1 else ''}\")"
   ]
  },
  {
   "cell_type": "markdown",
   "metadata": {},
   "source": [
    "While loop - loops as long as a condition is true\n",
    "break, continue\n",
    "else in loops går i Python. the else statement will not be executed if the loop is stopped by break."
   ]
  },
  {
   "cell_type": "code",
   "execution_count": 12,
   "metadata": {},
   "outputs": [
    {
     "name": "stdout",
     "output_type": "stream",
     "text": [
      "1\n",
      "2\n",
      "3\n",
      "4\n",
      "else\n"
     ]
    }
   ],
   "source": [
    "x = 1\n",
    "while x < 5:\n",
    "    print(x)\n",
    "    x += 1\n",
    "else:\n",
    "    print('else')"
   ]
  },
  {
   "cell_type": "markdown",
   "metadata": {},
   "source": [
    "For loop - used for iterating over a sequence"
   ]
  },
  {
   "cell_type": "code",
   "execution_count": 15,
   "metadata": {},
   "outputs": [
    {
     "name": "stdout",
     "output_type": "stream",
     "text": [
      "3\n",
      "5\n",
      "7\n",
      "9\n",
      "10\n",
      "7\n",
      "4\n"
     ]
    }
   ],
   "source": [
    "for i in range(3, 10, 2):\n",
    "    print(i)\n",
    "\n",
    "for j in range(10, 3, -3):\n",
    "    print(j)"
   ]
  }
 ],
 "metadata": {
  "kernelspec": {
   "display_name": "Python 3",
   "language": "python",
   "name": "python3"
  },
  "language_info": {
   "codemirror_mode": {
    "name": "ipython",
    "version": 3
   },
   "file_extension": ".py",
   "mimetype": "text/x-python",
   "name": "python",
   "nbconvert_exporter": "python",
   "pygments_lexer": "ipython3",
   "version": "3.11.5"
  },
  "orig_nbformat": 4
 },
 "nbformat": 4,
 "nbformat_minor": 2
}
