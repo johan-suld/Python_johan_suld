{
 "cells": [
  {
   "cell_type": "markdown",
   "metadata": {},
   "source": [
    "# Lists"
   ]
  },
  {
   "cell_type": "code",
   "execution_count": 15,
   "metadata": {},
   "outputs": [
    {
     "name": "stdout",
     "output_type": "stream",
     "text": [
      "fruits = ['apple', 'banana', 'pear']\n",
      "fruits.count('apple') = 1\n",
      "fruits = ['apple', 'banana', 'pear', 'banana', 'melon']\n",
      "fruits[-2] = 'banana'\n",
      "fruits[2:5:2] = ['pear', 'melon']\n",
      "0: apple\n",
      "1: banana\n",
      "2: pear\n",
      "3: banana\n",
      "4: melon\n",
      "True\n"
     ]
    }
   ],
   "source": [
    "fruits = ['apple', 'banana', 'pear']\n",
    "more_fruits = ['banana', 'melon']\n",
    "\n",
    "\n",
    "print(f\"{fruits = }\")\n",
    "print(f\"{fruits.count('apple') = }\")\n",
    "\n",
    "fruits.extend(more_fruits)\n",
    "\n",
    "print(f\"{fruits = }\")\n",
    "\n",
    "print(f\"{fruits[-2] = }\") # andra från slutet\n",
    "\n",
    "print(f\"{fruits[2:5:2] = }\") # start stop step\n",
    "\n",
    "for index, fruit in enumerate(fruits):\n",
    "    print(f\"{index}: {fruit}\")\n",
    "\n",
    "print('apple' in fruits)"
   ]
  },
  {
   "cell_type": "markdown",
   "metadata": {},
   "source": [
    "# Mini uppgift"
   ]
  },
  {
   "cell_type": "code",
   "execution_count": 8,
   "metadata": {},
   "outputs": [
    {
     "name": "stdout",
     "output_type": "stream",
     "text": [
      "colors = ['blå', 'gul', 'vit', 'svart']\n"
     ]
    }
   ],
   "source": [
    "colors = []\n",
    "input_color = \"default\"\n",
    "\n",
    "while input_color != \"\":\n",
    "    input_color = input(\"Skriv en färg i taget, lämna fältet tomt och tryck enter när du är klar\")\n",
    "    colors.append(input_color)\n",
    "\n",
    "colors.remove('')\n",
    "print(f\"{colors = }\")"
   ]
  },
  {
   "cell_type": "code",
   "execution_count": 9,
   "metadata": {},
   "outputs": [
    {
     "name": "stdout",
     "output_type": "stream",
     "text": [
      "colors = ['a', 'b', 'c']\n"
     ]
    }
   ],
   "source": [
    "colors = []\n",
    "\n",
    "while True != \"\":\n",
    "    input_color = input(\"Skriv en färg i taget, lämna fältet tomt och tryck enter när du är klar\")\n",
    "    \n",
    "    if not input_color:\n",
    "        break\n",
    "\n",
    "    colors.append(input_color)\n",
    "\n",
    "print(f\"{colors = }\")"
   ]
  },
  {
   "cell_type": "markdown",
   "metadata": {},
   "source": [
    "snake_case ofta i python\n",
    "DRY = don't repeat yourself"
   ]
  },
  {
   "cell_type": "code",
   "execution_count": null,
   "metadata": {},
   "outputs": [],
   "source": []
  },
  {
   "cell_type": "markdown",
   "metadata": {},
   "source": [
    "# list comprehension"
   ]
  },
  {
   "cell_type": "code",
   "execution_count": 17,
   "metadata": {},
   "outputs": [
    {
     "name": "stdout",
     "output_type": "stream",
     "text": [
      "['apple', 'banana', 'pear', 'banana']\n",
      "[0, 1, 2, 3, 4, 5, 6, 7, 8, 9]\n",
      "[0, 2, 4, 6, 8, 10, 12, 14, 16, 18]\n"
     ]
    }
   ],
   "source": [
    "new_list = [fruit for fruit in fruits if 'a' in fruit] # with condition\n",
    "print(new_list)\n",
    "\n",
    "x = list(range(10))\n",
    "\n",
    "y = [item * 2 for item in x] # expression for item in list\n",
    "print(x)\n",
    "print(y)"
   ]
  },
  {
   "cell_type": "markdown",
   "metadata": {},
   "source": [
    "# Miniuppgift 2 + 3"
   ]
  },
  {
   "cell_type": "code",
   "execution_count": 22,
   "metadata": {},
   "outputs": [
    {
     "name": "stdout",
     "output_type": "stream",
     "text": [
      "frukter_utropstecken = ['banan!', 'äpple!', 'päron!', 'clementin!', 'apelsin!']\n",
      "frukter_len5 = ['banan', 'äpple', 'päron']\n",
      "[0, 2, 4, 6, 8, 10, 12, 14, 16, 18, 20, 22, 24, 26, 28, 30, 32, 34, 36, 38, 40, 42, 44, 46, 48, 50, 52, 54, 56, 58, 60, 62, 64, 66, 68, 70, 72, 74, 76, 78, 80, 82, 84, 86, 88, 90, 92, 94, 96, 98, 100]\n"
     ]
    }
   ],
   "source": [
    "# 2\n",
    "frukter = ['banan', 'äpple', 'päron', 'clementin', 'apelsin']\n",
    "\n",
    "frukter_utropstecken = [frukt + '!' for frukt in frukter]\n",
    "\n",
    "print(f\"{frukter_utropstecken = }\")\n",
    "\n",
    "# 3 a\n",
    "\n",
    "frukter_len5 = [frukt2 for frukt2 in frukter if len(frukt2) == 5]\n",
    "print(f\"{frukter_len5 = }\")\n",
    "\n",
    "# 3 b\n",
    "heltal = list(range(101))\n",
    "jamna_heltal = [tal for tal in heltal if tal % 2 == 0]\n",
    "print(jamna_heltal)"
   ]
  }
 ],
 "metadata": {
  "kernelspec": {
   "display_name": "Python 3",
   "language": "python",
   "name": "python3"
  },
  "language_info": {
   "codemirror_mode": {
    "name": "ipython",
    "version": 3
   },
   "file_extension": ".py",
   "mimetype": "text/x-python",
   "name": "python",
   "nbconvert_exporter": "python",
   "pygments_lexer": "ipython3",
   "version": "3.11.5"
  },
  "orig_nbformat": 4
 },
 "nbformat": 4,
 "nbformat_minor": 2
}
