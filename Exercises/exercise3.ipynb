{
 "cells": [
  {
   "cell_type": "markdown",
   "metadata": {},
   "source": [
    "# 1. Count numbers"
   ]
  },
  {
   "cell_type": "code",
   "execution_count": 34,
   "metadata": {},
   "outputs": [
    {
     "name": "stdout",
     "output_type": "stream",
     "text": [
      "a) -10 -9 -8 -7 -6 -5 -4 -3 -2 -1 0 1 2 3 4 5 6 7 8 9 10 \n",
      "b) -10 -8 -6 -4 -2 0 2 4 6 8 10 "
     ]
    }
   ],
   "source": [
    "print(\"a) \", end='')\n",
    "for i in range(-10, 11):\n",
    "    print(i, end=' ')\n",
    "\n",
    "print(\"\\nb) \", end='')\n",
    "for j in range(-10, 11, 2):\n",
    "    print(j, end=' ')"
   ]
  },
  {
   "cell_type": "markdown",
   "metadata": {},
   "source": [
    "# 2. Arithmetic sum"
   ]
  },
  {
   "cell_type": "code",
   "execution_count": 35,
   "metadata": {},
   "outputs": [
    {
     "name": "stdout",
     "output_type": "stream",
     "text": [
      "a) 5050\n",
      "b) 2500\n"
     ]
    }
   ],
   "source": [
    "sumA = 0\n",
    "sumB = 0\n",
    "\n",
    "for i in range(1, 101):\n",
    "    sumA += i\n",
    "\n",
    "for j in range(1, 100, 2):\n",
    "    sumB += j\n",
    "\n",
    "print(f\"a) {sumA}\")\n",
    "print(f\"b) {sumB}\")"
   ]
  },
  {
   "cell_type": "markdown",
   "metadata": {},
   "source": [
    "# 3. Multiplication table"
   ]
  },
  {
   "cell_type": "code",
   "execution_count": 19,
   "metadata": {},
   "outputs": [
    {
     "name": "stdout",
     "output_type": "stream",
     "text": [
      "a) 0 6 12 18 24 30 36 42 48 54 60 \n",
      "b) Multiplication table 5 from 5 to 12: 25 30 35 40 45 50 55 60 \n",
      "c)\n",
      "  0   0   0   0   0   0   0   0   0   0   0 \n",
      "  0   1   2   3   4   5   6   7   8   9  10 \n",
      "  0   2   4   6   8  10  12  14  16  18  20 \n",
      "  0   3   6   9  12  15  18  21  24  27  30 \n",
      "  0   4   8  12  16  20  24  28  32  36  40 \n",
      "  0   5  10  15  20  25  30  35  40  45  50 \n",
      "  0   6  12  18  24  30  36  42  48  54  60 \n",
      "  0   7  14  21  28  35  42  49  56  63  70 \n",
      "  0   8  16  24  32  40  48  56  64  72  80 \n",
      "  0   9  18  27  36  45  54  63  72  81  90 \n",
      "  0  10  20  30  40  50  60  70  80  90 100 "
     ]
    }
   ],
   "source": [
    "\n",
    "# A\n",
    "print(\"a) \", end='')\n",
    "for i in range(0, 11):\n",
    "    print(6 * i, end=' ')\n",
    "\n",
    "# B\n",
    "table = int(input(\"Which table are you interested in? (integer):\")) # ?\n",
    "startOfTable = int(input(\"Specify start of table:\"))\n",
    "endOfTable = int(input(\"Specify end of table:\"))\n",
    "\n",
    "print(f\"\\nb) Multiplication table {table} from {startOfTable} to {endOfTable}: \", end='')\n",
    "for j in range(startOfTable, endOfTable + 1):\n",
    "    print(j * table, end=' ')\n",
    "\n",
    "# C\n",
    "print(\"\\nc)\", end='')\n",
    "for k in range(0, 11):\n",
    "    print(\"\\n\", end='')\n",
    "    for l in range(0, 11):\n",
    "        print(f\"{k * l:3}\", end=' ')"
   ]
  },
  {
   "cell_type": "markdown",
   "metadata": {},
   "source": [
    "# 4. Faculty"
   ]
  },
  {
   "cell_type": "code",
   "execution_count": 40,
   "metadata": {},
   "outputs": [
    {
     "name": "stdout",
     "output_type": "stream",
     "text": [
      "n! where n is 2 is 2\n"
     ]
    }
   ],
   "source": [
    "n = int(input(\"Enter n:\"))\n",
    "sum = 1\n",
    "\n",
    "for i in range(1, n + 1):\n",
    "    sum *= i\n",
    "\n",
    "print(f\"n! where n is {n} is {sum}\")"
   ]
  },
  {
   "cell_type": "markdown",
   "metadata": {},
   "source": [
    "# 5. Guess the number"
   ]
  },
  {
   "cell_type": "code",
   "execution_count": 47,
   "metadata": {},
   "outputs": [
    {
     "name": "stdout",
     "output_type": "stream",
     "text": [
      "The computer eventually guessed 1691 which is correct, the number to guess was 1691\n"
     ]
    }
   ],
   "source": [
    "import random\n",
    "\n",
    "fourDigitNumber = random.randint(1000, 9999)\n",
    "\n",
    "for i in range(1, 10000):\n",
    "    if i == fourDigitNumber:\n",
    "        print(f\"The computer eventually guessed {i} which is correct, the number to guess was {fourDigitNumber}\")\n",
    "    else:\n",
    "        continue"
   ]
  },
  {
   "cell_type": "markdown",
   "metadata": {},
   "source": [
    "# 6. Rice on chessboard"
   ]
  },
  {
   "cell_type": "code",
   "execution_count": 50,
   "metadata": {},
   "outputs": [
    {
     "name": "stdout",
     "output_type": "stream",
     "text": [
      "Total amount of rice on chess board: 18446744073709551615\n"
     ]
    }
   ],
   "source": [
    "sumRice = 0\n",
    "\n",
    "for i in range(0, 64):\n",
    "    sumRice += 2 ** i\n",
    "\n",
    "print(f\"Total amount of rice on chess board: {sumRice}\")"
   ]
  }
 ],
 "metadata": {
  "kernelspec": {
   "display_name": "Python 3",
   "language": "python",
   "name": "python3"
  },
  "language_info": {
   "codemirror_mode": {
    "name": "ipython",
    "version": 3
   },
   "file_extension": ".py",
   "mimetype": "text/x-python",
   "name": "python",
   "nbconvert_exporter": "python",
   "pygments_lexer": "ipython3",
   "version": "3.11.5"
  },
  "orig_nbformat": 4
 },
 "nbformat": 4,
 "nbformat_minor": 2
}
