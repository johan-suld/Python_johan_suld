{
 "cells": [
  {
   "cell_type": "markdown",
   "metadata": {},
   "source": [
    "# 1. Count numbers"
   ]
  },
  {
   "cell_type": "code",
   "execution_count": 7,
   "metadata": {},
   "outputs": [
    {
     "name": "stdout",
     "output_type": "stream",
     "text": [
      "a) -10 -9 -8 -7 -6 -5 -4 -3 -2 -1 0 1 2 3 4 5 6 7 8 9 10 \n",
      "b) -10 -8 -6 -4 -2 0 2 4 6 8 10 "
     ]
    }
   ],
   "source": [
    "print(\"a) \", end='')\n",
    "for i in range(-10, 11):\n",
    "    print(i, end=' ')\n",
    "\n",
    "print(\"\\nb) \", end='')\n",
    "for j in range(-10, 11, 2):\n",
    "    print(j, end=' ')"
   ]
  },
  {
   "cell_type": "markdown",
   "metadata": {},
   "source": [
    "# 2. Arithmetic sum"
   ]
  },
  {
   "cell_type": "code",
   "execution_count": 8,
   "metadata": {},
   "outputs": [
    {
     "name": "stdout",
     "output_type": "stream",
     "text": [
      "a) 5050\n",
      "b) 2500\n"
     ]
    }
   ],
   "source": [
    "sumA = 0\n",
    "sumB = 0\n",
    "\n",
    "for i in range(1, 101):\n",
    "    sumA += i\n",
    "\n",
    "for j in range(1, 100, 2):\n",
    "    sumB += j\n",
    "\n",
    "print(\"a) \" + str(sumA))\n",
    "print(\"b) \" + str(sumB))"
   ]
  },
  {
   "cell_type": "markdown",
   "metadata": {},
   "source": [
    "# 3. Multiplication table"
   ]
  },
  {
   "cell_type": "code",
   "execution_count": 17,
   "metadata": {},
   "outputs": [
    {
     "name": "stdout",
     "output_type": "stream",
     "text": [
      "a) 0 6 12 18 24 30 36 42 48 54 60 \n",
      "b) Multiplication table 1 from 1 to 1: 1   0  0  0  0  0  0  0  0  0  0  0  0  1  2  3  4  5  6  7  8  9 10  0  2  4  6  8 10 12 14 16 18 20  0  3  6  9 12 15 18 21 24 27 30  0  4  8 12 16 20 24 28 32 36 40  0  5 10 15 20 25 30 35 40 45 50  0  6 12 18 24 30 36 42 48 54 60  0  7 14 21 28 35 42 49 56 63 70  0  8 16 24 32 40 48 56 64 72 80  0  9 18 27 36 45 54 63 72 81 90  0 10 20 30 40 50 60 70 80 90100"
     ]
    }
   ],
   "source": [
    "print(\"a) \", end='')\n",
    "for i in range(0, 11):\n",
    "    print(6 * i, end=' ')\n",
    "\n",
    "table = int(input(\"Which table are you interested in? (integer):\")) # ?\n",
    "startOfTable = int(input(\"Specify start of table:\"))\n",
    "endOfTable = int(input(\"Specify end of table:\"))\n",
    "\n",
    "print(f\"\\nb) Multiplication table {table} from {startOfTable} to {endOfTable}: \", end='')\n",
    "for j in range(startOfTable, endOfTable + 1):\n",
    "    print(j * table, end=' ')\n",
    "\n",
    "for i in range(0, 11):\n",
    "    for j in range(0,11):\n",
    "        print(f\"{j * i:3}\", end='')"
   ]
  },
  {
   "cell_type": "markdown",
   "metadata": {},
   "source": [
    "# 4. Faculty"
   ]
  },
  {
   "cell_type": "code",
   "execution_count": 23,
   "metadata": {},
   "outputs": [
    {
     "name": "stdout",
     "output_type": "stream",
     "text": [
      "1\n",
      "2\n",
      "6\n",
      "24\n",
      "120\n",
      "720\n",
      "Sum is 720\n"
     ]
    }
   ],
   "source": [
    "n = int(input(\"Enter n:\"))\n",
    "sum = 1\n",
    "\n",
    "for i in range(1, n + 1):\n",
    "    sum *= i\n",
    "\n",
    "print(f\"Sum is {sum}\")"
   ]
  },
  {
   "cell_type": "markdown",
   "metadata": {},
   "source": [
    "# 5. Guess the number"
   ]
  },
  {
   "cell_type": "code",
   "execution_count": 31,
   "metadata": {},
   "outputs": [
    {
     "name": "stdout",
     "output_type": "stream",
     "text": [
      "The computer eventlually guessed 3778 which is correct\n"
     ]
    }
   ],
   "source": [
    "import random\n",
    "\n",
    "fourDigitNumber = random.randint(1, 9999)\n",
    "\n",
    "for i in range(1, 10000):\n",
    "    if i == fourDigitNumber:\n",
    "        print(f\"The computer eventually guessed {i} which is correct\")\n",
    "    else:\n",
    "        continue"
   ]
  },
  {
   "cell_type": "markdown",
   "metadata": {},
   "source": [
    "# 6. Rice on chessboard"
   ]
  },
  {
   "cell_type": "code",
   "execution_count": 33,
   "metadata": {},
   "outputs": [
    {
     "name": "stdout",
     "output_type": "stream",
     "text": [
      "0 1\n",
      "1 3\n",
      "2 7\n",
      "3 15\n",
      "4 31\n",
      "5 63\n",
      "6 127\n",
      "7 255\n",
      "8 511\n",
      "9 1023\n",
      "10 2047\n",
      "11 4095\n",
      "12 8191\n",
      "13 16383\n",
      "14 32767\n",
      "15 65535\n",
      "16 131071\n",
      "17 262143\n",
      "18 524287\n",
      "19 1048575\n",
      "20 2097151\n",
      "21 4194303\n",
      "22 8388607\n",
      "23 16777215\n",
      "24 33554431\n",
      "25 67108863\n",
      "26 134217727\n",
      "27 268435455\n",
      "28 536870911\n",
      "29 1073741823\n",
      "30 2147483647\n",
      "31 4294967295\n",
      "32 8589934591\n",
      "33 17179869183\n",
      "34 34359738367\n",
      "35 68719476735\n",
      "36 137438953471\n",
      "37 274877906943\n",
      "38 549755813887\n",
      "39 1099511627775\n",
      "40 2199023255551\n",
      "41 4398046511103\n",
      "42 8796093022207\n",
      "43 17592186044415\n",
      "44 35184372088831\n",
      "45 70368744177663\n",
      "46 140737488355327\n",
      "47 281474976710655\n",
      "48 562949953421311\n",
      "49 1125899906842623\n",
      "50 2251799813685247\n",
      "51 4503599627370495\n",
      "52 9007199254740991\n",
      "53 18014398509481983\n",
      "54 36028797018963967\n",
      "55 72057594037927935\n",
      "56 144115188075855871\n",
      "57 288230376151711743\n",
      "58 576460752303423487\n",
      "59 1152921504606846975\n",
      "60 2305843009213693951\n",
      "61 4611686018427387903\n",
      "62 9223372036854775807\n",
      "63 18446744073709551615\n",
      "18446744073709551614\n"
     ]
    }
   ],
   "source": [
    "sumRice = 0\n",
    "sum2 = 0\n",
    "\n",
    "for i in range(1, 66):\n",
    "    if i == 1:\n",
    "        sumRice += 1\n",
    "        #print(str(i) + \" \" + str(sumRice))\n",
    "    else:\n",
    "        sumRice *= 2\n",
    "        #print(str(i) + \" \" + str(sumRice))\n",
    "\n",
    "for i in range(0, 64):\n",
    "    sum2 += 2 ** i\n",
    "    print(str(i) + \" \" + str(sum2))\n",
    "\n",
    "print(sum2)"
   ]
  }
 ],
 "metadata": {
  "kernelspec": {
   "display_name": "Python 3",
   "language": "python",
   "name": "python3"
  },
  "language_info": {
   "codemirror_mode": {
    "name": "ipython",
    "version": 3
   },
   "file_extension": ".py",
   "mimetype": "text/x-python",
   "name": "python",
   "nbconvert_exporter": "python",
   "pygments_lexer": "ipython3",
   "version": "3.11.5"
  },
  "orig_nbformat": 4
 },
 "nbformat": 4,
 "nbformat_minor": 2
}
