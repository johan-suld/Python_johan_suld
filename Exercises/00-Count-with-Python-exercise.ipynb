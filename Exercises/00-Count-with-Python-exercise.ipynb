{
 "cells": [
  {
   "cell_type": "markdown",
   "metadata": {},
   "source": [
    "# Count with Python\n",
    "\n",
    "---\n",
    "These are introductory exercises in Python for fundamental mathematics. It is important to both know mathematics as well as Python in order to understand machine learning concepts. Also a focus here is to use Python as a tool for solving mathematical problems.\n",
    "\n",
    "<p class = \"alert alert-info\" role=\"alert\"><b>Remember</b> to use <b>variables</b> in your computations </p>\n",
    "\n",
    "<p class = \"alert alert-info\" role=\"alert\"><b>Remember</b> to format your answers in a neat way using <b>f-strings</b>\n",
    "\n",
    "The number of stars (\\*), (\\*\\*), (\\*\\*\\*) denotes the difficulty level of the task\n",
    "\n",
    "---"
   ]
  },
  {
   "cell_type": "markdown",
   "metadata": {},
   "source": [
    "## 1. Pythagorean theorem (*)\n",
    "\n",
    "&nbsp; a) &nbsp;  A right angled triangle has the catheti: a = 3 and b = 4 length units. Compute the <b>hypothenuse</b> of the triangle. (*) \n",
    "  \n",
    "&nbsp; b) &nbsp;  A right angled triangle has hypothenuse c = 7.0 and a cathetus a = 5.0 length units. Compute the other cathetus and round to one decimal. (*)"
   ]
  },
  {
   "cell_type": "code",
   "execution_count": 11,
   "metadata": {},
   "outputs": [
    {
     "name": "stdout",
     "output_type": "stream",
     "text": [
      "a) 5 \n",
      "b) 4.9\n"
     ]
    }
   ],
   "source": [
    "import math\n",
    "\n",
    "# a)\n",
    "a_a = 3\n",
    "a_b = 4\n",
    "a_c = math.sqrt(a_a ** 2 + a_b ** 2)\n",
    "\n",
    "# b)\n",
    "b_c = 7\n",
    "b_a = 5\n",
    "b_b = math.sqrt(b_c**2 - b_a**2)\n",
    "\n",
    "print(f\"a) {a_c:.0f} \\nb) {b_b:.1f}\")"
   ]
  },
  {
   "cell_type": "markdown",
   "metadata": {},
   "source": [
    "-----\n",
    "## 2. Classification accuracy (*)\n",
    "\n",
    "A machine learning algorithm has been trained to predict whether or not it would rain the next day. Out of 365 predictions, it got 300 correct, compute the accuracy of this model."
   ]
  },
  {
   "cell_type": "code",
   "execution_count": 13,
   "metadata": {},
   "outputs": [
    {
     "name": "stdout",
     "output_type": "stream",
     "text": [
      "82.2%\n"
     ]
    }
   ],
   "source": [
    "predictions = 365\n",
    "correct = 300\n",
    "\n",
    "accuracy = correct / predictions\n",
    "\n",
    "print(f\"{accuracy:.1%}\")"
   ]
  },
  {
   "cell_type": "markdown",
   "metadata": {},
   "source": [
    "---\n",
    "## 3. Classification accuracy (*)\n",
    "A machine learning model has been trained to detect fire. Here is the result of its predictions: \n",
    "\n",
    "<table align=\"left\">\n",
    "<tbody>\n",
    "  <tr>\n",
    "    <td>True Positive (TP)\n",
    "      <ul>\n",
    "        <li>Reality: fire</li>\n",
    "        <li>Predicted: fire</li>\n",
    "        <li>Number of TP: 2</li>\n",
    "      </ul>\n",
    "    </td>\n",
    "    <td>False Positive (FP)\n",
    "      <ul>\n",
    "        <li>Reality: no fire</li>\n",
    "        <li>Predicted: fire</li>\n",
    "        <li>Number of FP: 2</li>\n",
    "      </ul>\n",
    "    </td>\n",
    "  </tr>\n",
    "\n",
    "  <tr>\n",
    "    <td>False Negative (FN)\n",
    "      <ul>\n",
    "        <li>Reality: fire</li>\n",
    "        <li>Predicted: no fire</li>\n",
    "        <li>Number of FN: 11</li>\n",
    "      </ul>\n",
    "    </td>\n",
    "    <td>True Negative (TN)\n",
    "      <ul>\n",
    "        <li>Reality: no fire</li>\n",
    "        <li>Predicted: no fire</li>\n",
    "        <li>Number of TN: 985</li>\n",
    "      </ul>\n",
    "    </td>\n",
    "  </tr>\n",
    "</tbody>\n",
    "</table>"
   ]
  },
  {
   "cell_type": "markdown",
   "metadata": {},
   "source": [
    "Calculated the accuracy using the following formula:\n",
    "\n",
    "$\\text{accuracy} = \\frac{TP+TN}{TP+TN+FP+FN}$\n",
    "\n",
    "Is this a good model?"
   ]
  },
  {
   "cell_type": "code",
   "execution_count": 14,
   "metadata": {},
   "outputs": [
    {
     "name": "stdout",
     "output_type": "stream",
     "text": [
      "Is this a good model? \n",
      " There was an actual fire 13 times (TP + FN), but the model predicted only 2 of them. \n",
      " For somthing as serious as fire breakouts, 2 out of 13 is too low for a model to be good in my opinion. \n",
      " The total accuracy of the model is close to 1 (0.987) but you would get close to 1 with a model which always predict No fire, \n",
      " since most of the time there are no fires.\n",
      "Accuracy of the model: 98.7%\n"
     ]
    }
   ],
   "source": [
    "TP = 2\n",
    "FP = 2\n",
    "FN = 11\n",
    "TN = 985\n",
    "\n",
    "accuracy = (TP + TN) / (TP + TN + FP + FN)\n",
    "\n",
    "print(\"Is this a good model? \\n There was an actual fire 13 times (TP + FN), but the model predicted only 2 of them. \\n For somthing as serious as fire breakouts, 2 out of 13 is too low for a model to be good in my opinion. \\n The total accuracy of the model is close to 1 (0.987) but you would get close to 1 with a model which always predict No fire, \\n since most of the time there are no fires.\")\n",
    "\n",
    "print(f\"Accuracy of the model: {accuracy:.1%}\")"
   ]
  },
  {
   "cell_type": "markdown",
   "metadata": {},
   "source": [
    "--- \n",
    "## 4. Line (*)\n",
    "Compute the slope $k$ and the constant term $m$ of this line using the points $A: (4,4)$ and $B: (0,1)$. "
   ]
  },
  {
   "cell_type": "code",
   "execution_count": 17,
   "metadata": {},
   "outputs": [
    {
     "name": "stdout",
     "output_type": "stream",
     "text": [
      "k = 0.75 \n",
      "m = 1 \n",
      "The equation is y = 0.75x + 1\n"
     ]
    }
   ],
   "source": [
    "y1 = 4\n",
    "y2 = 1\n",
    "x1 = 4\n",
    "x2 = 0\n",
    "k = (y2 - y1) / (x2 - x1)\n",
    "m = 1 # In the graph the line intercepts the y-axis at y = 1\n",
    "\n",
    "print(f\"k = {k} \\nm = {m} \\nThe equation is y = 0.75x + 1\")"
   ]
  },
  {
   "cell_type": "markdown",
   "metadata": {},
   "source": [
    "---\n",
    "## 5. Euclidean distance (*)\n",
    "\n",
    "The Euclideam distance between the points $P_1$ and $P_2$ is the length of a line between them. Let $P_1: (3,5)$ and $P_2: (-2,4)$ and compute the distance between them."
   ]
  },
  {
   "cell_type": "code",
   "execution_count": 18,
   "metadata": {},
   "outputs": [
    {
     "name": "stdout",
     "output_type": "stream",
     "text": [
      "distance = 5.1\n"
     ]
    }
   ],
   "source": [
    "x1 = 3\n",
    "x2 = -2\n",
    "y1 = 5\n",
    "y2 = 4\n",
    "\n",
    "distance = math.sqrt((x2 - x1) ** 2 + (y2 - y1) ** 2)\n",
    "\n",
    "print(f\"distance = {distance:.1f}\")"
   ]
  },
  {
   "cell_type": "markdown",
   "metadata": {},
   "source": [
    "---\n",
    "## 6. Euclidean distance in 3D (**)\n",
    "\n",
    "Calculate the distance between the points $P_1: (2,1,4)$ and $P_2: (3,1,0)$ "
   ]
  },
  {
   "cell_type": "code",
   "execution_count": 19,
   "metadata": {},
   "outputs": [
    {
     "name": "stdout",
     "output_type": "stream",
     "text": [
      "distance = 4.12\n"
     ]
    }
   ],
   "source": [
    "p1 = 2\n",
    "p2 = 1\n",
    "p3 = 4\n",
    "q1 = 3\n",
    "q2 = 1\n",
    "q3 = 0\n",
    "\n",
    "d = math.sqrt((p1 - q1)**2 + (p2 - q2)**2 + (p3 - q3)**2)\n",
    "\n",
    "print(f\"distance = {d:.2f}\")"
   ]
  }
 ],
 "metadata": {
  "kernelspec": {
   "display_name": "Python 3",
   "language": "python",
   "name": "python3"
  },
  "language_info": {
   "codemirror_mode": {
    "name": "ipython",
    "version": 3
   },
   "file_extension": ".py",
   "mimetype": "text/x-python",
   "name": "python",
   "nbconvert_exporter": "python",
   "pygments_lexer": "ipython3",
   "version": "3.11.5"
  },
  "orig_nbformat": 4
 },
 "nbformat": 4,
 "nbformat_minor": 2
}
