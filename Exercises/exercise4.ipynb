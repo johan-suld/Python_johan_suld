{
 "cells": [
  {
   "cell_type": "markdown",
   "metadata": {},
   "source": [
    "# Not done"
   ]
  },
  {
   "cell_type": "markdown",
   "metadata": {},
   "source": [
    "# 1. Dice rolls"
   ]
  },
  {
   "cell_type": "code",
   "execution_count": 6,
   "metadata": {},
   "outputs": [
    {
     "name": "stdout",
     "output_type": "stream",
     "text": [
      "a) [1, 3, 3, 3, 4, 5, 5, 6, 6, 6]\n",
      "b) [6, 6, 6, 5, 5, 4, 3, 3, 3, 1]\n",
      "c)\n",
      "Max: 6\n",
      "Min: 1\n"
     ]
    }
   ],
   "source": [
    "import random\n",
    "\n",
    "dice_rolls = [random.randint(1, 6) for i in range(10)]\n",
    "\n",
    "# a\n",
    "dice_rolls.sort()\n",
    "print(f\"a) {dice_rolls}\")\n",
    "\n",
    "# b\n",
    "dice_rolls.sort(reverse=True)\n",
    "print(f\"b) {dice_rolls}\")\n",
    "\n",
    "# c\n",
    "print(f\"c)\\nMax: {max(dice_rolls)}\\nMin: {min(dice_rolls)}\")\n"
   ]
  },
  {
   "cell_type": "markdown",
   "metadata": {},
   "source": [
    "# 2. Food menu"
   ]
  },
  {
   "cell_type": "code",
   "execution_count": 13,
   "metadata": {},
   "outputs": [
    {
     "name": "stdout",
     "output_type": "stream",
     "text": [
      "Menu\n",
      "Monday: vegetarisk lasagne\n",
      "Tuesday: spaghetti\n",
      "Wednesday: fisk\n",
      "Thursday: grönsakssoppa\n",
      "Friday: pannkakor\n"
     ]
    }
   ],
   "source": [
    "# a\n",
    "meals = [\"vegetarisk lasagne\", \"spaghetti\", \"fisk\", \"grönsakssoppa\", \"pannkakor\"]\n",
    "\n",
    "# b\n",
    "weekdays = ['Monday', 'Tuesday', 'Wednesday', 'Thursday', 'Friday']\n",
    "\n",
    "# c\n",
    "print(\"Menu\")\n",
    "for i in range(len(weekdays)):\n",
    "    print(f\"{weekdays[i]}: {meals[i]}\")\n"
   ]
  },
  {
   "cell_type": "markdown",
   "metadata": {},
   "source": [
    "# 3. Squares"
   ]
  },
  {
   "cell_type": "code",
   "execution_count": 16,
   "metadata": {},
   "outputs": [
    {
     "name": "stdout",
     "output_type": "stream",
     "text": [
      "a) [100, 81, 64, 49, 36, 25, 16, 9, 4, 1, 0, 1, 4, 9, 16, 25, 36, 49, 64, 81, 100], "
     ]
    }
   ],
   "source": [
    "# a\n",
    "squares = [i ** 2 for i in range(-10, 11)]\n",
    "\n",
    "print(f\"a) {squares}\", end=\", \")\n",
    "\n",
    "# b"
   ]
  },
  {
   "cell_type": "markdown",
   "metadata": {},
   "source": [
    "# 4. Chessboard"
   ]
  },
  {
   "cell_type": "code",
   "execution_count": 2,
   "metadata": {},
   "outputs": [
    {
     "name": "stdout",
     "output_type": "stream",
     "text": [
      "a) b)\n",
      "['A1', 'B1', 'C1', 'D1', 'E1', 'F1', 'G1', 'H1']\n",
      "['A2', 'B2', 'C2', 'D2', 'E2', 'F2', 'G2', 'H2']\n",
      "['A3', 'B3', 'C3', 'D3', 'E3', 'F3', 'G3', 'H3']\n",
      "['A4', 'B4', 'C4', 'D4', 'E4', 'F4', 'G4', 'H4']\n",
      "['A5', 'B5', 'C5', 'D5', 'E5', 'F5', 'G5', 'H5']\n",
      "['A6', 'B6', 'C6', 'D6', 'E6', 'F6', 'G6', 'H6']\n",
      "['A7', 'B7', 'C7', 'D7', 'E7', 'F7', 'G7', 'H7']\n",
      "['A8', 'B8', 'C8', 'D8', 'E8', 'F8', 'G8', 'H8']\n"
     ]
    }
   ],
   "source": [
    "positions = [[letter + str(i) for letter in list(\"ABCDEFGH\")] for i in range(1, 9)]\n",
    "print(\"a) b)\")\n",
    "#[print(list) for list in positions]\n",
    "\n",
    "for sub_list in positions:\n",
    "    print(sub_list, end=\"\\n\")"
   ]
  },
  {
   "cell_type": "markdown",
   "metadata": {},
   "source": [
    "# 5. Dice rolls convergence"
   ]
  },
  {
   "cell_type": "code",
   "execution_count": 21,
   "metadata": {},
   "outputs": [
    {
     "name": "stdout",
     "output_type": "stream",
     "text": [
      "a) Number of sixes out of 100 rolls: 20\n",
      "b)\n",
      "Count of sixes: [0, 14, 159, 1651, 16567, 166217]\n",
      "Share of sixes: [0.0, 0.14, 0.159, 0.1651, 0.16567, 0.166217]\n"
     ]
    }
   ],
   "source": [
    "import random\n",
    "\n",
    "# a\n",
    "dice_rolls = [random.randint(1, 6) for i in range(100)]\n",
    "\n",
    "print(f\"a) Number of sixes out of 100 rolls: {dice_rolls.count(6)}\")\n",
    "\n",
    "# b\n",
    "simulation_sizes = [10, 100, 1000, 10000, 100000, 1000000]\n",
    "number_of_sixes = []\n",
    "share_of_sixes = []\n",
    "\n",
    "for j in range(len(simulation_sizes)):\n",
    "    sum_sixes = 0\n",
    "    for k in range(simulation_sizes[j]):\n",
    "        roll = random.randint(1, 6)\n",
    "        if roll == 6:\n",
    "            sum_sixes += 1\n",
    "    number_of_sixes.append(sum_sixes)\n",
    "\n",
    "for l in range(len(simulation_sizes)):\n",
    "    share_of_sixes.append(number_of_sixes[l] / simulation_sizes[l])\n",
    "\n",
    "print(f\"b)\\nCount of sixes: {number_of_sixes}\\nShare of sixes: {share_of_sixes}\")\n",
    "\n",
    "# c\n"
   ]
  }
 ],
 "metadata": {
  "kernelspec": {
   "display_name": "Python 3",
   "language": "python",
   "name": "python3"
  },
  "language_info": {
   "codemirror_mode": {
    "name": "ipython",
    "version": 3
   },
   "file_extension": ".py",
   "mimetype": "text/x-python",
   "name": "python",
   "nbconvert_exporter": "python",
   "pygments_lexer": "ipython3",
   "version": "3.11.5"
  },
  "orig_nbformat": 4
 },
 "nbformat": 4,
 "nbformat_minor": 2
}
