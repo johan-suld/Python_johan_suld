{
 "cells": [
  {
   "cell_type": "markdown",
   "metadata": {},
   "source": [
    "## 1. Step tracker"
   ]
  },
  {
   "cell_type": "code",
   "execution_count": 29,
   "metadata": {},
   "outputs": [
    {
     "name": "stdout",
     "output_type": "stream",
     "text": [
      "1000\n"
     ]
    }
   ],
   "source": [
    "class StepTracker:\n",
    "    def __init__(self):\n",
    "        self._steps = 0\n",
    "\n",
    "    @property\n",
    "    def steps(self):\n",
    "        return self._steps\n",
    "\n",
    "    def step(self):\n",
    "        self._steps += 1\n",
    "\n",
    "    def reset(self):\n",
    "        self._steps = 0\n",
    "\n",
    "steg = StepTracker()\n",
    "\n",
    "for i in range(1000):\n",
    "    steg.step()\n",
    "\n",
    "print(steg._steps)"
   ]
  },
  {
   "cell_type": "markdown",
   "metadata": {},
   "source": [
    "## 2. Empty/full glass simulator\n",
    "\n",
    "ska det vara _is_full i init, med underscore i början?"
   ]
  },
  {
   "cell_type": "code",
   "execution_count": 30,
   "metadata": {},
   "outputs": [
    {
     "name": "stdout",
     "output_type": "stream",
     "text": [
      "The glass is already empty\n",
      "Filling the glass with water\n",
      "Emptying the glass\n",
      "The glass breaks. Luckily it was empty\n",
      "The glass cannot be filled since it's broken\n"
     ]
    }
   ],
   "source": [
    "class GlassOfWater:\n",
    "    def __init__(self):\n",
    "        self._is_full = 0\n",
    "        self._is_broken = 0\n",
    "\n",
    "    @property\n",
    "    def is_full(self):\n",
    "        return self._is_full\n",
    "    \n",
    "    @property\n",
    "    def is_broken(self):\n",
    "        return self._is_broken\n",
    "\n",
    "    def fill(self):\n",
    "        if self._is_broken == 1: print(\"The glass cannot be filled since it's broken\")\n",
    "        elif self._is_full == 0:\n",
    "            self._is_full = 1\n",
    "            print('Filling the glass with water')\n",
    "        else:\n",
    "            print('The glass is already full')\n",
    "\n",
    "    def empty(self):\n",
    "        if self._is_broken == 1: print(\"The glass cannot be emptied since it's broken\")\n",
    "        elif self._is_full == 1:\n",
    "            self._is_full = 0\n",
    "            print('Emptying the glass')\n",
    "        else:\n",
    "            print('The glass is already empty')\n",
    "\n",
    "    def crash(self):\n",
    "        self._is_broken = 1\n",
    "        if self._is_full == 1:\n",
    "            print('The glass breaks. Now there is water all over the floor')\n",
    "        else:\n",
    "            print('The glass breaks. Luckily it was empty')\n",
    "    \n",
    "my_glass = GlassOfWater()\n",
    "\n",
    "my_glass.empty()\n",
    "my_glass.fill()\n",
    "my_glass.empty()\n",
    "my_glass.crash()\n",
    "my_glass.fill()"
   ]
  },
  {
   "cell_type": "markdown",
   "metadata": {},
   "source": [
    "## 3. Red and blue"
   ]
  },
  {
   "cell_type": "code",
   "execution_count": 42,
   "metadata": {},
   "outputs": [
    {
     "name": "stdout",
     "output_type": "stream",
     "text": [
      "60\n",
      "red_blue.blue = 10\n"
     ]
    }
   ],
   "source": [
    "class RedAndBlue:\n",
    "    def __init__(self) -> None:\n",
    "        self.red = 100\n",
    "        self.blue = 0\n",
    "\n",
    "    @property\n",
    "    def red(self):\n",
    "        return self._red\n",
    "\n",
    "    @red.setter\n",
    "    def red(self, value):\n",
    "        if value < 0 or value > 100:\n",
    "            print('Value must be minimum 0.0 and maximum 100.0')\n",
    "        else:\n",
    "            self._red = value\n",
    "            self._blue = 100 - value\n",
    "\n",
    "    @property\n",
    "    def blue(self):\n",
    "        return self._blue\n",
    "\n",
    "    @blue.setter\n",
    "    def blue(self, value):\n",
    "        self._blue = value\n",
    "        self._red = 100 - value\n",
    "\n",
    "red_blue = RedAndBlue()\n",
    "red_blue.blue = 40\n",
    "print(red_blue.red)\n",
    "\n",
    "red_blue.red = 90\n",
    "print(f'{red_blue.blue = }')"
   ]
  }
 ],
 "metadata": {
  "kernelspec": {
   "display_name": "Python_johan_suld-dVL6H7-r",
   "language": "python",
   "name": "python3"
  },
  "language_info": {
   "codemirror_mode": {
    "name": "ipython",
    "version": 3
   },
   "file_extension": ".py",
   "mimetype": "text/x-python",
   "name": "python",
   "nbconvert_exporter": "python",
   "pygments_lexer": "ipython3",
   "version": "3.11.5"
  },
  "orig_nbformat": 4
 },
 "nbformat": 4,
 "nbformat_minor": 2
}
