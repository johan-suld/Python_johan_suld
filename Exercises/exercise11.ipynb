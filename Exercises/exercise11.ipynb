{
 "cells": [
  {
   "cell_type": "markdown",
   "metadata": {},
   "source": [
    "# OOP introductory exercises\n",
    "\n",
    "---\n",
    "These are introductory exercises in Python with focus in **Object oriented programming**.\n",
    "\n",
    "<p class = \"alert alert-info\" role=\"alert\"><b>Remember</b> to use <b>descriptive variable, function and class names</b> in order to get readable code </p>\n",
    "\n",
    "<p class = \"alert alert-info\" role=\"alert\"><b>Remember</b> to format your answers in a neat way using <b>f-strings</b></p>\n",
    "\n",
    "The number of stars (\\*), (\\*\\*), (\\*\\*\\*) denotes the difficulty level of the task\n",
    "\n",
    "---"
   ]
  },
  {
   "cell_type": "markdown",
   "metadata": {},
   "source": [
    "## 1. Step tracker\n",
    "\n",
    "Create a class that can be used as a step tracker. It should have a property \"steps\" that is read only; a method step() that increases \"steps\" by 1 each time it is called; and a method reset() that resets the counter.\n",
    "\n",
    "Instantiate the class, and write a loop that simulates walking 1000 steps. Then print the value of \"steps\"."
   ]
  },
  {
   "cell_type": "code",
   "execution_count": 1,
   "metadata": {},
   "outputs": [
    {
     "name": "stdout",
     "output_type": "stream",
     "text": [
      "1000\n"
     ]
    }
   ],
   "source": [
    "class StepTracker:\n",
    "    def __init__(self):\n",
    "        self.reset()\n",
    "\n",
    "    @property\n",
    "    def steps(self):\n",
    "        return self._steps\n",
    "\n",
    "    def step(self):\n",
    "        self._steps += 1\n",
    "\n",
    "    def reset(self):\n",
    "        self._steps = 0\n",
    "\n",
    "steg = StepTracker()\n",
    "\n",
    "for i in range(1000):\n",
    "    steg.step()\n",
    "\n",
    "print(steg._steps)"
   ]
  },
  {
   "cell_type": "markdown",
   "metadata": {},
   "source": [
    "---\n",
    "## 2. Empty/full glass simulator (*)\n",
    "\n",
    "Create a class that represents a glass of water. It should have a method for filling the glass, and another method for emptying the glass. Also, there needs to be an internal/private attribute that keeps track of if the glass is empty or full. Depending on the current state (empty/full), the method that fills the glass should print either \"Filling the glass with water\" or \"The glass is already full\". The other method should print either \"Emptying the glass\" or \"The glass is already empty\".\n",
    "\n",
    "**Additional exercise:** Add another method to break the glass. Every glass (instance) keeps track of it's internal state, and prints what happens when the different methods are executed. Eg. \"The glass breaks. Now there is water all over the floor\", or \"The glass can not be filled, since it's broken\", etc."
   ]
  },
  {
   "cell_type": "code",
   "execution_count": 2,
   "metadata": {},
   "outputs": [
    {
     "name": "stdout",
     "output_type": "stream",
     "text": [
      "The glass is already empty\n",
      "Filling the glass with water\n",
      "Emptying the glass\n",
      "The glass breaks. Luckily it was empty\n",
      "The glass cannot be filled since it's broken\n"
     ]
    }
   ],
   "source": [
    "class GlassOfWater:\n",
    "    def __init__(self):\n",
    "        self._is_full = False # Ändra till True/False\n",
    "        self._is_broken = False\n",
    "\n",
    "    def fill(self):\n",
    "        if self._is_broken == True: print(\"The glass cannot be filled since it's broken\")\n",
    "        elif self._is_full == False:\n",
    "            self._is_full = True\n",
    "            print('Filling the glass with water')\n",
    "        else:\n",
    "            print('The glass is already full')\n",
    "\n",
    "    def empty(self):\n",
    "        if self._is_broken == True: print(\"The glass cannot be emptied since it's broken\")\n",
    "        elif self._is_full == True:\n",
    "            self._is_full = False\n",
    "            print('Emptying the glass')\n",
    "        else:\n",
    "            print('The glass is already empty')\n",
    "\n",
    "    def crash(self):\n",
    "        self._is_broken = True\n",
    "        if self._is_full == True:\n",
    "            print('The glass breaks. Now there is water all over the floor')\n",
    "        else:\n",
    "            print('The glass breaks. Luckily it was empty')\n",
    "    \n",
    "my_glass = GlassOfWater()\n",
    "\n",
    "my_glass.empty()\n",
    "my_glass.fill()\n",
    "my_glass.empty()\n",
    "my_glass.crash()\n",
    "my_glass.fill()"
   ]
  },
  {
   "cell_type": "markdown",
   "metadata": {},
   "source": [
    "---\n",
    "## 3. Red and blue (*)\n",
    "\n",
    "Create a class that has a property \"red\", and a property \"blue\". Both should be floats, and be able to take any value between 0.0 and 100.0. However, they should be \"linked\" in such a way that the sum of \"red\" and \"blue\" always is 100.0. i.e. if we set the value of \"blue\" to 8.5, and then read the value of \"red\", it should return 91.5"
   ]
  },
  {
   "cell_type": "code",
   "execution_count": 3,
   "metadata": {},
   "outputs": [
    {
     "name": "stdout",
     "output_type": "stream",
     "text": [
      "red_blue.blue = 40.5\n",
      "red_blue.red = 59.5\n"
     ]
    }
   ],
   "source": [
    "class RedAndBlue:\n",
    "    def __init__(self):\n",
    "        self.red = 50.0\n",
    "        self.blue = 50.0\n",
    "\n",
    "    @property\n",
    "    def red(self):\n",
    "        return self._red\n",
    "\n",
    "    @red.setter\n",
    "    def red(self, value):\n",
    "        if value < 0 or value > 100:\n",
    "            print('Value must be minimum 0.0 and maximum 100.0')\n",
    "        else:\n",
    "            self._red = value\n",
    "            self._blue = 100 - value\n",
    "\n",
    "    @property\n",
    "    def blue(self):\n",
    "        return self._blue\n",
    "\n",
    "    @blue.setter\n",
    "    def blue(self, value):\n",
    "        if value < 0 or value > 100:\n",
    "            print('Value must be minimum 0.0 and maximum 100.0')\n",
    "        else:\n",
    "            self._blue = value\n",
    "            self._red = 100 - value\n",
    "\n",
    "red_blue = RedAndBlue()\n",
    "\n",
    "red_blue.blue = 40.5\n",
    "\n",
    "print(f'{red_blue.blue = }')\n",
    "print(f'{red_blue.red = }')"
   ]
  },
  {
   "cell_type": "markdown",
   "metadata": {},
   "source": [
    "---\n",
    "## 4. One thousand cars (*)\n",
    "\n",
    "Create a class that represents a car. Every car can have a color and a length. When a new car is instantiated it gets a random color, and a random length (between 3 and 5 meters). Instatiate 1000 cars a save them in a list. Then print the sum of the length of all green cars in the list."
   ]
  },
  {
   "cell_type": "code",
   "execution_count": 6,
   "metadata": {},
   "outputs": [
    {
     "name": "stdout",
     "output_type": "stream",
     "text": [
      "835.089092926246\n"
     ]
    }
   ],
   "source": [
    "import random\n",
    "\n",
    "class Car:\n",
    "    def __init__(self):\n",
    "        self.color = random.choice(['black', 'white', 'red', 'green', 'purple'])\n",
    "        self.length = random.uniform(3, 5)\n",
    "\n",
    "cars = [Car() for i in range(1000)]\n",
    "\n",
    "length_sum = 0\n",
    "\n",
    "for car in cars:\n",
    "    if car.color == 'green':\n",
    "        length_sum += car.length\n",
    "\n",
    "print(length_sum)"
   ]
  },
  {
   "cell_type": "markdown",
   "metadata": {},
   "source": [
    "---\n",
    "## 5. Email (**)\n",
    "\n",
    "Create an email class with a property \"address\". When we set this property it should validate that we gave it a proper email address by checking that it contains one or more letter, followed by an at-sign (@), followed by one or more letter, then a dot (.), then at least to letters.\n",
    "\n",
    "We should also be able to provide the address directly, when creating an new instance of the class (it must still be validated).\n",
    "\n",
    "The class should also have the following properties: \"username\", \"domainname\", and \"topdomain\" implemented in such a way that, if we set the address to \"fredrik@everyloop.com\", the username should read \"fredrik\", the domainname should read \"everyloop.com\", and the topdomain should read \"com\".\n",
    "\n",
    "When changing any of the four properties, all the others must be updated accordingly; and the address must always remain valid."
   ]
  },
  {
   "cell_type": "code",
   "execution_count": null,
   "metadata": {},
   "outputs": [],
   "source": [
    "import re\n",
    "\n",
    "class Email:\n",
    "    def __init__(self, emailaddress):\n",
    "        self.address = emailaddress\n",
    "        self.username = ''\n",
    "        #self.domainname = \n",
    "        #self.topdomain = \n",
    "        #pass\n",
    "\n",
    "    def address_validation(emailaddress):\n",
    "        return re.search('^[A-z]+.*@([A-z]+\\.)+[A-z]{2,}$', emailaddress) # Not functioning fully\n",
    "\n",
    "    @property\n",
    "    def address(self):\n",
    "        return self._address\n",
    "    \n",
    "    @address.setter\n",
    "    def address(self, address):\n",
    "        self._address = address if Email.address_validation(address) is not None else print('Invalid e-mail address')\n",
    "\n",
    "    @property\n",
    "    def username(self):\n",
    "        return self._username\n",
    "    \n",
    "    @username.setter\n",
    "    def username(self, emailaddress):\n",
    "        if Email.address_validation(emailaddress) is not None:\n",
    "            self._username = emailaddress[:emailaddress.find('@')] \n",
    "        else:\n",
    "            self._username = 'error'"
   ]
  },
  {
   "cell_type": "code",
   "execution_count": null,
   "metadata": {},
   "outputs": [],
   "source": [
    "\n",
    "\n",
    "email1 = Email('johan.suld@gmail.com')\n",
    "print(email1._address)\n",
    "print(email1.username)"
   ]
  },
  {
   "cell_type": "code",
   "execution_count": null,
   "metadata": {},
   "outputs": [],
   "source": [
    "import re\n",
    "\n",
    "email = 'johan.suld@gmail.com'\n",
    "email2 = 'johan@suld@gmail.com'\n",
    "\n",
    "check2 = re.search('^[A-z]+.*@([A-z]+\\.)+[A-z]{2,}$', email)\n",
    "\n",
    "print(check2)\n",
    "print(check2 is not None)\n",
    "\n",
    "print(re.search('/*@/', email))\n",
    "\n",
    "email[:email.find('@')]"
   ]
  }
 ],
 "metadata": {
  "kernelspec": {
   "display_name": "Python_johan_suld-dVL6H7-r",
   "language": "python",
   "name": "python3"
  },
  "language_info": {
   "codemirror_mode": {
    "name": "ipython",
    "version": 3
   },
   "file_extension": ".py",
   "mimetype": "text/x-python",
   "name": "python",
   "nbconvert_exporter": "python",
   "pygments_lexer": "ipython3",
   "version": "3.9.5"
  },
  "orig_nbformat": 4
 },
 "nbformat": 4,
 "nbformat_minor": 2
}
