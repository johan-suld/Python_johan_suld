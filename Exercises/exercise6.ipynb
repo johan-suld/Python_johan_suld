{
 "cells": [
  {
   "cell_type": "markdown",
   "metadata": {},
   "source": [
    "# Not done"
   ]
  },
  {
   "cell_type": "markdown",
   "metadata": {},
   "source": [
    "# 1. Area"
   ]
  },
  {
   "cell_type": "code",
   "execution_count": 2,
   "metadata": {},
   "outputs": [
    {
     "name": "stdout",
     "output_type": "stream",
     "text": [
      "The area of the triangle is 6.0\n"
     ]
    }
   ],
   "source": [
    "def area_of_triangle(base, height):\n",
    "    return base * height / 2\n",
    "\n",
    "print(f'The area of the triangle is {area_of_triangle(3, 4)}')"
   ]
  },
  {
   "cell_type": "markdown",
   "metadata": {},
   "source": [
    "# 2. Euclidean distance"
   ]
  },
  {
   "cell_type": "code",
   "execution_count": 14,
   "metadata": {},
   "outputs": [
    {
     "name": "stdout",
     "output_type": "stream",
     "text": [
      "b) The euclidean distance is: 8.5\n",
      "c) [10.4, 9.1, 14.1, 4.5, 13.5]\n"
     ]
    }
   ],
   "source": [
    "import math\n",
    "\n",
    "def euclidean_distance(p1, p2, q1, q2):\n",
    "    return math.sqrt((p1 - q1) ** 2 + (p2 - q2) ** 2)\n",
    "\n",
    "input_p = input('Enter point one: (p1,p2)')\n",
    "input_q = input('Enter point two: (q1,q2)')\n",
    "input_p1 = int(input_p[:input_p.find(',')])\n",
    "input_p2 = int(input_p[input_p.find(',') + 1:])\n",
    "input_q1 = int(input_q[:input_q.find(',')])\n",
    "input_q2 = int(input_q[input_q.find(',') + 1:])\n",
    "\n",
    "input_distance = euclidean_distance(input_p1, input_p2, input_q1, input_q2)\n",
    "\n",
    "print(f'b) The euclidean distance is: {round(input_distance, 1)}')\n",
    "\n",
    "points_to_calc = [(10, 3), (-1, -9), (10, -10), (4, -2), (9, -10)]\n",
    "distance_results = []\n",
    "\n",
    "for point in points_to_calc:\n",
    "    distance_results.append(round(euclidean_distance(0, 0, point[0], point[1]), 1))\n",
    "\n",
    "print(f'c) {distance_results}')"
   ]
  },
  {
   "cell_type": "markdown",
   "metadata": {},
   "source": [
    "# 3. Mathematical functions"
   ]
  },
  {
   "cell_type": "code",
   "execution_count": null,
   "metadata": {},
   "outputs": [],
   "source": []
  },
  {
   "cell_type": "markdown",
   "metadata": {},
   "source": [
    "# 4. Name cleaner"
   ]
  },
  {
   "cell_type": "code",
   "execution_count": 15,
   "metadata": {},
   "outputs": [
    {
     "name": "stdout",
     "output_type": "stream",
     "text": [
      "Marcus\n",
      "Ida Anderson\n",
      "Olof Olofsson\n"
     ]
    }
   ],
   "source": [
    "def name_cleaner(name):\n",
    "    return name.strip().title()\n",
    "\n",
    "for i in [\"  MaRcUs \", \" iDA aNderSon\", \"OLOF Olofsson            \"  ]:\n",
    "    print(name_cleaner(i))"
   ]
  },
  {
   "cell_type": "markdown",
   "metadata": {},
   "source": [
    "# 5. Change"
   ]
  },
  {
   "cell_type": "code",
   "execution_count": 26,
   "metadata": {},
   "outputs": [
    {
     "name": "stdout",
     "output_type": "stream",
     "text": [
      "2678 changes to:\n",
      "2st 1000-lapp\n",
      "3st 200-lapp\n",
      "0st 100-lapp\n",
      "1st femtiolapp\n",
      "1st tjugolapp\n",
      "0st tiokrona\n",
      "1st femkrona\n",
      "1st tvåkrona\n",
      "\n"
     ]
    }
   ],
   "source": [
    "import math\n",
    "\n",
    "def change(amount):\n",
    "    tusen = math.floor(amount / 1000)\n",
    "    tvahundra = math.floor((amount % 1000) / 200)\n",
    "    hundra = math.floor((amount % 1000 % 200) / 100)\n",
    "    femtio = math.floor((amount % 1000 % 200 % 100) / 50)\n",
    "    tjugo = math.floor((amount % 1000 % 200 % 100 % 50) / 20)\n",
    "    tio = math.floor((amount % 1000 % 200 % 100 % 50 % 20) / 10)\n",
    "    fem = math.floor((amount % 1000 % 200 % 100 % 50 % 20 % 10) / 5)\n",
    "    tva = math.floor((amount % 1000 % 200 % 100 % 50 % 20 % 10 % 5) / 2)\n",
    "\n",
    "    return f'''{tusen}st 1000-lapp\n",
    "{tvahundra}st 200-lapp\n",
    "{hundra}st 100-lapp\n",
    "{femtio}st femtiolapp\n",
    "{tjugo}st tjugolapp\n",
    "{tio}st tiokrona\n",
    "{fem}st femkrona\n",
    "{tva}st tvåkrona\n",
    "'''\n",
    "\n",
    "input_to_change = int(input('Enter amount to change:'))\n",
    "print(f'{input_to_change} changes to:\\n{change(input_to_change)}')\n"
   ]
  }
 ],
 "metadata": {
  "kernelspec": {
   "display_name": "Python 3",
   "language": "python",
   "name": "python3"
  },
  "language_info": {
   "codemirror_mode": {
    "name": "ipython",
    "version": 3
   },
   "file_extension": ".py",
   "mimetype": "text/x-python",
   "name": "python",
   "nbconvert_exporter": "python",
   "pygments_lexer": "ipython3",
   "version": "3.11.5"
  },
  "orig_nbformat": 4
 },
 "nbformat": 4,
 "nbformat_minor": 2
}
