{
 "cells": [
  {
   "cell_type": "markdown",
   "metadata": {},
   "source": [
    "# 1. Check sign"
   ]
  },
  {
   "cell_type": "code",
   "execution_count": 4,
   "metadata": {},
   "outputs": [
    {
     "name": "stdout",
     "output_type": "stream",
     "text": [
      "Entered number is 0\n"
     ]
    }
   ],
   "source": [
    "inputNumber = input(\"Enter a number: \")\n",
    "inputNumberInt = int(inputNumber)\n",
    "\n",
    "if inputNumberInt > 0:\n",
    "    print(f\"Entered number {inputNumber} is positive\")\n",
    "elif inputNumberInt < 0:\n",
    "    print(f\"Entered number {inputNumber} is negative\")\n",
    "else:\n",
    "    print(f\"Entered number is {inputNumber}\")\n"
   ]
  },
  {
   "cell_type": "markdown",
   "metadata": {},
   "source": [
    "# 2. Smallest"
   ]
  },
  {
   "cell_type": "code",
   "execution_count": 9,
   "metadata": {},
   "outputs": [
    {
     "name": "stdout",
     "output_type": "stream",
     "text": [
      "Both numbers 3 and 3 are equal\n"
     ]
    }
   ],
   "source": [
    "inputNumberA = input(\"Enter one number: \")\n",
    "inputNumberB = input(\"Enter another number: \")\n",
    "inputNumberAint = int(inputNumberA)\n",
    "inputNumberBint = int(inputNumberB)\n",
    "\n",
    "if inputNumberA < inputNumberB:\n",
    "    print(f\"The first input number {inputNumberA} is the smallest\")\n",
    "elif inputNumberA > inputNumberB:\n",
    "    print(f\"The second input number {inputNumberB} is the smallest\")\n",
    "else:\n",
    "    print(f\"Both numbers {inputNumberA} and {inputNumberB} are equal\")"
   ]
  },
  {
   "cell_type": "markdown",
   "metadata": {},
   "source": [
    "# 3. Right angle"
   ]
  },
  {
   "cell_type": "code",
   "execution_count": 12,
   "metadata": {},
   "outputs": [
    {
     "name": "stdout",
     "output_type": "stream",
     "text": [
      "The triangle has no right angle\n"
     ]
    }
   ],
   "source": [
    "inputAngleA = int(input(\"Enter angle A of a triangle: \"))\n",
    "inputAngleB = int(input(\"Enter angle B of a triangle: \"))\n",
    "inputAngleC = int(input(\"Enter angle C of a triangle: \"))\n",
    "sumOfAngles = inputAngleA + inputAngleB + inputAngleC\n",
    "\n",
    "if sumOfAngles == 180:\n",
    "    if max(inputAngleA, inputAngleB, inputAngleC) == 90:\n",
    "        print(\"The triangle has a right angle\")\n",
    "    else:\n",
    "        print(\"The triangle has no right angle\")\n",
    "else:\n",
    "    print(f\"Enter the correct angles, the sum of all inputs is {sumOfAngles}, which is impossible for a triangle\")"
   ]
  },
  {
   "cell_type": "markdown",
   "metadata": {},
   "source": [
    "# 4. Medicine"
   ]
  },
  {
   "cell_type": "code",
   "execution_count": 19,
   "metadata": {},
   "outputs": [
    {
     "name": "stdout",
     "output_type": "stream",
     "text": [
      "Recommended dosage for age 12 and weight 20 is 1/2 pill\n"
     ]
    }
   ],
   "source": [
    "age = int(input(\"Enter age: \"))\n",
    "weight = int(input(\"Enter weight: \"))\n",
    "\n",
    "if age <= 12: # Outer if statement checks if children, or adult with >40 weight. Else is if it's and adult with weight <= 40.\n",
    "    if 15 <= weight <= 25: # Inner if statement checks weight of children rather than age, since weight is more important.\n",
    "        print(f\"Recommended dosage for age {age} and weight {weight} is 1/2 pill\")\n",
    "    elif 26 <= weight <= 40:\n",
    "        print(f\"Recommended dosage for age {age} and weight {weight} is 1/2 - 1 pill\")\n",
    "    else: # Children weight is <15 or >40.\n",
    "        print(f\"The input weight {weight} for children is not supported, contact a doctor\")\n",
    "elif age > 12 and weight > 40: # Adult with supported weight.\n",
    "    print(f\"Recommended dosage for adult/adolescent and weight {weight} is 1 - 2 pills\")\n",
    "else: # Adult with weight <40.\n",
    "    print(f\"The input weight {weight} is too low and not supported, contact a doctor\")"
   ]
  },
  {
   "cell_type": "markdown",
   "metadata": {},
   "source": [
    "# 5. Divisible"
   ]
  },
  {
   "cell_type": "code",
   "execution_count": 27,
   "metadata": {},
   "outputs": [
    {
     "name": "stdout",
     "output_type": "stream",
     "text": [
      "1. Number is odd \n",
      "2. Number is divisible by 5\n",
      "3. Number is both odd and divisible by 5\n"
     ]
    }
   ],
   "source": [
    "inputNumberDivisible = int(input(\"Enter a number: \"))\n",
    "\n",
    "evenOrOdd = \"even\" if inputNumberDivisible % 2 == 0 else \"odd\"\n",
    "divisibleByFive = \"divisible by 5\" if inputNumberDivisible % 5 == 0 else \"not divisible by 5\"\n",
    "\n",
    "print(f\"1. Number is {evenOrOdd} \\n2. Number is {divisibleByFive}\")\n",
    "if evenOrOdd == \"odd\" and divisibleByFive == \"divisible by 5\":\n",
    "    print(f\"3. Number is both odd and divisible by 5\")\n",
    "else:\n",
    "    print(f\"3. Number is NOT both odd and divisible by 5\")\n",
    "\n",
    "#print(\"Entered is even\" if inputNumberDivisible % 2 == 0 else print(\"Number is odd\"))\n",
    "#print(\"Number is divisible by 5\" if inputNumberDivisible % 5 == 0 else print(\"Number is not divisible by 5\"))\n",
    "\n"
   ]
  },
  {
   "cell_type": "markdown",
   "metadata": {},
   "source": [
    "# 6. Luggage size"
   ]
  },
  {
   "cell_type": "code",
   "execution_count": 37,
   "metadata": {},
   "outputs": [
    {
     "name": "stdout",
     "output_type": "stream",
     "text": [
      "Luggage is not allowed\n"
     ]
    }
   ],
   "source": [
    "maxWeight = 8\n",
    "maxLength = 55\n",
    "maxWidth = 40\n",
    "maxHeight = 23\n",
    "\n",
    "inputWeight = float(input(\"Enter weight (kg): \"))\n",
    "inputLength = float(input(\"Enter length (cm): \"))\n",
    "inputWidth = float(input(\"Enter width (cm): \"))\n",
    "inputHeight = float(input(\"Enter height (cm): \"))\n",
    "\n",
    "if inputWeight <= maxWeight and inputLength <= maxLength and inputWidth <= maxWidth and inputHeight <= maxHeight:\n",
    "    isAllowed = 1\n",
    "else:\n",
    "    isAllowed = 0\n",
    "\n",
    "print(f\"Luggage is {'not ' if isAllowed == 0 else ''}allowed\")"
   ]
  }
 ],
 "metadata": {
  "kernelspec": {
   "display_name": "Python 3",
   "language": "python",
   "name": "python3"
  },
  "language_info": {
   "codemirror_mode": {
    "name": "ipython",
    "version": 3
   },
   "file_extension": ".py",
   "mimetype": "text/x-python",
   "name": "python",
   "nbconvert_exporter": "python",
   "pygments_lexer": "ipython3",
   "version": "3.11.5"
  },
  "orig_nbformat": 4
 },
 "nbformat": 4,
 "nbformat_minor": 2
}
