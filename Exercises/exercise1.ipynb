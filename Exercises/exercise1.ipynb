{
 "cells": [
  {
   "cell_type": "markdown",
   "metadata": {},
   "source": [
    "# if statements exercises\n",
    "\n",
    "---\n",
    "These are introductory exercises in Python with focus in **if** statement.\n",
    "\n",
    "<p class = \"alert alert-info\" role=\"alert\"><b>Remember</b> to use <b>descriptive variable names</b> in order to get readable code </p>\n",
    "\n",
    "<p class = \"alert alert-info\" role=\"alert\"><b>Remember</b> to format your answers in a neat way using <b>f-strings</b>\n",
    "\n",
    "<p class = \"alert alert-info\" role=\"alert\"><b>Remember</b> to format your input questions in a pedagogical way to guide the user\n",
    "\n",
    "The number of stars (\\*), (\\*\\*), (\\*\\*\\*) denotes the difficulty level of the task\n",
    "\n",
    "---"
   ]
  },
  {
   "cell_type": "markdown",
   "metadata": {},
   "source": [
    "## 1. Check sign (*)\n",
    "\n",
    "Ask the user to input a number and check if this number is **positive**, **negative** or **zero** and print it out."
   ]
  },
  {
   "cell_type": "code",
   "execution_count": 1,
   "metadata": {},
   "outputs": [
    {
     "name": "stdout",
     "output_type": "stream",
     "text": [
      "Entered number is 0\n"
     ]
    }
   ],
   "source": [
    "inputNumber = input(\"Enter a number: \")\n",
    "inputNumberInt = int(inputNumber)\n",
    "\n",
    "if inputNumberInt > 0:\n",
    "    print(f\"Entered number {inputNumber} is positive\")\n",
    "elif inputNumberInt < 0:\n",
    "    print(f\"Entered number {inputNumber} is negative\")\n",
    "else:\n",
    "    print(f\"Entered number is {inputNumber}\")\n"
   ]
  },
  {
   "cell_type": "markdown",
   "metadata": {},
   "source": [
    "---\n",
    "## 2. Smallest (*)\n",
    "Ask the user to input two numbers and check which one is the smallest and print it out.   "
   ]
  },
  {
   "cell_type": "code",
   "execution_count": 6,
   "metadata": {},
   "outputs": [
    {
     "name": "stdout",
     "output_type": "stream",
     "text": [
      "Both numbers 1 and 1 are equal\n"
     ]
    }
   ],
   "source": [
    "inputNumberA = input(\"Enter one number: \")\n",
    "inputNumberB = input(\"Enter another number: \")\n",
    "inputNumberAint = int(inputNumberA)\n",
    "inputNumberBint = int(inputNumberB)\n",
    "\n",
    "if inputNumberA < inputNumberB:\n",
    "    print(f\"The first input number {inputNumberA} is the smallest\")\n",
    "elif inputNumberA > inputNumberB:\n",
    "    print(f\"The second input number {inputNumberB} is the smallest\")\n",
    "else:\n",
    "    print(f\"Both numbers {inputNumberA} and {inputNumberB} are equal\")"
   ]
  },
  {
   "cell_type": "markdown",
   "metadata": {},
   "source": [
    "---\n",
    "## 3. Right angle (*)\n",
    "\n",
    "Ask the user to input three angles and check if the triangle has a right angle. Your code should make sure that all three angles are valid and make up a triangle."
   ]
  },
  {
   "cell_type": "code",
   "execution_count": 2,
   "metadata": {},
   "outputs": [
    {
     "name": "stdout",
     "output_type": "stream",
     "text": [
      "The triangle has a right angle\n"
     ]
    }
   ],
   "source": [
    "inputAngleA = int(input(\"Enter angle A of a triangle: \"))\n",
    "inputAngleB = int(input(\"Enter angle B of a triangle: \"))\n",
    "inputAngleC = int(input(\"Enter angle C of a triangle: \"))\n",
    "sumOfAngles = inputAngleA + inputAngleB + inputAngleC\n",
    "\n",
    "if sumOfAngles == 180:\n",
    "    if max(inputAngleA, inputAngleB, inputAngleC) == 90:\n",
    "        print(\"The triangle has a right angle\")\n",
    "    else:\n",
    "        print(\"The triangle has no right angle\")\n",
    "else:\n",
    "    print(f\"Enter the correct angles, the sum of all inputs is {sumOfAngles}, which is impossible for a triangle\")"
   ]
  },
  {
   "cell_type": "markdown",
   "metadata": {},
   "source": [
    "----\n",
    "## 4. Medicine (*)\n",
    "\n",
    "The information in the following table is stated in a medicine package. Also it is stated that for children weight is more important than age.\n",
    "\n",
    "<table align=\"left\">\n",
    "<thead>\n",
    "    <tr>\n",
    "        <th></th>\n",
    "        <th>Age</th>\n",
    "        <th>Number of pills</th>\n",
    "    </tr>\n",
    "</thead>\n",
    "\n",
    "<tbody>\n",
    "  <tr>\n",
    "    <td>Adults & adolescent <br>over 40 kg</td>\n",
    "    <td>over 12 years</td>\n",
    "    <td>1-2</td>\n",
    "  </tr>\n",
    "\n",
    "  <tr>\n",
    "    <td>Children 26-40 kg</td>\n",
    "    <td>7-12 years</td>\n",
    "    <td>1/2-1</td>\n",
    "  </tr>\n",
    "\n",
    "  <tr>\n",
    "    <td>Children 15-25 kg</td>\n",
    "    <td>3-7 years</td>\n",
    "    <td>1/2</td>\n",
    "  </tr>\n",
    "</tbody>\n",
    "</table>"
   ]
  },
  {
   "cell_type": "markdown",
   "metadata": {},
   "source": [
    "Let the user input an **age** and a **weight**, the program should recommend the number of pills for the user."
   ]
  },
  {
   "cell_type": "code",
   "execution_count": 3,
   "metadata": {},
   "outputs": [
    {
     "name": "stdout",
     "output_type": "stream",
     "text": [
      "Recommended dosage for age 10 and weight 30kg is 1/2 - 1 pill\n"
     ]
    }
   ],
   "source": [
    "age = int(input(\"Enter age: \"))\n",
    "weight = int(input(\"Enter weight (kg): \"))\n",
    "\n",
    "if age <= 12: # Outer if statement checks if children, or adult with >40 weight. Else is if it's an adult with weight <= 40.\n",
    "    if 15 <= weight <= 25: # Inner if statement checks weight of children rather than age, since weight is more important.\n",
    "        print(f\"Recommended dosage for age {age} and weight {weight}kg is 1/2 pill\")\n",
    "    elif 26 <= weight <= 40:\n",
    "        print(f\"Recommended dosage for age {age} and weight {weight}kg is 1/2 - 1 pill\")\n",
    "    else: # Children weight is <15 or >40.\n",
    "        print(f\"The input weight {weight}kg for children is not supported, contact a doctor\")\n",
    "elif age > 12 and weight > 40: # Adult with supported weight.\n",
    "    print(f\"Recommended dosage for adult/adolescent and weight {weight}kg is 1 - 2 pills\")\n",
    "else: # Adult with weight <40.\n",
    "    print(f\"The input weight {weight}kg is too low and not supported, contact a doctor\")"
   ]
  },
  {
   "cell_type": "markdown",
   "metadata": {},
   "source": [
    "---\n",
    "## 5. Divisible (*)\n",
    "Let the user input a number. Check if the number is\n",
    "<ol type=\"a\">\n",
    "  <li>even or odd</li>\n",
    "  <li>is divisible by 5</li>\n",
    "  <li>is divisble by 5 and odd</li>\n",
    "</ol> "
   ]
  },
  {
   "cell_type": "code",
   "execution_count": 20,
   "metadata": {},
   "outputs": [
    {
     "name": "stdout",
     "output_type": "stream",
     "text": [
      "1. Number is odd \n",
      "2. Number is divisible by 5\n",
      "3. Number is both odd and divisible by 5\n"
     ]
    }
   ],
   "source": [
    "inputNumberDivisible = int(input(\"Enter a number: \"))\n",
    "\n",
    "evenOrOdd = \"even\" if inputNumberDivisible % 2 == 0 else \"odd\"\n",
    "divisibleByFive = \"divisible by 5\" if inputNumberDivisible % 5 == 0 else \"not divisible by 5\"\n",
    "\n",
    "print(f\"1. Number is {evenOrOdd} \\n2. Number is {divisibleByFive}\")\n",
    "\n",
    "if evenOrOdd == \"odd\" and divisibleByFive == \"divisible by 5\":\n",
    "    print(\"3. Number is both odd and divisible by 5\")\n",
    "else:\n",
    "    print(\"3. Number is NOT both odd and divisible by 5\") # Could do an if statement in an f-string for the word 'NOT', but that made the code less readable in my opinion\n"
   ]
  },
  {
   "cell_type": "markdown",
   "metadata": {},
   "source": [
    "---\n",
    "## 6. Luggage size (*)\n",
    "\n",
    "The maximum allowed luggage size for boarding an airplane is: \n",
    "- weight: 8kg\n",
    "- dimensions: 55x40x23cm (length x width x height) \n",
    "\n",
    "Let the user input weight, length, width and height of the luggage. The program should check if the luggage is allowed or not."
   ]
  },
  {
   "cell_type": "code",
   "execution_count": 23,
   "metadata": {},
   "outputs": [
    {
     "name": "stdout",
     "output_type": "stream",
     "text": [
      "Luggage is not allowed\n"
     ]
    }
   ],
   "source": [
    "maxWeight = 8\n",
    "maxLength = 55\n",
    "maxWidth = 40\n",
    "maxHeight = 23\n",
    "\n",
    "inputWeight = float(input(\"Enter weight (kg): \"))\n",
    "inputLength = float(input(\"Enter length (cm): \"))\n",
    "inputWidth = float(input(\"Enter width (cm): \"))\n",
    "inputHeight = float(input(\"Enter height (cm): \"))\n",
    "\n",
    "if inputWeight <= maxWeight and inputLength <= maxLength and inputWidth <= maxWidth and inputHeight <= maxHeight:\n",
    "    isAllowed = 1\n",
    "else:\n",
    "    isAllowed = 0\n",
    "\n",
    "print(f\"Luggage is {'not ' if isAllowed == 0 else ''}allowed\")"
   ]
  }
 ],
 "metadata": {
  "kernelspec": {
   "display_name": "Python 3",
   "language": "python",
   "name": "python3"
  },
  "language_info": {
   "codemirror_mode": {
    "name": "ipython",
    "version": 3
   },
   "file_extension": ".py",
   "mimetype": "text/x-python",
   "name": "python",
   "nbconvert_exporter": "python",
   "pygments_lexer": "ipython3",
   "version": "3.9.5"
  },
  "orig_nbformat": 4
 },
 "nbformat": 4,
 "nbformat_minor": 2
}
