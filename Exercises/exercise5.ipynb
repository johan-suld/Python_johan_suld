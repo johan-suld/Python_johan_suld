{
 "cells": [
  {
   "cell_type": "markdown",
   "metadata": {},
   "source": [
    "# 1. Counting letters"
   ]
  },
  {
   "cell_type": "code",
   "execution_count": 51,
   "metadata": {},
   "outputs": [
    {
     "name": "stdout",
     "output_type": "stream",
     "text": [
      "a) Input word is 5 characters long\n",
      "b)\n",
      "Number of upper case letters: 2\n",
      "Number of lower case letters: 3\n"
     ]
    }
   ],
   "source": [
    "input_word = input(\"Enter a word:\")\n",
    "\n",
    "sum_upper = 0\n",
    "sum_lower = 0\n",
    "\n",
    "print(f\"a) Input word is {len(input_word)} characters long\")\n",
    "\n",
    "for char in input_word:\n",
    "    if char.isupper() == True:\n",
    "        sum_upper += 1\n",
    "    elif char.islower() == True:\n",
    "        sum_lower += 1\n",
    "    \n",
    "print(f\"b)\\nNumber of upper case letters: {sum_upper}\\nNumber of lower case letters: {sum_lower}\")"
   ]
  },
  {
   "cell_type": "markdown",
   "metadata": {},
   "source": [
    "# 2. Print names separately"
   ]
  },
  {
   "cell_type": "code",
   "execution_count": null,
   "metadata": {},
   "outputs": [],
   "source": []
  },
  {
   "cell_type": "markdown",
   "metadata": {},
   "source": [
    "# 3. Counting words"
   ]
  },
  {
   "cell_type": "code",
   "execution_count": 52,
   "metadata": {},
   "outputs": [
    {
     "name": "stdout",
     "output_type": "stream",
     "text": [
      "Number of words: 17\n"
     ]
    }
   ],
   "source": [
    "sentence = \"A picture says more than a thousand words, a matematical formula says more than a thousand pictures.\"\n",
    "\n",
    "words = sentence.split()\n",
    "\n",
    "print(f\"Number of words: {len(words)}\")"
   ]
  },
  {
   "cell_type": "markdown",
   "metadata": {},
   "source": [
    "# 4. Print words in reverse"
   ]
  },
  {
   "cell_type": "code",
   "execution_count": 56,
   "metadata": {},
   "outputs": [
    {
     "name": "stdout",
     "output_type": "stream",
     "text": [
      "a) b)\n",
      "Input sentence: Detta Är En Mening\n",
      "Sentence reversed: Mening en är detta "
     ]
    }
   ],
   "source": [
    "input_sentence = input(\"Enter a sentence:\")\n",
    "\n",
    "words_to_reverse = input_sentence.split()\n",
    "\n",
    "print(f\"a) b)\\nInput sentence: {input_sentence.title()}\\nSentence reversed: \", end=\"\")\n",
    "\n",
    "for i in range(1, len(words_to_reverse) + 1):\n",
    "    print(f'{words_to_reverse[-i].title() if i == 1 else words_to_reverse[-i]} ', end=\"\")\n"
   ]
  },
  {
   "cell_type": "markdown",
   "metadata": {},
   "source": [
    "# 5. Palindrome"
   ]
  },
  {
   "cell_type": "code",
   "execution_count": 58,
   "metadata": {},
   "outputs": [
    {
     "name": "stdout",
     "output_type": "stream",
     "text": [
      "Entered sequence Ni talar bra latin is a palindrome\n"
     ]
    }
   ],
   "source": [
    "input_chars = input(\"Enter a sequence of characters:\")\n",
    "\n",
    "input_chars_no_spaces = input_chars.replace(' ', '')\n",
    "\n",
    "input_chars_reversed = input_chars_no_spaces[::-1]\n",
    "\n",
    "if input_chars_no_spaces.lower() == input_chars_reversed.lower():\n",
    "    print(f'Entered sequence {input_chars} is a palindrome')\n",
    "else:\n",
    "    print(f'Entered sequence {input_chars} is not a palindrome')\n"
   ]
  },
  {
   "cell_type": "markdown",
   "metadata": {},
   "source": [
    "# 6. Vowels"
   ]
  },
  {
   "cell_type": "code",
   "execution_count": 59,
   "metadata": {},
   "outputs": [
    {
     "name": "stdout",
     "output_type": "stream",
     "text": [
      "Number of vowels in the sentence: 22\n"
     ]
    }
   ],
   "source": [
    "vowel_sentence = \"Pure mathematics is, in its way, the poetry of logical ideas\"\n",
    "\n",
    "vowels = \"aeiiouy\"\n",
    "\n",
    "sum_vowels = 0\n",
    "\n",
    "for char in vowel_sentence:\n",
    "    if char.lower() in vowels:\n",
    "        sum_vowels += 1\n",
    "\n",
    "print(f'Number of vowels in the sentence: {sum_vowels}')"
   ]
  },
  {
   "cell_type": "markdown",
   "metadata": {},
   "source": [
    "# 7. Rövarspråket"
   ]
  },
  {
   "cell_type": "code",
   "execution_count": 36,
   "metadata": {},
   "outputs": [
    {
     "name": "stdout",
     "output_type": "stream",
     "text": [
      "Sentence translated to rövarspråket: ahohejoj jojagog hohetoteror jojohohanon\n"
     ]
    }
   ],
   "source": [
    "input_to_translate = input('Enter a sentence:')\n",
    "\n",
    "consonants = 'BCDFGHJKLMNPQRSTVWXYZ'\n",
    "\n",
    "for char in input_to_translate:\n",
    "    if char.upper() in consonants:\n",
    "        input_translated = input_translated + char + 'o' + char\n",
    "    else:\n",
    "        input_translated = input_translated + char\n",
    "\n",
    "print(f'Sentence translated to rövarspråket: {input_translated}')"
   ]
  },
  {
   "cell_type": "markdown",
   "metadata": {},
   "source": [
    "# 8. Encryption"
   ]
  },
  {
   "cell_type": "code",
   "execution_count": 62,
   "metadata": {},
   "outputs": [
    {
     "name": "stdout",
     "output_type": "stream",
     "text": [
      "encrypted message: ifktbo\n"
     ]
    }
   ],
   "source": [
    "input_encrypt_decrypt = input('Enter a message:')\n",
    "encrypt_or_decrypt = input('Do you want to encrypt or decrypt it? (encrypt/decrypt)')\n",
    "\n",
    "alphabet = 'abcdefghijklmnopqrstuvwxyz'\n",
    "output = ''\n",
    "\n",
    "for char in input_encrypt_decrypt:\n",
    "    index_of_char = alphabet.find(char)\n",
    "\n",
    "    if encrypt_or_decrypt == 'encrypt':\n",
    "        output = output + alphabet[index_of_char + 1] if index_of_char != 25 else output + 'a'\n",
    "    elif encrypt_or_decrypt == 'decrypt':\n",
    "        output = output + alphabet[index_of_char - 1] if index_of_char != 0 else output + 'z'\n",
    "    else:\n",
    "        print('Invalid input, enter \"encrypt\" or \"decrypt\"')\n",
    "        break\n",
    "\n",
    "if encrypt_or_decrypt == 'encrypt' or encrypt_or_decrypt == 'decrypt':\n",
    "    print(f'{encrypt_or_decrypt}ed message: {output}')"
   ]
  }
 ],
 "metadata": {
  "kernelspec": {
   "display_name": "Python 3",
   "language": "python",
   "name": "python3"
  },
  "language_info": {
   "codemirror_mode": {
    "name": "ipython",
    "version": 3
   },
   "file_extension": ".py",
   "mimetype": "text/x-python",
   "name": "python",
   "nbconvert_exporter": "python",
   "pygments_lexer": "ipython3",
   "version": "3.11.5"
  },
  "orig_nbformat": 4
 },
 "nbformat": 4,
 "nbformat_minor": 2
}
