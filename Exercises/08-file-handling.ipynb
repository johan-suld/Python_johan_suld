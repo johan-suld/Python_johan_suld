{
 "cells": [
  {
   "cell_type": "markdown",
   "metadata": {},
   "source": [
    "# file handling exercises\n",
    "\n",
    "---\n",
    "These are introductory exercises in Python with focus in **file handling**.\n",
    "\n",
    "All files needed for these exercises can be found in the **files** folder in this repo. Clone the repo to access them.\n",
    "\n",
    "<p class = \"alert alert-info\" role=\"alert\"><b>Remember</b> to use <b>descriptive variable and function names</b> in order to get readable code </p>\n",
    "\n",
    "<p class = \"alert alert-info\" role=\"alert\"><b>Remember</b> to format your answers in a neat way using <b>f-strings</b>\n",
    "\n",
    "<p class = \"alert alert-info\" role=\"alert\"><b>Remember</b> to format your input questions in a pedagogical way to guide the user\n",
    "\n",
    "The number of stars (\\*), (\\*\\*), (\\*\\*\\*) denotes the difficulty level of the task\n",
    "\n",
    "---"
   ]
  },
  {
   "cell_type": "markdown",
   "metadata": {},
   "source": [
    "## 1. Dice rolls (*)\n",
    "Create a textfile called **dice_rolls.txt** using Python. Also for each subtask, write adequate headers. \n",
    "\n",
    "&nbsp; a) &nbsp; Simulate 20 dice rolls and write them to your textfile. (*)\n",
    "\n",
    "&nbsp; b) &nbsp; Sort the dice rolls from a) and write them to a separate row in the same textfile. (*)\n",
    "\n",
    "&nbsp; c) &nbsp; Count the number of fours in the dice rolls and write them to a separate row in the same textfile. (*)"
   ]
  },
  {
   "cell_type": "code",
   "execution_count": 9,
   "metadata": {},
   "outputs": [],
   "source": [
    "import random\n",
    "\n",
    "# a)\n",
    "dice_rolls = [random.randint(1, 6) for i in range(20)]\n",
    "\n",
    "with open('..\\\\data\\\\dice_rolls.txt', 'w') as file:\n",
    "    file.write(str(dice_rolls))\n",
    "\n",
    "# b)\n",
    "dice_rolls_sorted = sorted(dice_rolls)\n",
    "\n",
    "with open('..\\\\data\\\\dice_rolls.txt', 'a') as file:\n",
    "    file.write('\\n' + str(dice_rolls_sorted))\n",
    "\n",
    "# c)\n",
    "with open('..\\\\data\\\\dice_rolls.txt', 'a') as file:\n",
    "    file.write('\\nNumber of fours: ' + str(dice_rolls.count(4)))"
   ]
  },
  {
   "cell_type": "markdown",
   "metadata": {},
   "source": [
    "---\n",
    "## 2. Test results (*)\n",
    "Read in the file test_result.txt (located in the data folder of this repo) in Python.\n",
    "\n",
    "[test_result]: https://github.com/kokchun/Programmering-med-Python-21/blob/main/Files/test_result.txt\n",
    "\n",
    "&nbsp; a) &nbsp; Print out the text in the terminal (*)\n",
    "\n",
    "&nbsp; b) &nbsp; Create new rows in the same file and write the people and their corresponding scores in alphabetical order. (*)\n",
    "\n",
    "&nbsp; c) &nbsp; Create additional rows in the same file and sort the people after their grades. The grade limits are: (**)\n",
    "\n",
    "- F < 20\n",
    "- E: 20-29\n",
    "- D: 30-39\n",
    "- C: 40-49\n",
    "- B: 50-59\n",
    "- A: 60-70"
   ]
  },
  {
   "cell_type": "code",
   "execution_count": 7,
   "metadata": {},
   "outputs": [
    {
     "name": "stdout",
     "output_type": "stream",
     "text": [
      "Adam Gustafsson 25\n",
      "Emil Johansson 23\n",
      "Sven Erik Karlsson 13\n",
      "Ove Karlsten 41\n",
      "Emma Boden 32\n",
      "Ida HÃ¥kansson 23\n",
      "Ella Ester 41\n",
      "Hanna Karlsson 23\n",
      "Johan Johansson 42\n",
      "Sven Erik Lundin 39\n",
      "BjÃ¶rn BjÃ¶rnsson 39\n",
      "Karl Karlsson 32\n",
      "Bose Bosseson 32\n",
      "HÃ¥kan HÃ¥kanson 24\n",
      "Jonas Jonasson 31\n",
      "Erik Eriksson 31\n",
      "Gore Bord 55\n",
      "Jakob Kallander 65\n",
      "Fredrika Ulven 10\n",
      "\n"
     ]
    }
   ],
   "source": [
    "# a)\n",
    "with open('..\\\\data\\\\test_result.txt') as file:\n",
    "    r = file.read()\n",
    "    print(r)\n",
    "\n",
    "# b)\n",
    "with open('..\\\\data\\\\test_result.txt') as file:\n",
    "    r = file.readlines()\n",
    "\n",
    "with open('..\\\\data\\\\test_result.txt', 'a') as file:\n",
    "    r_sorted = sorted(r)\n",
    "\n",
    "    file.write('\\n\\n')\n",
    "    for line in r_sorted:\n",
    "        file.write(line)\n",
    "\n",
    "# c)\n",
    "grade_A = []\n",
    "grade_B = []\n",
    "grade_C = []\n",
    "grade_D = []\n",
    "grade_E = []\n",
    "grade_F = []\n",
    "\n",
    "def writeGrades(grades_list, grades_string):\n",
    "    with open('..\\\\data\\\\test_result.txt', 'a') as file:\n",
    "\n",
    "        file.write('\\n' + grades_string)\n",
    "        for student in grades_list:\n",
    "            file.write('\\n' + str(student[0]) + ' ' + str(student[1]))\n",
    "\n",
    "with open('..\\\\data\\\\test_result.txt') as file:\n",
    "\n",
    "    r = file.readlines()\n",
    "    r = [item.replace('\\n', '') for item in r]\n",
    "    r = r[:19]\n",
    "    \n",
    "    for student in r:\n",
    "\n",
    "        student = student.rsplit(' ', 1)\n",
    "        student[1] = int(student[1])\n",
    "        \n",
    "        if student[1] >= 60 and student[1] <= 70:\n",
    "            grade_A.append(student)\n",
    "        elif student[1] >= 50 and student[1] < 60:\n",
    "            grade_B.append(student)\n",
    "        elif student[1] >= 40 and student[1] < 50:\n",
    "            grade_C.append(student)\n",
    "        elif student[1] >= 30 and student[1] < 40:\n",
    "            grade_D.append(student)\n",
    "        elif student[1] >= 20 and student[1] < 30:\n",
    "            grade_E.append(student)\n",
    "        elif student[1] < 20:\n",
    "            grade_F.append(student)\n",
    "\n",
    "writeGrades(grade_F, 'Grade F:')\n",
    "writeGrades(grade_E, 'Grade E:')\n",
    "writeGrades(grade_D, 'Grade D:')\n",
    "writeGrades(grade_C, 'Grade C:')\n",
    "writeGrades(grade_B, 'Grade B:')\n",
    "writeGrades(grade_A, 'Grade A:')"
   ]
  },
  {
   "cell_type": "markdown",
   "metadata": {},
   "source": [
    "---\n",
    "## 3. National test (*)\n",
    "Read in the file NPvt19Ma2A.txt and NPvt19Ma2C.txt (located in the data folder of this repo) in Python. Use **matplotlib** to plot pie charts for each grade categories in each file. (*)"
   ]
  },
  {
   "cell_type": "code",
   "execution_count": 1,
   "metadata": {},
   "outputs": [
    {
     "data": {
      "image/png": "[encoded data removed]",
      "text/plain": [
       "<Figure size 640x480 with 2 Axes>"
      ]
     },
     "metadata": {},
     "output_type": "display_data"
    }
   ],
   "source": [
    "import matplotlib.pyplot as plt\n",
    "\n",
    "categories_A = []\n",
    "values_A = []\n",
    "categories_B = []\n",
    "values_B = []\n",
    "\n",
    "with open('..\\\\data\\\\NPvt19Ma2A.txt') as file:\n",
    "    r = file.readlines()\n",
    "\n",
    "    for line in r:\n",
    "        line = line.replace('%\\n', '').split(' ')\n",
    "        line[1] = float(line[1])\n",
    "        categories_A.append(line[0])\n",
    "        values_A.append(line[1])\n",
    "\n",
    "with open('..\\\\data\\\\NPvt19Ma2C.txt') as file:\n",
    "    r = file.readlines()\n",
    "    for line in r:\n",
    "        line = line.replace('% \\n', '')\n",
    "        line = line.replace('%\\n', '').split(' ')\n",
    "        line[1] = float(line[1])\n",
    "        categories_B.append(line[0])\n",
    "        values_B.append(line[1])\n",
    "\n",
    "fig, axs = plt.subplots(1, 2)\n",
    "axs[0].pie(values_A, labels=categories_A)\n",
    "axs[1].pie(values_B, labels=categories_B)\n",
    "axs[0].title.set_text('NPvt19Ma2A')\n",
    "axs[1].title.set_text('NPvt19Ma2C')"
   ]
  },
  {
   "cell_type": "markdown",
   "metadata": {},
   "source": [
    "---\n",
    "## 4. Pokemon list (*)\n",
    "Read in the file pokemon_list.txt in Python. Create a variable with name pokedex with the key:value \"pokemon\":\"type, index\". For example when searching for the keys \"Gengar\" and \"Pikachu\": (*)\n",
    "\n",
    "``` python\n",
    "print(pokedex[\"Gengar\"])\n",
    "print(pokedex[\"Pikachu\"])\n",
    "\n",
    "Spöke/Gift, 94\n",
    "Elektrisk, 25\n",
    "```"
   ]
  },
  {
   "cell_type": "code",
   "execution_count": 51,
   "metadata": {},
   "outputs": [
    {
     "name": "stdout",
     "output_type": "stream",
     "text": [
      "SpÃ¶ke/Gift, 94\n",
      "Elektrisk, 25\n"
     ]
    }
   ],
   "source": [
    "pokemon_list = []\n",
    "\n",
    "with open('..\\\\data\\\\pokemon_list.txt') as file:\n",
    "    r = file.readlines()\n",
    "\n",
    "    for line in r:\n",
    "        line = line.replace('\\n', '').split(' ')\n",
    "        pokemon_list.append(line)\n",
    "\n",
    "pokedex = {}\n",
    "\n",
    "for pokemon in pokemon_list:\n",
    "    pokedex[pokemon[1]] = pokemon[2] + ', ' + pokemon[0]\n",
    "\n",
    "print(pokedex['Gengar'])\n",
    "print(pokedex['Pikachu'])"
   ]
  },
  {
   "cell_type": "markdown",
   "metadata": {},
   "source": [
    "---\n",
    "## 5. Morse code (**)\n",
    "Read in the file morse.txt, save it in a dictionary and create a function that lets the user input a message to get it translated to morse code. For example (**)\n",
    "\n",
    "``` python\n",
    "print(morse(\"SOS\"))\n",
    "print(morse(\"POKEMON\"))\n",
    "```\n",
    "``` text\n",
    "...---...\n",
    ".------.-.------.\n",
    "```"
   ]
  },
  {
   "cell_type": "code",
   "execution_count": 67,
   "metadata": {},
   "outputs": [
    {
     "name": "stdout",
     "output_type": "stream",
     "text": [
      "python in morse is .---.---....----."
     ]
    }
   ],
   "source": [
    "morse_list = []\n",
    "\n",
    "with open('..\\\\data\\\\morse.txt') as file:\n",
    "    r = file.readlines()\n",
    "\n",
    "    for line in r:\n",
    "        line = line.replace('\\n', '').replace(':', '').split(' ')\n",
    "        morse_list.append(line)\n",
    "\n",
    "morse_dict = {}\n",
    "\n",
    "for letter in morse_list:\n",
    "    morse_dict[letter[0]] = letter[1]\n",
    "\n",
    "user_input = input('Enter a word to translate:')\n",
    "\n",
    "print(f'{user_input} in morse is ', end='')\n",
    "for i in user_input:\n",
    "    print(f'{morse_dict[i.upper()]}', end='')"
   ]
  },
  {
   "cell_type": "markdown",
   "metadata": {},
   "source": [
    "---\n",
    "## 6. Dice roll experiment (**)\n",
    "Simulate 10, 100, 1000, 10000, 100000 dice rolls and count the freqencies and probabilities for each number in each simulation. Create a new text file using Python with the name \"simulation.txt\" and write the results to that text file.(**)"
   ]
  },
  {
   "cell_type": "code",
   "execution_count": 72,
   "metadata": {},
   "outputs": [],
   "source": [
    "import random\n",
    "\n",
    "def simulationToFile(nbr_of_rolls):\n",
    "    rolls = []\n",
    "    for i in range(nbr_of_rolls):\n",
    "        rolls.append(random.randint(1, 6))\n",
    "\n",
    "    with open('..\\\\data\\\\simulation.txt', 'a') as file:\n",
    "        file.write(\n",
    "            f'''\\nNumber of rolls: {len(rolls)}\n",
    "Ones: {rolls.count(1)}, proportion: {rolls.count(1) / len(rolls)}\n",
    "Twos: {rolls.count(2)}, proportion: {rolls.count(2) / len(rolls)}\n",
    "Threes: {rolls.count(3)}, proportion: {rolls.count(3) / len(rolls)}\n",
    "Fours: {rolls.count(4)}, proportion: {rolls.count(4) / len(rolls)}\n",
    "Fives: {rolls.count(5)}, proportion: {rolls.count(5) / len(rolls)}\n",
    "Sixes: {rolls.count(6)}, proportion: {rolls.count(6) / len(rolls)}\n",
    "'''\n",
    "        )\n",
    "\n",
    "simulation_sizes = [10, 100, 1000, 10000, 100000]\n",
    "for size in simulation_sizes:\n",
    "    simulationToFile(size)"
   ]
  }
 ],
 "metadata": {
  "kernelspec": {
   "display_name": "Python_johan_suld-dVL6H7-r",
   "language": "python",
   "name": "python3"
  },
  "language_info": {
   "codemirror_mode": {
    "name": "ipython",
    "version": 3
   },
   "file_extension": ".py",
   "mimetype": "text/x-python",
   "name": "python",
   "nbconvert_exporter": "python",
   "pygments_lexer": "ipython3",
   "version": "3.9.5"
  },
  "orig_nbformat": 4
 },
 "nbformat": 4,
 "nbformat_minor": 2
}
