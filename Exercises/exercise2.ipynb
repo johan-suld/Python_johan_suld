{
 "cells": [
  {
   "cell_type": "markdown",
   "metadata": {},
   "source": [
    "# while statement exercises\n",
    "\n",
    "---\n",
    "These are introductory exercises in Python with focus in **while** statement.\n",
    "\n",
    "<p class = \"alert alert-info\" role=\"alert\"><b>Remember</b> to use <b>descriptive variable names</b> in order to get readable code </p>\n",
    "\n",
    "<p class = \"alert alert-info\" role=\"alert\"><b>Remember</b> to format your answers in a neat way using <b>f-strings</b>\n",
    "\n",
    "<p class = \"alert alert-info\" role=\"alert\"><b>Remember</b> to format your input questions in a pedagogical way to guide the user\n",
    "\n",
    "The number of stars (\\*), (\\*\\*), (\\*\\*\\*) denotes the difficulty level of the task\n",
    "\n",
    "---"
   ]
  },
  {
   "cell_type": "markdown",
   "metadata": {},
   "source": [
    "## 1. Count numbers (*)\n",
    "\n",
    "Use a **while** statement to count from -10 to 10 with one increment. "
   ]
  },
  {
   "cell_type": "code",
   "execution_count": 1,
   "metadata": {},
   "outputs": [
    {
     "name": "stdout",
     "output_type": "stream",
     "text": [
      "-10 -9 -8 -7 -6 -5 -4 -3 -2 -1 0 1 2 3 4 5 6 7 8 9 10 "
     ]
    }
   ],
   "source": [
    "counter = -10\n",
    "\n",
    "while counter <= 10:\n",
    "    print(counter, end=' ')\n",
    "    counter += 1"
   ]
  },
  {
   "cell_type": "markdown",
   "metadata": {},
   "source": [
    "--- \n",
    "## 2. Arithmetic sum (*)\n",
    "Use a **while** statement to compute the following sums: \n",
    "\n",
    "&nbsp; a) &nbsp; $\\text{sum} = 1 + 2 + \\ldots + 99+ 100$\n",
    "\n",
    "&nbsp; b) &nbsp; $\\text{sum} = 1 + 3 + 5 + \\ldots + 97 + 99$"
   ]
  },
  {
   "cell_type": "code",
   "execution_count": 3,
   "metadata": {},
   "outputs": [
    {
     "name": "stdout",
     "output_type": "stream",
     "text": [
      "a) sum = 5050\n",
      "b) sum = 2500\n"
     ]
    }
   ],
   "source": [
    "sumA = 0\n",
    "sumB = 0\n",
    "a_counter = 1\n",
    "b_counter = 1\n",
    "\n",
    "while a_counter <= 100:\n",
    "    sumA += a_counter\n",
    "    a_counter += 1\n",
    "\n",
    "while b_counter <= 99:\n",
    "    sumB += b_counter\n",
    "    b_counter += 2\n",
    "\n",
    "print(f\"a) sum = {sumA}\\nb) sum = {sumB}\")"
   ]
  },
  {
   "cell_type": "markdown",
   "metadata": {},
   "source": [
    "--- \n",
    "## 3. Guess number game (*)\n",
    "&nbsp; a) &nbsp; Create a guessing number game following this flow chart: "
   ]
  },
  {
   "cell_type": "markdown",
   "metadata": {},
   "source": [
    "&nbsp; b) &nbsp; Make an algorithm to automatically guess the correct number. Can you optimize to get as few guesses as possible? (**)"
   ]
  },
  {
   "cell_type": "code",
   "execution_count": 23,
   "metadata": {},
   "outputs": [
    {
     "name": "stdout",
     "output_type": "stream",
     "text": [
      "The algorithm got the correct answer! (32) Number of guesses: 4\n"
     ]
    }
   ],
   "source": [
    "import random\n",
    "\n",
    "gameRunningAsUser = 0\n",
    "gameRunningAsAlg = 0\n",
    "randomizedInt = random.randint(1, 100)\n",
    "guesses = 0\n",
    "\n",
    "userOrAlg = input(\"Do you want to play, or let the algorithm play? (user/alg)\")\n",
    "\n",
    "if userOrAlg == \"user\":\n",
    "    gameRunningAsUser = 1\n",
    "    answerFromUser = int(input(\"Guess the number (between 1 - 100): \"))\n",
    "elif userOrAlg == \"alg\":\n",
    "    gameRunningAsAlg = 1\n",
    "    answerFromAlg = 50\n",
    "else:\n",
    "    print(\"Wrong input\")\n",
    "\n",
    "# Game loop if a human player is selected\n",
    "while gameRunningAsUser == 1:\n",
    "    guesses += 1\n",
    "    if answerFromUser == randomizedInt:\n",
    "        print(f\"Congratulations, correct answer! Number of guesses: {guesses}\")\n",
    "        gameRunningAsUser = 0 # If correct answer, stop game loop\n",
    "    else:\n",
    "        clue = \"smaller\" if randomizedInt < answerFromUser else \"bigger\"\n",
    "        answerFromUser = int(input(f\"Wrong answer, the number is {clue}. Guess again\"))\n",
    "\n",
    "# Game loop if the algorithm is selected to play\n",
    "floorOfNumber = 1 # Lowest value of possible number, updated when clues are given\n",
    "ceilingOfNumber = 100 # Highest value of possible number, updated when clues are given\n",
    "while gameRunningAsAlg == 1:\n",
    "    guesses += 1\n",
    "    if answerFromAlg == randomizedInt:\n",
    "        print(f\"The algorithm got the correct answer! ({randomizedInt}) Number of guesses: {guesses}\")\n",
    "        gameRunningAsAlg = 0 # If correct answer, stop game loop\n",
    "    else:\n",
    "        clue = \"smaller\" if randomizedInt < answerFromAlg else \"bigger\"\n",
    "        if clue == \"smaller\":\n",
    "            ceilingOfNumber = answerFromAlg # Update highest possible answer if the actual number is smaller than last guess\n",
    "        else: \n",
    "            floorOfNumber = answerFromAlg # Update lowest possible answer if the actual number is higher than last guess\n",
    "        answerFromAlg = round(floorOfNumber + (ceilingOfNumber - floorOfNumber) / 2) # New guess, value in the middle of floor and ceiling\n"
   ]
  },
  {
   "cell_type": "markdown",
   "metadata": {},
   "source": [
    "--- \n",
    "## 4. Multiplication game (*)\n",
    "&nbsp; a) &nbsp; Create a multiplication game following this flow chart: "
   ]
  },
  {
   "cell_type": "markdown",
   "metadata": {},
   "source": [
    "&nbsp; b) &nbsp; Add a menu for choosing difficulty level of the game\n",
    "\n",
    "&nbsp; c) &nbsp; Feel free to extend this program with features of your choice."
   ]
  },
  {
   "cell_type": "code",
   "execution_count": 36,
   "metadata": {},
   "outputs": [
    {
     "name": "stdout",
     "output_type": "stream",
     "text": [
      "Please enter a valid amount of numbers to multiply\n"
     ]
    }
   ],
   "source": [
    "import random\n",
    "\n",
    "playing = 1\n",
    "score = 0\n",
    "\n",
    "# b) and c)\n",
    "difficulty = input(\"Choose difficulty (easy/medium/hard):\")\n",
    "factors = int(input(\"Choose how many numbers to multiply (2, 3, 4):\"))\n",
    "\n",
    "while playing == 1:\n",
    "\n",
    "    # Difficulty decides the highest possible value of the randomized factors\n",
    "    if difficulty == \"easy\":\n",
    "        highofInterval = 5\n",
    "    elif difficulty == \"medium\":\n",
    "        highofInterval = 10\n",
    "    elif difficulty == \"hard\":\n",
    "        highofInterval = 15\n",
    "    else:\n",
    "        playing = 0\n",
    "        print(\"Please enter a valid difficulty, play again\")\n",
    "        break\n",
    "\n",
    "    # Number of factors chosen by the player decides how many numbers to multiply (2-4)\n",
    "    x = random.randint(1, highofInterval)\n",
    "    y = random.randint(1, highofInterval)\n",
    "    z = random.randint(1, highofInterval)\n",
    "    a = random.randint(1, highofInterval)\n",
    "\n",
    "    if factors == 2:\n",
    "        product = x * y\n",
    "        userAnswer = input(f\"What is {x} * {y}?\")\n",
    "    elif factors == 3:\n",
    "        product = x * y * z\n",
    "        userAnswer = input(f\"What is {x} * {y} * {z}?\")\n",
    "    elif factors == 4:\n",
    "        product = x * y * z * a\n",
    "        userAnswer = input(f\"What is {x} * {y} * {z} * {a}?\")\n",
    "    elif factors < 2 or factors > 4:\n",
    "        playing = 0 # If incorrect number of factors, end the game loop\n",
    "        print(\"Please enter a valid amount of numbers to multiply\")\n",
    "        break\n",
    "\n",
    "    if int(userAnswer) == product:\n",
    "        playAgain = input(\"Correct, good work. Play again? (yes/no)\")\n",
    "        score += 1\n",
    "    else:\n",
    "        playAgain = input(f\"Incorrect, answer is {product}. Play again? (yes/no)\")\n",
    "\n",
    "    if playAgain == 'yes':\n",
    "        continue\n",
    "    else:\n",
    "        print(f\"Thanks for playing, your score: {score}\")\n",
    "        playing = 0 # If player chooses to end the game, end the game loop"
   ]
  },
  {
   "cell_type": "markdown",
   "metadata": {},
   "source": [
    "--- \n",
    "## 5. Check convergence (**)\n",
    "Use a while statement to compute the following sums: \n",
    "\n",
    "&nbsp; a) &nbsp; $\\text{sum} = 1 + \\frac{1}{2} + \\frac{1}{4} + \\frac{1}{8} + \\dots + \\frac{1}{2^n}$\n",
    "\n",
    "&nbsp; b) &nbsp; $\\text{sum} = 1 - \\frac{1}{3} + \\frac{1}{5} - \\frac{1}{7} + \\dots + \\frac{(-1)^n}{2n+1}$\n",
    "\n",
    "Try different values on $n$ to see which value it converges to."
   ]
  },
  {
   "cell_type": "code",
   "execution_count": 8,
   "metadata": {},
   "outputs": [
    {
     "name": "stdout",
     "output_type": "stream",
     "text": [
      "a) sum = 2.00000000\n",
      "b) sum = 0.79029965\n",
      "Enter high values of n to see what the sums converges to (a. 2 and b. π/4)\n"
     ]
    }
   ],
   "source": [
    "n = int(input(\"Enter n: \"))\n",
    "\n",
    "sumA = 0\n",
    "sumB = 0\n",
    "counterA = 0\n",
    "counterB = 0\n",
    "\n",
    "while counterA <= n:\n",
    "    sumA += 1 / 2 ** counterA\n",
    "    counterA += 1\n",
    "\n",
    "while counterB <= n:\n",
    "    sumB += (((-1) ** counterB) / (2 * counterB + 1))\n",
    "    counterB += 1\n",
    "\n",
    "print(f\"a) sum = {sumA:.8f}\\nb) sum = {sumB:.8f}\\nEnter high values of n to see approximately what the sums converges to (a. 2 and b. π/4)\")\n"
   ]
  }
 ],
 "metadata": {
  "kernelspec": {
   "display_name": "Python 3",
   "language": "python",
   "name": "python3"
  },
  "language_info": {
   "codemirror_mode": {
    "name": "ipython",
    "version": 3
   },
   "file_extension": ".py",
   "mimetype": "text/x-python",
   "name": "python",
   "nbconvert_exporter": "python",
   "pygments_lexer": "ipython3",
   "version": "3.11.5"
  },
  "orig_nbformat": 4
 },
 "nbformat": 4,
 "nbformat_minor": 2
}
