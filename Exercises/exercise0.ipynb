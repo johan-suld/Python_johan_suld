{
 "cells": [
  {
   "cell_type": "markdown",
   "metadata": {},
   "source": [
    "# 1. Pythagorean theorem"
   ]
  },
  {
   "cell_type": "code",
   "execution_count": 11,
   "metadata": {},
   "outputs": [
    {
     "name": "stdout",
     "output_type": "stream",
     "text": [
      "a) 5 \n",
      "b) 4.9\n"
     ]
    }
   ],
   "source": [
    "import math\n",
    "\n",
    "# A\n",
    "a_a = 3\n",
    "a_b = 4\n",
    "a_c = math.sqrt(a_a ** 2 + a_b ** 2)\n",
    "\n",
    "# B\n",
    "b_c = 7\n",
    "b_a = 5\n",
    "b_b = math.sqrt(b_c**2 - b_a**2)\n",
    "\n",
    "print(f\"a) {a_c:.0f} \\nb) {b_b:.1f}\")"
   ]
  },
  {
   "cell_type": "markdown",
   "metadata": {},
   "source": [
    "# 2. Classification accuracy"
   ]
  },
  {
   "cell_type": "code",
   "execution_count": 13,
   "metadata": {},
   "outputs": [
    {
     "name": "stdout",
     "output_type": "stream",
     "text": [
      "82.2%\n"
     ]
    }
   ],
   "source": [
    "predictions = 365\n",
    "correct = 300\n",
    "\n",
    "accuracy = correct / predictions\n",
    "\n",
    "print(f\"{accuracy:.1%}\")"
   ]
  },
  {
   "cell_type": "markdown",
   "metadata": {},
   "source": [
    "# 3. Classification accuracy"
   ]
  },
  {
   "cell_type": "code",
   "execution_count": 14,
   "metadata": {},
   "outputs": [
    {
     "name": "stdout",
     "output_type": "stream",
     "text": [
      "Is this a good model? \n",
      " There was an actual fire 13 times (TP + FN), but the model predicted only 2 of them. \n",
      " For somthing as serious as fire breakouts, 2 out of 13 is too low for a model to be good in my opinion. \n",
      " The total accuracy of the model is close to 1 (0.987) but you would get close to 1 with a model which always predict No fire, \n",
      " since most of the time there are no fires.\n",
      "Accuracy of the model: 98.7%\n"
     ]
    }
   ],
   "source": [
    "TP = 2\n",
    "FP = 2\n",
    "FN = 11\n",
    "TN = 985\n",
    "\n",
    "accuracy = (TP + TN) / (TP + TN + FP + FN)\n",
    "\n",
    "print(\"Is this a good model? \\n There was an actual fire 13 times (TP + FN), but the model predicted only 2 of them. \\n For somthing as serious as fire breakouts, 2 out of 13 is too low for a model to be good in my opinion. \\n The total accuracy of the model is close to 1 (0.987) but you would get close to 1 with a model which always predict No fire, \\n since most of the time there are no fires.\")\n",
    "\n",
    "print(f\"Accuracy of the model: {accuracy:.1%}\")"
   ]
  },
  {
   "cell_type": "markdown",
   "metadata": {},
   "source": [
    "# 4. Line"
   ]
  },
  {
   "cell_type": "code",
   "execution_count": 17,
   "metadata": {},
   "outputs": [
    {
     "name": "stdout",
     "output_type": "stream",
     "text": [
      "k = 0.75 \n",
      "m = 1 \n",
      "The equation is y = 0.75x + 1\n"
     ]
    }
   ],
   "source": [
    "y1 = 4\n",
    "y2 = 1\n",
    "x1 = 4\n",
    "x2 = 0\n",
    "k = (y2 - y1) / (x2 - x1)\n",
    "m = 1 # In the graph the line intercepts the y-axis at y = 1\n",
    "\n",
    "print(f\"k = {k} \\nm = {m} \\nThe equation is y = 0.75x + 1\")"
   ]
  },
  {
   "cell_type": "markdown",
   "metadata": {},
   "source": [
    "# 5. Euclidean distance"
   ]
  },
  {
   "cell_type": "code",
   "execution_count": 18,
   "metadata": {},
   "outputs": [
    {
     "name": "stdout",
     "output_type": "stream",
     "text": [
      "distance = 5.1\n"
     ]
    }
   ],
   "source": [
    "x1 = 3\n",
    "x2 = -2\n",
    "y1 = 5\n",
    "y2 = 4\n",
    "\n",
    "distance = math.sqrt((x2 - x1) ** 2 + (y2 - y1) ** 2)\n",
    "\n",
    "print(f\"distance = {distance:.1f}\")"
   ]
  },
  {
   "cell_type": "markdown",
   "metadata": {},
   "source": [
    "# 6. Euclidean distance in 3D"
   ]
  },
  {
   "cell_type": "code",
   "execution_count": 19,
   "metadata": {},
   "outputs": [
    {
     "name": "stdout",
     "output_type": "stream",
     "text": [
      "distance = 4.12\n"
     ]
    }
   ],
   "source": [
    "p1 = 2\n",
    "p2 = 1\n",
    "p3 = 4\n",
    "q1 = 3\n",
    "q2 = 1\n",
    "q3 = 0\n",
    "\n",
    "d = math.sqrt((p1 - q1)**2 + (p2 - q2)**2 + (p3 - q3)**2)\n",
    "\n",
    "print(f\"distance = {d:.2f}\")"
   ]
  }
 ],
 "metadata": {
  "kernelspec": {
   "display_name": "Python 3",
   "language": "python",
   "name": "python3"
  },
  "language_info": {
   "codemirror_mode": {
    "name": "ipython",
    "version": 3
   },
   "file_extension": ".py",
   "mimetype": "text/x-python",
   "name": "python",
   "nbconvert_exporter": "python",
   "pygments_lexer": "ipython3",
   "version": "3.11.5"
  },
  "orig_nbformat": 4
 },
 "nbformat": 4,
 "nbformat_minor": 2
}
