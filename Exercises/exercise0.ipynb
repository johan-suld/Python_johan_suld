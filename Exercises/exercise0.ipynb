{
 "cells": [
  {
   "cell_type": "markdown",
   "metadata": {},
   "source": [
    "# 1. Pythagorean theorem"
   ]
  },
  {
   "cell_type": "code",
   "execution_count": 25,
   "metadata": {},
   "outputs": [
    {
     "name": "stdout",
     "output_type": "stream",
     "text": [
      "a) 7\n",
      "b) 4.9\n"
     ]
    }
   ],
   "source": [
    "import math\n",
    "\n",
    "# A\n",
    "a = 3\n",
    "b = 4\n",
    "c = math.sqrt(a**2 + b**2)\n",
    "\n",
    "# B\n",
    "c = 7\n",
    "a = 5\n",
    "b = round(math.sqrt(c**2 - a**2), 1)\n",
    "\n",
    "print(\"a) \" + str(c) + \"\\n\" \n",
    "      + \"b) \" + str(b))"
   ]
  },
  {
   "cell_type": "markdown",
   "metadata": {},
   "source": [
    "# 2. Classification accuracy"
   ]
  },
  {
   "cell_type": "code",
   "execution_count": 26,
   "metadata": {},
   "outputs": [
    {
     "name": "stdout",
     "output_type": "stream",
     "text": [
      "0.821917808219178\n"
     ]
    }
   ],
   "source": [
    "predictions = 365\n",
    "correct = 300\n",
    "\n",
    "accuracy = correct / predictions\n",
    "\n",
    "print(accuracy)"
   ]
  },
  {
   "cell_type": "markdown",
   "metadata": {},
   "source": [
    "# 3. Classification accuracy"
   ]
  },
  {
   "cell_type": "code",
   "execution_count": 27,
   "metadata": {},
   "outputs": [
    {
     "name": "stdout",
     "output_type": "stream",
     "text": [
      "Is this a good model? \n",
      " There was an actual fire 13 times (TP + FN), but the model predicted only 2 of them. \n",
      " For somthing as serious as fire breakouts, 2 out of 13 is too low for a model to be good in my opinion. \n",
      " The total accuracy of the model is close to 1 (0.987) but you would get close to 1 with a model which always predict No fire, \n",
      " since most of the time there are no fires.\n",
      "Accuracy of the model. 0.987\n"
     ]
    }
   ],
   "source": [
    "TP = 2\n",
    "FP = 2\n",
    "FN = 11\n",
    "TN = 985\n",
    "\n",
    "accuracy = (TP + TN) / (TP + TN + FP + FN)\n",
    "\n",
    "print(\"Is this a good model? \\n There was an actual fire 13 times (TP + FN), but the model predicted only 2 of them. \\n For somthing as serious as fire breakouts, 2 out of 13 is too low for a model to be good in my opinion. \\n The total accuracy of the model is close to 1 (0.987) but you would get close to 1 with a model which always predict No fire, \\n since most of the time there are no fires.\")\n",
    "\n",
    "print(\"Accuracy of the model. \" + str(accuracy))"
   ]
  },
  {
   "cell_type": "markdown",
   "metadata": {},
   "source": [
    "# 4. Line"
   ]
  },
  {
   "cell_type": "code",
   "execution_count": 28,
   "metadata": {},
   "outputs": [
    {
     "name": "stdout",
     "output_type": "stream",
     "text": [
      "k = 0.75\n",
      " m = 1\n"
     ]
    }
   ],
   "source": [
    "y1 = 4\n",
    "y2 = 1\n",
    "x1 = 4\n",
    "x2 = 0\n",
    "k = (y2 - y1) / (x2 - x1)\n",
    "m = 1 # In the graph the line intercepts the y-axis at y = 1\n",
    "\n",
    "print(\"k = \" + str(k) + \"\\n m = \" + str(m))"
   ]
  },
  {
   "cell_type": "markdown",
   "metadata": {},
   "source": [
    "# 5. Euclidean distance"
   ]
  },
  {
   "cell_type": "code",
   "execution_count": 29,
   "metadata": {},
   "outputs": [
    {
     "name": "stdout",
     "output_type": "stream",
     "text": [
      "distance = 5.0990195135927845\n"
     ]
    }
   ],
   "source": [
    "x1 = 3\n",
    "x2 = -2\n",
    "y1 = 5\n",
    "y2 = 4\n",
    "\n",
    "distance = math.sqrt((x2 - x1)**2 + (y2 - y1)**2)\n",
    "\n",
    "print(\"distance = \" + str(distance))"
   ]
  },
  {
   "cell_type": "markdown",
   "metadata": {},
   "source": [
    "# 6. Euclidean distance in 3D"
   ]
  },
  {
   "cell_type": "code",
   "execution_count": 30,
   "metadata": {},
   "outputs": [
    {
     "name": "stdout",
     "output_type": "stream",
     "text": [
      "distance = 4.123105625617661\n"
     ]
    }
   ],
   "source": [
    "p1 = 2\n",
    "p2 = 1\n",
    "p3 = 4\n",
    "q1 = 3\n",
    "q2 = 1\n",
    "q3 = 0\n",
    "\n",
    "d = math.sqrt((p1 - q1)**2 + (p2 - q2)**2 + (p3 - q3)**2)\n",
    "\n",
    "print(\"distance = \" + str(d))"
   ]
  }
 ],
 "metadata": {
  "kernelspec": {
   "display_name": "Python 3",
   "language": "python",
   "name": "python3"
  },
  "language_info": {
   "codemirror_mode": {
    "name": "ipython",
    "version": 3
   },
   "file_extension": ".py",
   "mimetype": "text/x-python",
   "name": "python",
   "nbconvert_exporter": "python",
   "pygments_lexer": "ipython3",
   "version": "3.11.5"
  },
  "orig_nbformat": 4
 },
 "nbformat": 4,
 "nbformat_minor": 2
}
