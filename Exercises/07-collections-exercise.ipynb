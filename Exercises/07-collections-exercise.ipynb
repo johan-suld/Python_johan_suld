{
 "cells": [
  {
   "cell_type": "markdown",
   "metadata": {},
   "source": [
    "# Collections exercises\n",
    "\n",
    "---\n",
    "These are introductory exercises in Python with focus on **Collections** (list, dictionary, set).\n",
    "\n",
    "<p class = \"alert alert-info\" role=\"alert\"><b>List</b> is a collection of items which are ordered and changeable. Allows duplicate members.</p>\n",
    "\n",
    "<p class = \"alert alert-info\" role=\"alert\"><b>Dictionary</b> is a collection of key-value-pairs which are ordered and changeable. No duplicate keys.</p>\n",
    "\n",
    "<p class = \"alert alert-info\" role=\"alert\"><b>Set</b> is a collection of items which is unordered, unchangeable*, and unindexed. No duplicate members.</p>\n",
    "\n",
    "The number of stars (\\*), (\\*\\*), (\\*\\*\\*) denotes the difficulty level of the task\n",
    "\n",
    "---"
   ]
  },
  {
   "cell_type": "markdown",
   "metadata": {},
   "source": [
    "## 1. Print inputed values in reverse (*)\n",
    "\n",
    "Create a loop that keeps asking for user input until the user inputs an empty string, then print all inputs in reverse order."
   ]
  },
  {
   "cell_type": "code",
   "execution_count": 96,
   "metadata": {},
   "outputs": [
    {
     "name": "stdout",
     "output_type": "stream",
     "text": [
      "e d c b a "
     ]
    }
   ],
   "source": [
    "inputs = []\n",
    "\n",
    "while True:\n",
    "    user_input = input(\"Enter input until you enter an empty value:\")\n",
    "\n",
    "    if not user_input:\n",
    "        break\n",
    "\n",
    "    inputs.append(user_input)\n",
    "\n",
    "for i in reversed(inputs):\n",
    "    print(i, end=' ')"
   ]
  },
  {
   "cell_type": "markdown",
   "metadata": {},
   "source": [
    "---\n",
    "\n",
    "## 2. Print a given number using words. (*)\n",
    "\n",
    "Create a dictionary with 10 key-value pairs: {\"0\": \"Zero\", \"1\": \"One\", ..., \"9\": \"Nine\"}\n",
    "\n",
    "Make the program ask the user to input a number, then print the word for each number in sequence;"
   ]
  },
  {
   "cell_type": "code",
   "execution_count": 9,
   "metadata": {},
   "outputs": [
    {
     "name": "stdout",
     "output_type": "stream",
     "text": [
      "Input: 34507\n",
      "Output: Three-Four-Five-Zero-Seven"
     ]
    }
   ],
   "source": [
    "numbers_dict = {\n",
    "    '0': 'Zero',\n",
    "    '1': 'One',\n",
    "    '2': 'Two',\n",
    "    '3': 'Three',\n",
    "    '4': 'Four',\n",
    "    '5': 'Five',\n",
    "    '6': 'Six',\n",
    "    '7': 'Seven',\n",
    "    '8': 'Eight',\n",
    "    '9': 'Nine'\n",
    "}\n",
    "\n",
    "user_input = input(\"Enter an integer:\")\n",
    "\n",
    "print(f'Input: {user_input}')\n",
    "print('Output: ', end='')\n",
    "\n",
    "c = 0\n",
    "for i in user_input:\n",
    "    print(numbers_dict[i], end=f'{\"\" if c == len(user_input) - 1 else \"-\"}')\n",
    "    c += 1\n"
   ]
  },
  {
   "cell_type": "markdown",
   "metadata": {},
   "source": [
    "---\n",
    "## 3. Glossary training program (*)\n",
    "\n",
    "Create a glossary training program, where the user can test their skills on translating the names of english colors to swedish:\n",
    "\n",
    "- The program should ask the user to write a color in swedish (eg. \"Type the Swedish word for 'red': )\n",
    "\n",
    "- Then let the user know if it was correct (and if not, show them the correct translation)\n",
    "\n",
    "- Keep asking to translate random colors until the user inputs an blank answer (\"\")\n",
    "\n",
    "- Lastly let the user know how many of their translations where correct, how many they guess in total, and the ratio of correct answer (eg. \"You got 3 out of 5 correct answers. That is 60%\")"
   ]
  },
  {
   "cell_type": "code",
   "execution_count": 2,
   "metadata": {},
   "outputs": [
    {
     "name": "stdout",
     "output_type": "stream",
     "text": [
      "Correct!\n",
      "Correct!\n",
      "Incorrect, the answer is vit\n",
      "Incorrect, the answer is blå\n",
      "Correct!\n",
      "You got 3 out of 5. That is 60.0% correct.\n"
     ]
    }
   ],
   "source": [
    "import random\n",
    "\n",
    "colors_dict = {\n",
    "    'red': 'röd',\n",
    "    'blue': 'blå',\n",
    "    'black': 'svart',\n",
    "    'white': 'vit',\n",
    "    'green': 'grön'\n",
    "}\n",
    "\n",
    "colors_list = [key for key in colors_dict]\n",
    "\n",
    "sum_answers = 0\n",
    "sum_correct = 0\n",
    "\n",
    "while True:\n",
    "    random_color = random.choice(colors_list)\n",
    "\n",
    "    answer = input(f'Type the Swedish word for \"{random_color}\"')\n",
    "\n",
    "    if not answer:\n",
    "        break\n",
    "\n",
    "    sum_answers += 1\n",
    "\n",
    "    if answer == colors_dict[random_color]:\n",
    "        sum_correct += 1\n",
    "        print('Correct!')\n",
    "    else:\n",
    "        print(f'Incorrect, the answer is {colors_dict[random_color]}')\n",
    "\n",
    "print(f'You got {sum_correct} out of {sum_answers}. That is {round((sum_correct / sum_answers * 100), 1)}% correct.')"
   ]
  },
  {
   "cell_type": "markdown",
   "metadata": {},
   "source": [
    "---\n",
    "## 4. Find common values between two inputs (*)\n",
    "\n",
    "Ask the user to input items on a comma-seperated list (1 input string)\n",
    "\n",
    "Then ask the user to input a new string of comma seperated items.\n",
    "\n",
    "Lastly, print all the items that appeared in both lists."
   ]
  },
  {
   "cell_type": "code",
   "execution_count": 8,
   "metadata": {},
   "outputs": [
    {
     "name": "stdout",
     "output_type": "stream",
     "text": [
      "Input A: grå, gul, vit, röd, svart\n",
      "Input A: grå, gul, lila, röd, orange\n",
      "Colors included in both inputs: grå, röd, gul"
     ]
    }
   ],
   "source": [
    "input_string1 = input(\"Enter a colors, separated with ', '\")\n",
    "input_string2 = input(\"Enter a colors again, separated with ', '\")\n",
    "\n",
    "input_set1 = set(input_string1.split(', '))\n",
    "input_set2 = set(input_string2.split(', '))\n",
    "intersection = input_set1.intersection(input_set2)\n",
    "\n",
    "print('Input A: ', end='')\n",
    "c = 0\n",
    "for i in input_set1:\n",
    "    print(i, end=f'{\"\" if c == len(input_set1) - 1 else \", \"}')\n",
    "    c += 1\n",
    "\n",
    "print('\\nInput A: ', end='')\n",
    "c = 0\n",
    "for j in input_set2:\n",
    "    print(j, end=f'{\"\" if c == len(input_set2) - 1 else \", \"}')\n",
    "    c += 1\n",
    "\n",
    "print('\\nColors included in both inputs: ', end='')\n",
    "c = 0\n",
    "for color in intersection:\n",
    "    print(color, end=f'{\"\" if c == len(intersection) - 1 else \", \"}')\n",
    "    c += 1"
   ]
  },
  {
   "cell_type": "markdown",
   "metadata": {},
   "source": [
    "---\n",
    "\n",
    "## 5. Print a given number using words (version 2). (**)\n",
    "\n",
    "Make the program ask the user to input any number from 0 to 99999.\n",
    "\n",
    "The program should then print out the full sequence of words for the number.\n",
    "\n",
    "*Not done...*"
   ]
  },
  {
   "cell_type": "code",
   "execution_count": 12,
   "metadata": {},
   "outputs": [
    {
     "name": "stdout",
     "output_type": "stream",
     "text": [
      "eightyfive thousand three hundred sixty eight\n"
     ]
    }
   ],
   "source": [
    "numbers_dict = {\n",
    "    '0': '',\n",
    "    '1': 'one',\n",
    "    '2': 'two',\n",
    "    '3': 'three',\n",
    "    '4': 'four',\n",
    "    '5': 'five',\n",
    "    '6': 'six',\n",
    "    '7': 'seven',\n",
    "    '8': 'eight',\n",
    "    '9': 'nine',\n",
    "    '10': 'ten',\n",
    "    '11': 'eleven',\n",
    "    '12': 'twelve',\n",
    "    '13': 'thirteen',\n",
    "    '14': 'fourteen',\n",
    "    '15': 'fifteen',\n",
    "    '16': 'sixteen',\n",
    "    '17': 'seventeen',\n",
    "    '18': 'eighteen',\n",
    "    '19': 'nineteen',\n",
    "}\n",
    "\n",
    "numbers_tens_dict = {\n",
    "    '0': 'and',\n",
    "    '2': 'twenty',\n",
    "    '3': 'thirty',\n",
    "    '4': 'fourty',\n",
    "    '5': 'fifty',\n",
    "    '6': 'sixty',\n",
    "    '7': 'seventy',\n",
    "    '8': 'eighty',\n",
    "    '9': 'ninety'\n",
    "}\n",
    "\n",
    "user_input = input(\"Enter an integer between 10000 and 99999:\")\n",
    "\n",
    "counter = 0\n",
    "for i in user_input:\n",
    "    if counter == 0:\n",
    "        s = i + user_input[counter + 1]\n",
    "        if i == '1':\n",
    "            print(numbers_dict[s] + ' thousand', end=' ')\n",
    "            counter += 1\n",
    "        else:\n",
    "            print(numbers_tens_dict[i] + numbers_dict[s[1]] + ' thousand', end = ' ')\n",
    "            counter += 1\n",
    "    elif counter == 1:\n",
    "        counter += 1\n",
    "    elif counter == 2:\n",
    "        print(numbers_dict[i] + ' hundred', end=' ')\n",
    "        counter += 1\n",
    "    elif counter == 3:\n",
    "        s = i + user_input[counter + 1]\n",
    "        if i == '1':\n",
    "            print(numbers_dict[s])\n",
    "            counter += 1\n",
    "        else:\n",
    "            print(numbers_tens_dict[i] + ' ' + numbers_dict[s[1]])\n",
    "            counter += 1"
   ]
  }
 ],
 "metadata": {
  "kernelspec": {
   "display_name": "Python_johan_suld-dVL6H7-r",
   "language": "python",
   "name": "python3"
  },
  "language_info": {
   "codemirror_mode": {
    "name": "ipython",
    "version": 3
   },
   "file_extension": ".py",
   "mimetype": "text/x-python",
   "name": "python",
   "nbconvert_exporter": "python",
   "pygments_lexer": "ipython3",
   "version": "3.11.5"
  },
  "orig_nbformat": 4
 },
 "nbformat": 4,
 "nbformat_minor": 2
}
